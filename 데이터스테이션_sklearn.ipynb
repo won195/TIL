{
  "nbformat": 4,
  "nbformat_minor": 0,
  "metadata": {
    "colab": {
      "provenance": [],
      "mount_file_id": "1ojDEdHmalcX_n8YO8C57EzGQIV56ErGR",
      "authorship_tag": "ABX9TyPzQndxrcaAdqqH0JwUQA60",
      "include_colab_link": true
    },
    "kernelspec": {
      "name": "python3",
      "display_name": "Python 3"
    },
    "language_info": {
      "name": "python"
    }
  },
  "cells": [
    {
      "cell_type": "markdown",
      "metadata": {
        "id": "view-in-github",
        "colab_type": "text"
      },
      "source": [
        "<a href=\"https://colab.research.google.com/github/won195/TIL/blob/master/%EB%8D%B0%EC%9D%B4%ED%84%B0%EC%8A%A4%ED%85%8C%EC%9D%B4%EC%85%98_sklearn.ipynb\" target=\"_parent\"><img src=\"https://colab.research.google.com/assets/colab-badge.svg\" alt=\"Open In Colab\"/></a>"
      ]
    },
    {
      "cell_type": "code",
      "execution_count": 1,
      "metadata": {
        "id": "8gQDsT8fry04"
      },
      "outputs": [],
      "source": [
        "import pandas as pd"
      ]
    },
    {
      "cell_type": "code",
      "source": [
        "df1 = pd.read_csv('/content/drive/MyDrive/python/데이터스테이션/data/Data06.csv')\n",
        "df1.head()"
      ],
      "metadata": {
        "colab": {
          "base_uri": "https://localhost:8080/",
          "height": 424
        },
        "id": "mBlMDEZVyus-",
        "outputId": "3374fc1c-57df-4115-fcfd-e75ab2fd6913"
      },
      "execution_count": 3,
      "outputs": [
        {
          "output_type": "execute_result",
          "data": {
            "text/plain": [
              "         회원번호 조합원상태 주소-구  주소-동 성별    연령    연령대    총구매금액  총구매수량  1회방문시구매금액(평균)  \\\n",
              "0   272369856  정상회원  수지구  풍덕천동  여  45.0    40대  5733884  546.5          47782   \n",
              "1  1506656256  정상회원  수지구  풍덕천동  여  36.0  30대이하   673414   90.0          35443   \n",
              "2  1476143616  정상회원  수지구  풍덕천동  여  34.0  30대이하   655919   66.0          46851   \n",
              "3   716128320  정상회원  수지구  풍덕천동  여  51.0    50대  2984534  252.1          48138   \n",
              "4   743192512  정상회원  수지구   성복동  여  51.0    50대  1901488  152.0         158457   \n",
              "\n",
              "  배송서비스신청여부 모바일알람여부 Gold_member  \n",
              "0       미신청      수신         VIP  \n",
              "1       미신청       .      normal  \n",
              "2       미신청       .      normal  \n",
              "3       미신청       .      normal  \n",
              "4        신청       .      normal  "
            ],
            "text/html": [
              "\n",
              "  <div id=\"df-af36a65f-2875-4542-9b44-7f0d91eae524\">\n",
              "    <div class=\"colab-df-container\">\n",
              "      <div>\n",
              "<style scoped>\n",
              "    .dataframe tbody tr th:only-of-type {\n",
              "        vertical-align: middle;\n",
              "    }\n",
              "\n",
              "    .dataframe tbody tr th {\n",
              "        vertical-align: top;\n",
              "    }\n",
              "\n",
              "    .dataframe thead th {\n",
              "        text-align: right;\n",
              "    }\n",
              "</style>\n",
              "<table border=\"1\" class=\"dataframe\">\n",
              "  <thead>\n",
              "    <tr style=\"text-align: right;\">\n",
              "      <th></th>\n",
              "      <th>회원번호</th>\n",
              "      <th>조합원상태</th>\n",
              "      <th>주소-구</th>\n",
              "      <th>주소-동</th>\n",
              "      <th>성별</th>\n",
              "      <th>연령</th>\n",
              "      <th>연령대</th>\n",
              "      <th>총구매금액</th>\n",
              "      <th>총구매수량</th>\n",
              "      <th>1회방문시구매금액(평균)</th>\n",
              "      <th>배송서비스신청여부</th>\n",
              "      <th>모바일알람여부</th>\n",
              "      <th>Gold_member</th>\n",
              "    </tr>\n",
              "  </thead>\n",
              "  <tbody>\n",
              "    <tr>\n",
              "      <th>0</th>\n",
              "      <td>272369856</td>\n",
              "      <td>정상회원</td>\n",
              "      <td>수지구</td>\n",
              "      <td>풍덕천동</td>\n",
              "      <td>여</td>\n",
              "      <td>45.0</td>\n",
              "      <td>40대</td>\n",
              "      <td>5733884</td>\n",
              "      <td>546.5</td>\n",
              "      <td>47782</td>\n",
              "      <td>미신청</td>\n",
              "      <td>수신</td>\n",
              "      <td>VIP</td>\n",
              "    </tr>\n",
              "    <tr>\n",
              "      <th>1</th>\n",
              "      <td>1506656256</td>\n",
              "      <td>정상회원</td>\n",
              "      <td>수지구</td>\n",
              "      <td>풍덕천동</td>\n",
              "      <td>여</td>\n",
              "      <td>36.0</td>\n",
              "      <td>30대이하</td>\n",
              "      <td>673414</td>\n",
              "      <td>90.0</td>\n",
              "      <td>35443</td>\n",
              "      <td>미신청</td>\n",
              "      <td>.</td>\n",
              "      <td>normal</td>\n",
              "    </tr>\n",
              "    <tr>\n",
              "      <th>2</th>\n",
              "      <td>1476143616</td>\n",
              "      <td>정상회원</td>\n",
              "      <td>수지구</td>\n",
              "      <td>풍덕천동</td>\n",
              "      <td>여</td>\n",
              "      <td>34.0</td>\n",
              "      <td>30대이하</td>\n",
              "      <td>655919</td>\n",
              "      <td>66.0</td>\n",
              "      <td>46851</td>\n",
              "      <td>미신청</td>\n",
              "      <td>.</td>\n",
              "      <td>normal</td>\n",
              "    </tr>\n",
              "    <tr>\n",
              "      <th>3</th>\n",
              "      <td>716128320</td>\n",
              "      <td>정상회원</td>\n",
              "      <td>수지구</td>\n",
              "      <td>풍덕천동</td>\n",
              "      <td>여</td>\n",
              "      <td>51.0</td>\n",
              "      <td>50대</td>\n",
              "      <td>2984534</td>\n",
              "      <td>252.1</td>\n",
              "      <td>48138</td>\n",
              "      <td>미신청</td>\n",
              "      <td>.</td>\n",
              "      <td>normal</td>\n",
              "    </tr>\n",
              "    <tr>\n",
              "      <th>4</th>\n",
              "      <td>743192512</td>\n",
              "      <td>정상회원</td>\n",
              "      <td>수지구</td>\n",
              "      <td>성복동</td>\n",
              "      <td>여</td>\n",
              "      <td>51.0</td>\n",
              "      <td>50대</td>\n",
              "      <td>1901488</td>\n",
              "      <td>152.0</td>\n",
              "      <td>158457</td>\n",
              "      <td>신청</td>\n",
              "      <td>.</td>\n",
              "      <td>normal</td>\n",
              "    </tr>\n",
              "  </tbody>\n",
              "</table>\n",
              "</div>\n",
              "      <button class=\"colab-df-convert\" onclick=\"convertToInteractive('df-af36a65f-2875-4542-9b44-7f0d91eae524')\"\n",
              "              title=\"Convert this dataframe to an interactive table.\"\n",
              "              style=\"display:none;\">\n",
              "        \n",
              "  <svg xmlns=\"http://www.w3.org/2000/svg\" height=\"24px\"viewBox=\"0 0 24 24\"\n",
              "       width=\"24px\">\n",
              "    <path d=\"M0 0h24v24H0V0z\" fill=\"none\"/>\n",
              "    <path d=\"M18.56 5.44l.94 2.06.94-2.06 2.06-.94-2.06-.94-.94-2.06-.94 2.06-2.06.94zm-11 1L8.5 8.5l.94-2.06 2.06-.94-2.06-.94L8.5 2.5l-.94 2.06-2.06.94zm10 10l.94 2.06.94-2.06 2.06-.94-2.06-.94-.94-2.06-.94 2.06-2.06.94z\"/><path d=\"M17.41 7.96l-1.37-1.37c-.4-.4-.92-.59-1.43-.59-.52 0-1.04.2-1.43.59L10.3 9.45l-7.72 7.72c-.78.78-.78 2.05 0 2.83L4 21.41c.39.39.9.59 1.41.59.51 0 1.02-.2 1.41-.59l7.78-7.78 2.81-2.81c.8-.78.8-2.07 0-2.86zM5.41 20L4 18.59l7.72-7.72 1.47 1.35L5.41 20z\"/>\n",
              "  </svg>\n",
              "      </button>\n",
              "      \n",
              "  <style>\n",
              "    .colab-df-container {\n",
              "      display:flex;\n",
              "      flex-wrap:wrap;\n",
              "      gap: 12px;\n",
              "    }\n",
              "\n",
              "    .colab-df-convert {\n",
              "      background-color: #E8F0FE;\n",
              "      border: none;\n",
              "      border-radius: 50%;\n",
              "      cursor: pointer;\n",
              "      display: none;\n",
              "      fill: #1967D2;\n",
              "      height: 32px;\n",
              "      padding: 0 0 0 0;\n",
              "      width: 32px;\n",
              "    }\n",
              "\n",
              "    .colab-df-convert:hover {\n",
              "      background-color: #E2EBFA;\n",
              "      box-shadow: 0px 1px 2px rgba(60, 64, 67, 0.3), 0px 1px 3px 1px rgba(60, 64, 67, 0.15);\n",
              "      fill: #174EA6;\n",
              "    }\n",
              "\n",
              "    [theme=dark] .colab-df-convert {\n",
              "      background-color: #3B4455;\n",
              "      fill: #D2E3FC;\n",
              "    }\n",
              "\n",
              "    [theme=dark] .colab-df-convert:hover {\n",
              "      background-color: #434B5C;\n",
              "      box-shadow: 0px 1px 3px 1px rgba(0, 0, 0, 0.15);\n",
              "      filter: drop-shadow(0px 1px 2px rgba(0, 0, 0, 0.3));\n",
              "      fill: #FFFFFF;\n",
              "    }\n",
              "  </style>\n",
              "\n",
              "      <script>\n",
              "        const buttonEl =\n",
              "          document.querySelector('#df-af36a65f-2875-4542-9b44-7f0d91eae524 button.colab-df-convert');\n",
              "        buttonEl.style.display =\n",
              "          google.colab.kernel.accessAllowed ? 'block' : 'none';\n",
              "\n",
              "        async function convertToInteractive(key) {\n",
              "          const element = document.querySelector('#df-af36a65f-2875-4542-9b44-7f0d91eae524');\n",
              "          const dataTable =\n",
              "            await google.colab.kernel.invokeFunction('convertToInteractive',\n",
              "                                                     [key], {});\n",
              "          if (!dataTable) return;\n",
              "\n",
              "          const docLinkHtml = 'Like what you see? Visit the ' +\n",
              "            '<a target=\"_blank\" href=https://colab.research.google.com/notebooks/data_table.ipynb>data table notebook</a>'\n",
              "            + ' to learn more about interactive tables.';\n",
              "          element.innerHTML = '';\n",
              "          dataTable['output_type'] = 'display_data';\n",
              "          await google.colab.output.renderOutput(dataTable, element);\n",
              "          const docLink = document.createElement('div');\n",
              "          docLink.innerHTML = docLinkHtml;\n",
              "          element.appendChild(docLink);\n",
              "        }\n",
              "      </script>\n",
              "    </div>\n",
              "  </div>\n",
              "  "
            ]
          },
          "metadata": {},
          "execution_count": 3
        }
      ]
    },
    {
      "cell_type": "markdown",
      "source": [
        "# 1. 데이터 준비 및 가공\n",
        "- Y (Target) : **Gold_member** / X (Feature)...\n",
        "- Feature Selection\n",
        "- Missing Value\n"
      ],
      "metadata": {
        "id": "nM5hmvNazOlQ"
      }
    },
    {
      "cell_type": "code",
      "source": [
        "df2 = df1.drop(columns=['회원번호','주소-동','연령대','1회방문시구매금액(평균)'])\n",
        "df2.head()"
      ],
      "metadata": {
        "colab": {
          "base_uri": "https://localhost:8080/",
          "height": 250
        },
        "id": "18HwOjyRy-MG",
        "outputId": "3f13688c-3618-433e-c638-735d2f47b665"
      },
      "execution_count": 5,
      "outputs": [
        {
          "output_type": "execute_result",
          "data": {
            "text/plain": [
              "  조합원상태 주소-구 성별    연령    총구매금액  총구매수량 배송서비스신청여부 모바일알람여부 Gold_member\n",
              "0  정상회원  수지구  여  45.0  5733884  546.5       미신청      수신         VIP\n",
              "1  정상회원  수지구  여  36.0   673414   90.0       미신청       .      normal\n",
              "2  정상회원  수지구  여  34.0   655919   66.0       미신청       .      normal\n",
              "3  정상회원  수지구  여  51.0  2984534  252.1       미신청       .      normal\n",
              "4  정상회원  수지구  여  51.0  1901488  152.0        신청       .      normal"
            ],
            "text/html": [
              "\n",
              "  <div id=\"df-6c0a5efa-19d4-46c2-928f-95e0cd7ae430\">\n",
              "    <div class=\"colab-df-container\">\n",
              "      <div>\n",
              "<style scoped>\n",
              "    .dataframe tbody tr th:only-of-type {\n",
              "        vertical-align: middle;\n",
              "    }\n",
              "\n",
              "    .dataframe tbody tr th {\n",
              "        vertical-align: top;\n",
              "    }\n",
              "\n",
              "    .dataframe thead th {\n",
              "        text-align: right;\n",
              "    }\n",
              "</style>\n",
              "<table border=\"1\" class=\"dataframe\">\n",
              "  <thead>\n",
              "    <tr style=\"text-align: right;\">\n",
              "      <th></th>\n",
              "      <th>조합원상태</th>\n",
              "      <th>주소-구</th>\n",
              "      <th>성별</th>\n",
              "      <th>연령</th>\n",
              "      <th>총구매금액</th>\n",
              "      <th>총구매수량</th>\n",
              "      <th>배송서비스신청여부</th>\n",
              "      <th>모바일알람여부</th>\n",
              "      <th>Gold_member</th>\n",
              "    </tr>\n",
              "  </thead>\n",
              "  <tbody>\n",
              "    <tr>\n",
              "      <th>0</th>\n",
              "      <td>정상회원</td>\n",
              "      <td>수지구</td>\n",
              "      <td>여</td>\n",
              "      <td>45.0</td>\n",
              "      <td>5733884</td>\n",
              "      <td>546.5</td>\n",
              "      <td>미신청</td>\n",
              "      <td>수신</td>\n",
              "      <td>VIP</td>\n",
              "    </tr>\n",
              "    <tr>\n",
              "      <th>1</th>\n",
              "      <td>정상회원</td>\n",
              "      <td>수지구</td>\n",
              "      <td>여</td>\n",
              "      <td>36.0</td>\n",
              "      <td>673414</td>\n",
              "      <td>90.0</td>\n",
              "      <td>미신청</td>\n",
              "      <td>.</td>\n",
              "      <td>normal</td>\n",
              "    </tr>\n",
              "    <tr>\n",
              "      <th>2</th>\n",
              "      <td>정상회원</td>\n",
              "      <td>수지구</td>\n",
              "      <td>여</td>\n",
              "      <td>34.0</td>\n",
              "      <td>655919</td>\n",
              "      <td>66.0</td>\n",
              "      <td>미신청</td>\n",
              "      <td>.</td>\n",
              "      <td>normal</td>\n",
              "    </tr>\n",
              "    <tr>\n",
              "      <th>3</th>\n",
              "      <td>정상회원</td>\n",
              "      <td>수지구</td>\n",
              "      <td>여</td>\n",
              "      <td>51.0</td>\n",
              "      <td>2984534</td>\n",
              "      <td>252.1</td>\n",
              "      <td>미신청</td>\n",
              "      <td>.</td>\n",
              "      <td>normal</td>\n",
              "    </tr>\n",
              "    <tr>\n",
              "      <th>4</th>\n",
              "      <td>정상회원</td>\n",
              "      <td>수지구</td>\n",
              "      <td>여</td>\n",
              "      <td>51.0</td>\n",
              "      <td>1901488</td>\n",
              "      <td>152.0</td>\n",
              "      <td>신청</td>\n",
              "      <td>.</td>\n",
              "      <td>normal</td>\n",
              "    </tr>\n",
              "  </tbody>\n",
              "</table>\n",
              "</div>\n",
              "      <button class=\"colab-df-convert\" onclick=\"convertToInteractive('df-6c0a5efa-19d4-46c2-928f-95e0cd7ae430')\"\n",
              "              title=\"Convert this dataframe to an interactive table.\"\n",
              "              style=\"display:none;\">\n",
              "        \n",
              "  <svg xmlns=\"http://www.w3.org/2000/svg\" height=\"24px\"viewBox=\"0 0 24 24\"\n",
              "       width=\"24px\">\n",
              "    <path d=\"M0 0h24v24H0V0z\" fill=\"none\"/>\n",
              "    <path d=\"M18.56 5.44l.94 2.06.94-2.06 2.06-.94-2.06-.94-.94-2.06-.94 2.06-2.06.94zm-11 1L8.5 8.5l.94-2.06 2.06-.94-2.06-.94L8.5 2.5l-.94 2.06-2.06.94zm10 10l.94 2.06.94-2.06 2.06-.94-2.06-.94-.94-2.06-.94 2.06-2.06.94z\"/><path d=\"M17.41 7.96l-1.37-1.37c-.4-.4-.92-.59-1.43-.59-.52 0-1.04.2-1.43.59L10.3 9.45l-7.72 7.72c-.78.78-.78 2.05 0 2.83L4 21.41c.39.39.9.59 1.41.59.51 0 1.02-.2 1.41-.59l7.78-7.78 2.81-2.81c.8-.78.8-2.07 0-2.86zM5.41 20L4 18.59l7.72-7.72 1.47 1.35L5.41 20z\"/>\n",
              "  </svg>\n",
              "      </button>\n",
              "      \n",
              "  <style>\n",
              "    .colab-df-container {\n",
              "      display:flex;\n",
              "      flex-wrap:wrap;\n",
              "      gap: 12px;\n",
              "    }\n",
              "\n",
              "    .colab-df-convert {\n",
              "      background-color: #E8F0FE;\n",
              "      border: none;\n",
              "      border-radius: 50%;\n",
              "      cursor: pointer;\n",
              "      display: none;\n",
              "      fill: #1967D2;\n",
              "      height: 32px;\n",
              "      padding: 0 0 0 0;\n",
              "      width: 32px;\n",
              "    }\n",
              "\n",
              "    .colab-df-convert:hover {\n",
              "      background-color: #E2EBFA;\n",
              "      box-shadow: 0px 1px 2px rgba(60, 64, 67, 0.3), 0px 1px 3px 1px rgba(60, 64, 67, 0.15);\n",
              "      fill: #174EA6;\n",
              "    }\n",
              "\n",
              "    [theme=dark] .colab-df-convert {\n",
              "      background-color: #3B4455;\n",
              "      fill: #D2E3FC;\n",
              "    }\n",
              "\n",
              "    [theme=dark] .colab-df-convert:hover {\n",
              "      background-color: #434B5C;\n",
              "      box-shadow: 0px 1px 3px 1px rgba(0, 0, 0, 0.15);\n",
              "      filter: drop-shadow(0px 1px 2px rgba(0, 0, 0, 0.3));\n",
              "      fill: #FFFFFF;\n",
              "    }\n",
              "  </style>\n",
              "\n",
              "      <script>\n",
              "        const buttonEl =\n",
              "          document.querySelector('#df-6c0a5efa-19d4-46c2-928f-95e0cd7ae430 button.colab-df-convert');\n",
              "        buttonEl.style.display =\n",
              "          google.colab.kernel.accessAllowed ? 'block' : 'none';\n",
              "\n",
              "        async function convertToInteractive(key) {\n",
              "          const element = document.querySelector('#df-6c0a5efa-19d4-46c2-928f-95e0cd7ae430');\n",
              "          const dataTable =\n",
              "            await google.colab.kernel.invokeFunction('convertToInteractive',\n",
              "                                                     [key], {});\n",
              "          if (!dataTable) return;\n",
              "\n",
              "          const docLinkHtml = 'Like what you see? Visit the ' +\n",
              "            '<a target=\"_blank\" href=https://colab.research.google.com/notebooks/data_table.ipynb>data table notebook</a>'\n",
              "            + ' to learn more about interactive tables.';\n",
              "          element.innerHTML = '';\n",
              "          dataTable['output_type'] = 'display_data';\n",
              "          await google.colab.output.renderOutput(dataTable, element);\n",
              "          const docLink = document.createElement('div');\n",
              "          docLink.innerHTML = docLinkHtml;\n",
              "          element.appendChild(docLink);\n",
              "        }\n",
              "      </script>\n",
              "    </div>\n",
              "  </div>\n",
              "  "
            ]
          },
          "metadata": {},
          "execution_count": 5
        }
      ]
    },
    {
      "cell_type": "code",
      "source": [
        "df2.isnull().sum() # 결측값 확인"
      ],
      "metadata": {
        "colab": {
          "base_uri": "https://localhost:8080/"
        },
        "id": "ksQCKEPM0DQO",
        "outputId": "13945b9f-3990-4f01-8a03-34ba49d9a8ea"
      },
      "execution_count": 7,
      "outputs": [
        {
          "output_type": "execute_result",
          "data": {
            "text/plain": [
              "조합원상태          0\n",
              "주소-구           0\n",
              "성별             1\n",
              "연령             1\n",
              "총구매금액          0\n",
              "총구매수량          0\n",
              "배송서비스신청여부      0\n",
              "모바일알람여부        0\n",
              "Gold_member    0\n",
              "dtype: int64"
            ]
          },
          "metadata": {},
          "execution_count": 7
        }
      ]
    },
    {
      "cell_type": "code",
      "source": [
        "df3 = df2.dropna() # 결측값 제거\n",
        "df3"
      ],
      "metadata": {
        "colab": {
          "base_uri": "https://localhost:8080/",
          "height": 485
        },
        "id": "-iPhbQEG0Mnt",
        "outputId": "70802c5e-9a6f-48bf-b89b-b1ecdeade4e0"
      },
      "execution_count": 9,
      "outputs": [
        {
          "output_type": "execute_result",
          "data": {
            "text/plain": [
              "     조합원상태 주소-구 성별    연령    총구매금액  총구매수량 배송서비스신청여부 모바일알람여부 Gold_member\n",
              "0     정상회원  수지구  여  45.0  5733884  546.5       미신청      수신         VIP\n",
              "1     정상회원  수지구  여  36.0   673414   90.0       미신청       .      normal\n",
              "2     정상회원  수지구  여  34.0   655919   66.0       미신청       .      normal\n",
              "3     정상회원  수지구  여  51.0  2984534  252.1       미신청       .      normal\n",
              "4     정상회원  수지구  여  51.0  1901488  152.0        신청       .      normal\n",
              "...    ...  ... ..   ...      ...    ...       ...     ...         ...\n",
              "6514  정상회원  수지구  남  32.0    52646    1.1       미신청       .      normal\n",
              "6515  정상회원  분당구  여  46.0    61740    9.0       미신청       .      normal\n",
              "6516  정상회원   기타  여  82.0    15507    2.0       미신청       .      normal\n",
              "6517  정상회원  분당구  여  55.0    36374    2.0       미신청       .      normal\n",
              "6518  정상회원   기타  남  41.0    15890    1.0       미신청       .      normal\n",
              "\n",
              "[6517 rows x 9 columns]"
            ],
            "text/html": [
              "\n",
              "  <div id=\"df-a1ef6e7d-3a29-4aa8-9304-b2fb34027c8d\">\n",
              "    <div class=\"colab-df-container\">\n",
              "      <div>\n",
              "<style scoped>\n",
              "    .dataframe tbody tr th:only-of-type {\n",
              "        vertical-align: middle;\n",
              "    }\n",
              "\n",
              "    .dataframe tbody tr th {\n",
              "        vertical-align: top;\n",
              "    }\n",
              "\n",
              "    .dataframe thead th {\n",
              "        text-align: right;\n",
              "    }\n",
              "</style>\n",
              "<table border=\"1\" class=\"dataframe\">\n",
              "  <thead>\n",
              "    <tr style=\"text-align: right;\">\n",
              "      <th></th>\n",
              "      <th>조합원상태</th>\n",
              "      <th>주소-구</th>\n",
              "      <th>성별</th>\n",
              "      <th>연령</th>\n",
              "      <th>총구매금액</th>\n",
              "      <th>총구매수량</th>\n",
              "      <th>배송서비스신청여부</th>\n",
              "      <th>모바일알람여부</th>\n",
              "      <th>Gold_member</th>\n",
              "    </tr>\n",
              "  </thead>\n",
              "  <tbody>\n",
              "    <tr>\n",
              "      <th>0</th>\n",
              "      <td>정상회원</td>\n",
              "      <td>수지구</td>\n",
              "      <td>여</td>\n",
              "      <td>45.0</td>\n",
              "      <td>5733884</td>\n",
              "      <td>546.5</td>\n",
              "      <td>미신청</td>\n",
              "      <td>수신</td>\n",
              "      <td>VIP</td>\n",
              "    </tr>\n",
              "    <tr>\n",
              "      <th>1</th>\n",
              "      <td>정상회원</td>\n",
              "      <td>수지구</td>\n",
              "      <td>여</td>\n",
              "      <td>36.0</td>\n",
              "      <td>673414</td>\n",
              "      <td>90.0</td>\n",
              "      <td>미신청</td>\n",
              "      <td>.</td>\n",
              "      <td>normal</td>\n",
              "    </tr>\n",
              "    <tr>\n",
              "      <th>2</th>\n",
              "      <td>정상회원</td>\n",
              "      <td>수지구</td>\n",
              "      <td>여</td>\n",
              "      <td>34.0</td>\n",
              "      <td>655919</td>\n",
              "      <td>66.0</td>\n",
              "      <td>미신청</td>\n",
              "      <td>.</td>\n",
              "      <td>normal</td>\n",
              "    </tr>\n",
              "    <tr>\n",
              "      <th>3</th>\n",
              "      <td>정상회원</td>\n",
              "      <td>수지구</td>\n",
              "      <td>여</td>\n",
              "      <td>51.0</td>\n",
              "      <td>2984534</td>\n",
              "      <td>252.1</td>\n",
              "      <td>미신청</td>\n",
              "      <td>.</td>\n",
              "      <td>normal</td>\n",
              "    </tr>\n",
              "    <tr>\n",
              "      <th>4</th>\n",
              "      <td>정상회원</td>\n",
              "      <td>수지구</td>\n",
              "      <td>여</td>\n",
              "      <td>51.0</td>\n",
              "      <td>1901488</td>\n",
              "      <td>152.0</td>\n",
              "      <td>신청</td>\n",
              "      <td>.</td>\n",
              "      <td>normal</td>\n",
              "    </tr>\n",
              "    <tr>\n",
              "      <th>...</th>\n",
              "      <td>...</td>\n",
              "      <td>...</td>\n",
              "      <td>...</td>\n",
              "      <td>...</td>\n",
              "      <td>...</td>\n",
              "      <td>...</td>\n",
              "      <td>...</td>\n",
              "      <td>...</td>\n",
              "      <td>...</td>\n",
              "    </tr>\n",
              "    <tr>\n",
              "      <th>6514</th>\n",
              "      <td>정상회원</td>\n",
              "      <td>수지구</td>\n",
              "      <td>남</td>\n",
              "      <td>32.0</td>\n",
              "      <td>52646</td>\n",
              "      <td>1.1</td>\n",
              "      <td>미신청</td>\n",
              "      <td>.</td>\n",
              "      <td>normal</td>\n",
              "    </tr>\n",
              "    <tr>\n",
              "      <th>6515</th>\n",
              "      <td>정상회원</td>\n",
              "      <td>분당구</td>\n",
              "      <td>여</td>\n",
              "      <td>46.0</td>\n",
              "      <td>61740</td>\n",
              "      <td>9.0</td>\n",
              "      <td>미신청</td>\n",
              "      <td>.</td>\n",
              "      <td>normal</td>\n",
              "    </tr>\n",
              "    <tr>\n",
              "      <th>6516</th>\n",
              "      <td>정상회원</td>\n",
              "      <td>기타</td>\n",
              "      <td>여</td>\n",
              "      <td>82.0</td>\n",
              "      <td>15507</td>\n",
              "      <td>2.0</td>\n",
              "      <td>미신청</td>\n",
              "      <td>.</td>\n",
              "      <td>normal</td>\n",
              "    </tr>\n",
              "    <tr>\n",
              "      <th>6517</th>\n",
              "      <td>정상회원</td>\n",
              "      <td>분당구</td>\n",
              "      <td>여</td>\n",
              "      <td>55.0</td>\n",
              "      <td>36374</td>\n",
              "      <td>2.0</td>\n",
              "      <td>미신청</td>\n",
              "      <td>.</td>\n",
              "      <td>normal</td>\n",
              "    </tr>\n",
              "    <tr>\n",
              "      <th>6518</th>\n",
              "      <td>정상회원</td>\n",
              "      <td>기타</td>\n",
              "      <td>남</td>\n",
              "      <td>41.0</td>\n",
              "      <td>15890</td>\n",
              "      <td>1.0</td>\n",
              "      <td>미신청</td>\n",
              "      <td>.</td>\n",
              "      <td>normal</td>\n",
              "    </tr>\n",
              "  </tbody>\n",
              "</table>\n",
              "<p>6517 rows × 9 columns</p>\n",
              "</div>\n",
              "      <button class=\"colab-df-convert\" onclick=\"convertToInteractive('df-a1ef6e7d-3a29-4aa8-9304-b2fb34027c8d')\"\n",
              "              title=\"Convert this dataframe to an interactive table.\"\n",
              "              style=\"display:none;\">\n",
              "        \n",
              "  <svg xmlns=\"http://www.w3.org/2000/svg\" height=\"24px\"viewBox=\"0 0 24 24\"\n",
              "       width=\"24px\">\n",
              "    <path d=\"M0 0h24v24H0V0z\" fill=\"none\"/>\n",
              "    <path d=\"M18.56 5.44l.94 2.06.94-2.06 2.06-.94-2.06-.94-.94-2.06-.94 2.06-2.06.94zm-11 1L8.5 8.5l.94-2.06 2.06-.94-2.06-.94L8.5 2.5l-.94 2.06-2.06.94zm10 10l.94 2.06.94-2.06 2.06-.94-2.06-.94-.94-2.06-.94 2.06-2.06.94z\"/><path d=\"M17.41 7.96l-1.37-1.37c-.4-.4-.92-.59-1.43-.59-.52 0-1.04.2-1.43.59L10.3 9.45l-7.72 7.72c-.78.78-.78 2.05 0 2.83L4 21.41c.39.39.9.59 1.41.59.51 0 1.02-.2 1.41-.59l7.78-7.78 2.81-2.81c.8-.78.8-2.07 0-2.86zM5.41 20L4 18.59l7.72-7.72 1.47 1.35L5.41 20z\"/>\n",
              "  </svg>\n",
              "      </button>\n",
              "      \n",
              "  <style>\n",
              "    .colab-df-container {\n",
              "      display:flex;\n",
              "      flex-wrap:wrap;\n",
              "      gap: 12px;\n",
              "    }\n",
              "\n",
              "    .colab-df-convert {\n",
              "      background-color: #E8F0FE;\n",
              "      border: none;\n",
              "      border-radius: 50%;\n",
              "      cursor: pointer;\n",
              "      display: none;\n",
              "      fill: #1967D2;\n",
              "      height: 32px;\n",
              "      padding: 0 0 0 0;\n",
              "      width: 32px;\n",
              "    }\n",
              "\n",
              "    .colab-df-convert:hover {\n",
              "      background-color: #E2EBFA;\n",
              "      box-shadow: 0px 1px 2px rgba(60, 64, 67, 0.3), 0px 1px 3px 1px rgba(60, 64, 67, 0.15);\n",
              "      fill: #174EA6;\n",
              "    }\n",
              "\n",
              "    [theme=dark] .colab-df-convert {\n",
              "      background-color: #3B4455;\n",
              "      fill: #D2E3FC;\n",
              "    }\n",
              "\n",
              "    [theme=dark] .colab-df-convert:hover {\n",
              "      background-color: #434B5C;\n",
              "      box-shadow: 0px 1px 3px 1px rgba(0, 0, 0, 0.15);\n",
              "      filter: drop-shadow(0px 1px 2px rgba(0, 0, 0, 0.3));\n",
              "      fill: #FFFFFF;\n",
              "    }\n",
              "  </style>\n",
              "\n",
              "      <script>\n",
              "        const buttonEl =\n",
              "          document.querySelector('#df-a1ef6e7d-3a29-4aa8-9304-b2fb34027c8d button.colab-df-convert');\n",
              "        buttonEl.style.display =\n",
              "          google.colab.kernel.accessAllowed ? 'block' : 'none';\n",
              "\n",
              "        async function convertToInteractive(key) {\n",
              "          const element = document.querySelector('#df-a1ef6e7d-3a29-4aa8-9304-b2fb34027c8d');\n",
              "          const dataTable =\n",
              "            await google.colab.kernel.invokeFunction('convertToInteractive',\n",
              "                                                     [key], {});\n",
              "          if (!dataTable) return;\n",
              "\n",
              "          const docLinkHtml = 'Like what you see? Visit the ' +\n",
              "            '<a target=\"_blank\" href=https://colab.research.google.com/notebooks/data_table.ipynb>data table notebook</a>'\n",
              "            + ' to learn more about interactive tables.';\n",
              "          element.innerHTML = '';\n",
              "          dataTable['output_type'] = 'display_data';\n",
              "          await google.colab.output.renderOutput(dataTable, element);\n",
              "          const docLink = document.createElement('div');\n",
              "          docLink.innerHTML = docLinkHtml;\n",
              "          element.appendChild(docLink);\n",
              "        }\n",
              "      </script>\n",
              "    </div>\n",
              "  </div>\n",
              "  "
            ]
          },
          "metadata": {},
          "execution_count": 9
        }
      ]
    },
    {
      "cell_type": "code",
      "source": [
        "df3['Gold_member'].value_counts()"
      ],
      "metadata": {
        "colab": {
          "base_uri": "https://localhost:8080/"
        },
        "id": "CTkd9DRl0f20",
        "outputId": "d936e21b-1d4d-404f-fcf8-c886a259b7fb"
      },
      "execution_count": 10,
      "outputs": [
        {
          "output_type": "execute_result",
          "data": {
            "text/plain": [
              "normal    6421\n",
              "VIP         96\n",
              "Name: Gold_member, dtype: int64"
            ]
          },
          "metadata": {},
          "execution_count": 10
        }
      ]
    },
    {
      "cell_type": "code",
      "source": [
        "df3['Target'] = df3['Gold_member'].replace({'VIP':1, 'normal':0})"
      ],
      "metadata": {
        "colab": {
          "base_uri": "https://localhost:8080/"
        },
        "id": "nl2Gnc-A0uMG",
        "outputId": "74b42119-e6f7-43c9-acca-95c0389ba761"
      },
      "execution_count": 15,
      "outputs": [
        {
          "output_type": "stream",
          "name": "stderr",
          "text": [
            "<ipython-input-15-75d24b0a67bc>:1: SettingWithCopyWarning: \n",
            "A value is trying to be set on a copy of a slice from a DataFrame.\n",
            "Try using .loc[row_indexer,col_indexer] = value instead\n",
            "\n",
            "See the caveats in the documentation: https://pandas.pydata.org/pandas-docs/stable/user_guide/indexing.html#returning-a-view-versus-a-copy\n",
            "  df3['Target'] = df3['Gold_member'].replace({'VIP':1, 'normal':0})\n"
          ]
        }
      ]
    },
    {
      "cell_type": "code",
      "source": [
        "X = pd.get_dummies(df3.drop(columns=['Gold_member','Target'])) # One-hor Encoding\n",
        "Y = df3['Target']"
      ],
      "metadata": {
        "id": "JkkQ87zi1ew8"
      },
      "execution_count": 17,
      "outputs": []
    },
    {
      "cell_type": "markdown",
      "source": [
        "# 2. 데이터 전처리 (분할)\n",
        "-  sklearn\n",
        "     - model_selection\n",
        "     - metrics\n",
        "     - tree"
      ],
      "metadata": {
        "id": "majL9T4P4OYC"
      }
    },
    {
      "cell_type": "code",
      "source": [
        "from sklearn.model_selection import train_test_split\n",
        "from sklearn.tree import DecisionTreeClassifier\n",
        "from sklearn.metrics import classification_report"
      ],
      "metadata": {
        "id": "Bpz7ziSH2Lxd"
      },
      "execution_count": 22,
      "outputs": []
    },
    {
      "cell_type": "code",
      "source": [
        "X_train, X_test, Y_train, Y_test = train_test_split(X, Y, test_size=0.3, random_state=2020)\n",
        "\n",
        "print(X_train.shape)\n",
        "print(Y_test.shape)\n",
        "print(X_train.shape)\n",
        "print(Y_test.shape)"
      ],
      "metadata": {
        "colab": {
          "base_uri": "https://localhost:8080/"
        },
        "id": "RvwDPYm63f6l",
        "outputId": "e71bf936-3163-451f-a492-5cb198217254"
      },
      "execution_count": 26,
      "outputs": [
        {
          "output_type": "stream",
          "name": "stdout",
          "text": [
            "(4561, 30)\n",
            "(1956,)\n",
            "(4561, 30)\n",
            "(1956,)\n"
          ]
        }
      ]
    },
    {
      "cell_type": "markdown",
      "source": [
        "# 3. 학습"
      ],
      "metadata": {
        "id": "VxMxotZPVQ8Y"
      }
    },
    {
      "cell_type": "code",
      "source": [
        "model = DecisionTreeClassifier()\n",
        "model.fit(X_train,Y_train)"
      ],
      "metadata": {
        "colab": {
          "base_uri": "https://localhost:8080/",
          "height": 75
        },
        "id": "reA71xcNGtNB",
        "outputId": "5979200f-5e6e-43a1-a47c-0a90ff5c499f"
      },
      "execution_count": 29,
      "outputs": [
        {
          "output_type": "execute_result",
          "data": {
            "text/plain": [
              "DecisionTreeClassifier()"
            ],
            "text/html": [
              "<style>#sk-container-id-1 {color: black;background-color: white;}#sk-container-id-1 pre{padding: 0;}#sk-container-id-1 div.sk-toggleable {background-color: white;}#sk-container-id-1 label.sk-toggleable__label {cursor: pointer;display: block;width: 100%;margin-bottom: 0;padding: 0.3em;box-sizing: border-box;text-align: center;}#sk-container-id-1 label.sk-toggleable__label-arrow:before {content: \"▸\";float: left;margin-right: 0.25em;color: #696969;}#sk-container-id-1 label.sk-toggleable__label-arrow:hover:before {color: black;}#sk-container-id-1 div.sk-estimator:hover label.sk-toggleable__label-arrow:before {color: black;}#sk-container-id-1 div.sk-toggleable__content {max-height: 0;max-width: 0;overflow: hidden;text-align: left;background-color: #f0f8ff;}#sk-container-id-1 div.sk-toggleable__content pre {margin: 0.2em;color: black;border-radius: 0.25em;background-color: #f0f8ff;}#sk-container-id-1 input.sk-toggleable__control:checked~div.sk-toggleable__content {max-height: 200px;max-width: 100%;overflow: auto;}#sk-container-id-1 input.sk-toggleable__control:checked~label.sk-toggleable__label-arrow:before {content: \"▾\";}#sk-container-id-1 div.sk-estimator input.sk-toggleable__control:checked~label.sk-toggleable__label {background-color: #d4ebff;}#sk-container-id-1 div.sk-label input.sk-toggleable__control:checked~label.sk-toggleable__label {background-color: #d4ebff;}#sk-container-id-1 input.sk-hidden--visually {border: 0;clip: rect(1px 1px 1px 1px);clip: rect(1px, 1px, 1px, 1px);height: 1px;margin: -1px;overflow: hidden;padding: 0;position: absolute;width: 1px;}#sk-container-id-1 div.sk-estimator {font-family: monospace;background-color: #f0f8ff;border: 1px dotted black;border-radius: 0.25em;box-sizing: border-box;margin-bottom: 0.5em;}#sk-container-id-1 div.sk-estimator:hover {background-color: #d4ebff;}#sk-container-id-1 div.sk-parallel-item::after {content: \"\";width: 100%;border-bottom: 1px solid gray;flex-grow: 1;}#sk-container-id-1 div.sk-label:hover label.sk-toggleable__label {background-color: #d4ebff;}#sk-container-id-1 div.sk-serial::before {content: \"\";position: absolute;border-left: 1px solid gray;box-sizing: border-box;top: 0;bottom: 0;left: 50%;z-index: 0;}#sk-container-id-1 div.sk-serial {display: flex;flex-direction: column;align-items: center;background-color: white;padding-right: 0.2em;padding-left: 0.2em;position: relative;}#sk-container-id-1 div.sk-item {position: relative;z-index: 1;}#sk-container-id-1 div.sk-parallel {display: flex;align-items: stretch;justify-content: center;background-color: white;position: relative;}#sk-container-id-1 div.sk-item::before, #sk-container-id-1 div.sk-parallel-item::before {content: \"\";position: absolute;border-left: 1px solid gray;box-sizing: border-box;top: 0;bottom: 0;left: 50%;z-index: -1;}#sk-container-id-1 div.sk-parallel-item {display: flex;flex-direction: column;z-index: 1;position: relative;background-color: white;}#sk-container-id-1 div.sk-parallel-item:first-child::after {align-self: flex-end;width: 50%;}#sk-container-id-1 div.sk-parallel-item:last-child::after {align-self: flex-start;width: 50%;}#sk-container-id-1 div.sk-parallel-item:only-child::after {width: 0;}#sk-container-id-1 div.sk-dashed-wrapped {border: 1px dashed gray;margin: 0 0.4em 0.5em 0.4em;box-sizing: border-box;padding-bottom: 0.4em;background-color: white;}#sk-container-id-1 div.sk-label label {font-family: monospace;font-weight: bold;display: inline-block;line-height: 1.2em;}#sk-container-id-1 div.sk-label-container {text-align: center;}#sk-container-id-1 div.sk-container {/* jupyter's `normalize.less` sets `[hidden] { display: none; }` but bootstrap.min.css set `[hidden] { display: none !important; }` so we also need the `!important` here to be able to override the default hidden behavior on the sphinx rendered scikit-learn.org. See: https://github.com/scikit-learn/scikit-learn/issues/21755 */display: inline-block !important;position: relative;}#sk-container-id-1 div.sk-text-repr-fallback {display: none;}</style><div id=\"sk-container-id-1\" class=\"sk-top-container\"><div class=\"sk-text-repr-fallback\"><pre>DecisionTreeClassifier()</pre><b>In a Jupyter environment, please rerun this cell to show the HTML representation or trust the notebook. <br />On GitHub, the HTML representation is unable to render, please try loading this page with nbviewer.org.</b></div><div class=\"sk-container\" hidden><div class=\"sk-item\"><div class=\"sk-estimator sk-toggleable\"><input class=\"sk-toggleable__control sk-hidden--visually\" id=\"sk-estimator-id-1\" type=\"checkbox\" checked><label for=\"sk-estimator-id-1\" class=\"sk-toggleable__label sk-toggleable__label-arrow\">DecisionTreeClassifier</label><div class=\"sk-toggleable__content\"><pre>DecisionTreeClassifier()</pre></div></div></div></div></div>"
            ]
          },
          "metadata": {},
          "execution_count": 29
        }
      ]
    },
    {
      "cell_type": "code",
      "source": [
        "Y_train_pred = model.predict(X_train) # 알고리즘이 학습을 얼마나 잘 시켰는가?\n",
        "Y_test_pred = model.predict(X_test)  # 새로운 데이터가 들어올 때, 얼마나 좋은 성능을 나타내는가?"
      ],
      "metadata": {
        "id": "Q7RhF07KIBHh"
      },
      "execution_count": 30,
      "outputs": []
    },
    {
      "cell_type": "markdown",
      "source": [
        "# 4. 평가"
      ],
      "metadata": {
        "id": "izKNtkIkVS2z"
      }
    },
    {
      "cell_type": "code",
      "source": [
        "print(classification_report(Y_train,Y_train_pred))"
      ],
      "metadata": {
        "colab": {
          "base_uri": "https://localhost:8080/"
        },
        "id": "uJr22baHLFXf",
        "outputId": "0d2fb35b-6ef4-47f3-9175-a6483363ec47"
      },
      "execution_count": 31,
      "outputs": [
        {
          "output_type": "stream",
          "name": "stdout",
          "text": [
            "              precision    recall  f1-score   support\n",
            "\n",
            "           0       1.00      1.00      1.00      4495\n",
            "           1       1.00      1.00      1.00        66\n",
            "\n",
            "    accuracy                           1.00      4561\n",
            "   macro avg       1.00      1.00      1.00      4561\n",
            "weighted avg       1.00      1.00      1.00      4561\n",
            "\n"
          ]
        }
      ]
    },
    {
      "cell_type": "code",
      "source": [
        "print(classification_report(Y_test,Y_test_pred))"
      ],
      "metadata": {
        "colab": {
          "base_uri": "https://localhost:8080/"
        },
        "id": "k9muUENILMEf",
        "outputId": "7816fd5b-2965-4d48-e953-fcfa09d543b7"
      },
      "execution_count": 32,
      "outputs": [
        {
          "output_type": "stream",
          "name": "stdout",
          "text": [
            "              precision    recall  f1-score   support\n",
            "\n",
            "           0       0.99      0.99      0.99      1926\n",
            "           1       0.56      0.47      0.51        30\n",
            "\n",
            "    accuracy                           0.99      1956\n",
            "   macro avg       0.78      0.73      0.75      1956\n",
            "weighted avg       0.99      0.99      0.99      1956\n",
            "\n"
          ]
        }
      ]
    },
    {
      "cell_type": "code",
      "source": [],
      "metadata": {
        "id": "R9GreNLuLnMn"
      },
      "execution_count": null,
      "outputs": []
    }
  ]
}