{
  "nbformat": 4,
  "nbformat_minor": 0,
  "metadata": {
    "colab": {
      "provenance": [],
      "mount_file_id": "1svBx3cYglivZNPW3BpRsLIfqb8GIyEl9",
      "authorship_tag": "ABX9TyMOd7jEO45YDMlpmNguriRX",
      "include_colab_link": true
    },
    "kernelspec": {
      "name": "python3",
      "display_name": "Python 3"
    },
    "language_info": {
      "name": "python"
    }
  },
  "cells": [
    {
      "cell_type": "markdown",
      "metadata": {
        "id": "view-in-github",
        "colab_type": "text"
      },
      "source": [
        "<a href=\"https://colab.research.google.com/github/won195/TIL/blob/master/%5B%ED%86%B5%EA%B3%84%EC%B2%ADX%EC%98%A4%EB%8A%98%EC%BD%94%EB%93%9C%5D_%ED%8C%8C%EC%9D%B4%EC%8D%AC_%ED%99%9C%EC%9A%A9_TIP_%E2%91%A0%EA%B5%AD%EA%B0%80%ED%86%B5%EA%B3%84%ED%8F%AC%ED%84%B8(KOSIS)%EC%9E%90%EB%A3%8C%EB%A1%9C_%EB%8D%B0%EC%9D%B4%ED%84%B0_%EB%A1%9C%EB%93%9C%ED%95%98%EA%B8%B0.ipynb\" target=\"_parent\"><img src=\"https://colab.research.google.com/assets/colab-badge.svg\" alt=\"Open In Colab\"/></a>"
      ]
    },
    {
      "cell_type": "code",
      "execution_count": 1,
      "metadata": {
        "id": "T6tEIul3yTue"
      },
      "outputs": [],
      "source": [
        "import pandas as pd\n",
        "import numpy as np\n",
        "import matplotlib.pyplot as plt\n",
        "import seaborn as sns"
      ]
    },
    {
      "cell_type": "code",
      "source": [
        "def get_font_family():\n",
        "    \"\"\"\n",
        "    시스템 환경에 따른 기본 폰트명을 반환하는 함수\n",
        "    \"\"\"\n",
        "    import platform\n",
        "    system_name = platform.system()\n",
        "\n",
        "    if system_name == \"Darwin\" :\n",
        "        font_family = \"AppleGothic\"\n",
        "    elif system_name == \"Windows\":\n",
        "        font_family = \"Malgun Gothic\"\n",
        "    else:\n",
        "        # Linux(colab)\n",
        "        !apt-get install fonts-nanum -qq  > /dev/null\n",
        "        !fc-cache -fv\n",
        "\n",
        "        import matplotlib as mpl\n",
        "        mpl.font_manager._rebuild()\n",
        "        findfont = mpl.font_manager.fontManager.findfont\n",
        "        mpl.font_manager.findfont = findfont\n",
        "        mpl.backends.backend_agg.findfont = findfont\n",
        "\n",
        "        font_family = \"NanumBarunGothic\"\n",
        "    return font_family"
      ],
      "metadata": {
        "id": "wsGEj5nGyrY5"
      },
      "execution_count": 23,
      "outputs": []
    },
    {
      "cell_type": "code",
      "source": [
        "df_price_index = pd.read_csv(\"/content/drive/MyDrive/오늘코드todaycode/data/품목별_소비자물가지수_품목성질별_2020100__20231025221113.csv\", encoding=\"utf-8\")\n",
        "df_price_index.shape"
      ],
      "metadata": {
        "colab": {
          "base_uri": "https://localhost:8080/"
        },
        "id": "hh8ouVlS1FkD",
        "outputId": "32a41a04-8b4f-48dd-8c41-b62c17c25ec1"
      },
      "execution_count": 25,
      "outputs": [
        {
          "output_type": "execute_result",
          "data": {
            "text/plain": [
              "(12100, 4)"
            ]
          },
          "metadata": {},
          "execution_count": 25
        }
      ]
    },
    {
      "cell_type": "code",
      "source": [
        "df_price_index.info()"
      ],
      "metadata": {
        "colab": {
          "base_uri": "https://localhost:8080/"
        },
        "id": "gwijuLvc2VCW",
        "outputId": "1b469a19-e735-4f9a-d492-f0ecc6a70a00"
      },
      "execution_count": 26,
      "outputs": [
        {
          "output_type": "stream",
          "name": "stdout",
          "text": [
            "<class 'pandas.core.frame.DataFrame'>\n",
            "RangeIndex: 12100 entries, 0 to 12099\n",
            "Data columns (total 4 columns):\n",
            " #   Column  Non-Null Count  Dtype  \n",
            "---  ------  --------------  -----  \n",
            " 0   시도별     12100 non-null  object \n",
            " 1   품목별     12100 non-null  object \n",
            " 2   시점      12100 non-null  float64\n",
            " 3   데이터     12100 non-null  float64\n",
            "dtypes: float64(2), object(2)\n",
            "memory usage: 378.2+ KB\n"
          ]
        }
      ]
    },
    {
      "cell_type": "code",
      "source": [
        "df_price = df_price_index[df_price_index[\"품목별\"] == \"총지수\"].copy()\n",
        "df_price[\"데이터\"].pct_change(periods=12) * 100"
      ],
      "metadata": {
        "colab": {
          "base_uri": "https://localhost:8080/"
        },
        "id": "uxwCCxcF2-Se",
        "outputId": "9850e055-9c8f-4555-fbc3-444c40d49916"
      },
      "execution_count": 27,
      "outputs": [
        {
          "output_type": "execute_result",
          "data": {
            "text/plain": [
              "0          NaN\n",
              "1          NaN\n",
              "2          NaN\n",
              "3          NaN\n",
              "4          NaN\n",
              "5          NaN\n",
              "6          NaN\n",
              "7          NaN\n",
              "8          NaN\n",
              "9          NaN\n",
              "10         NaN\n",
              "11         NaN\n",
              "12    5.583018\n",
              "13    5.670053\n",
              "14    5.035140\n",
              "15    5.036524\n",
              "16    5.167638\n",
              "17    4.824311\n",
              "18    4.242881\n",
              "19    3.696771\n",
              "20    3.319078\n",
              "21    2.679726\n",
              "22    2.262277\n",
              "23    3.415577\n",
              "24    3.727164\n",
              "Name: 데이터, dtype: float64"
            ]
          },
          "metadata": {},
          "execution_count": 27
        }
      ]
    },
    {
      "cell_type": "code",
      "source": [
        "df_price[\"데이터\"]"
      ],
      "metadata": {
        "colab": {
          "base_uri": "https://localhost:8080/"
        },
        "id": "hcX3rcuV46Gl",
        "outputId": "89fcf77b-a43e-4231-cd97-0041cd179728"
      },
      "execution_count": 28,
      "outputs": [
        {
          "output_type": "execute_result",
          "data": {
            "text/plain": [
              "0     103.17\n",
              "1     103.35\n",
              "2     103.87\n",
              "3     104.04\n",
              "4     104.69\n",
              "5     105.30\n",
              "6     106.06\n",
              "7     106.85\n",
              "8     107.56\n",
              "9     108.22\n",
              "10    108.74\n",
              "11    108.62\n",
              "12    108.93\n",
              "13    109.21\n",
              "14    109.10\n",
              "15    109.28\n",
              "16    110.10\n",
              "17    110.38\n",
              "18    110.56\n",
              "19    110.80\n",
              "20    111.13\n",
              "21    111.12\n",
              "22    111.20\n",
              "23    112.33\n",
              "24    112.99\n",
              "Name: 데이터, dtype: float64"
            ]
          },
          "metadata": {},
          "execution_count": 28
        }
      ]
    },
    {
      "cell_type": "code",
      "source": [],
      "metadata": {
        "id": "NvwfWMVx7ZgA"
      },
      "execution_count": 28,
      "outputs": []
    }
  ]
}