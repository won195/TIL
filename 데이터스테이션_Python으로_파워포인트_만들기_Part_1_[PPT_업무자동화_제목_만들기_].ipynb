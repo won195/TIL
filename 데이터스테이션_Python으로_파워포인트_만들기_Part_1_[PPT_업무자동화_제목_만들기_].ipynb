{
  "nbformat": 4,
  "nbformat_minor": 0,
  "metadata": {
    "colab": {
      "provenance": [],
      "mount_file_id": "1g5FtTkPbAbgwCChTblKwzuqk3lwoPrdB",
      "authorship_tag": "ABX9TyNIdYNcOstlBkm9LAZFypwA",
      "include_colab_link": true
    },
    "kernelspec": {
      "name": "python3",
      "display_name": "Python 3"
    },
    "language_info": {
      "name": "python"
    }
  },
  "cells": [
    {
      "cell_type": "markdown",
      "metadata": {
        "id": "view-in-github",
        "colab_type": "text"
      },
      "source": [
        "<a href=\"https://colab.research.google.com/github/won195/TIL/blob/master/%EB%8D%B0%EC%9D%B4%ED%84%B0%EC%8A%A4%ED%85%8C%EC%9D%B4%EC%85%98_Python%EC%9C%BC%EB%A1%9C_%ED%8C%8C%EC%9B%8C%ED%8F%AC%EC%9D%B8%ED%8A%B8_%EB%A7%8C%EB%93%A4%EA%B8%B0_Part_1_%5BPPT_%EC%97%85%EB%AC%B4%EC%9E%90%EB%8F%99%ED%99%94_%EC%A0%9C%EB%AA%A9_%EB%A7%8C%EB%93%A4%EA%B8%B0_%5D.ipynb\" target=\"_parent\"><img src=\"https://colab.research.google.com/assets/colab-badge.svg\" alt=\"Open In Colab\"/></a>"
      ]
    },
    {
      "cell_type": "code",
      "execution_count": null,
      "metadata": {
        "id": "Bnekjr4nZ6rb"
      },
      "outputs": [],
      "source": [
        "import numpy as np\n",
        "import pandas as pd\n",
        "import seaborn as sns\n",
        "import matplotlib as mpl  # 기본 설정\n",
        "import matplotlib.pyplot as plt  # 그래프 그리기\n",
        "import matplotlib.font_manager as fm  # 폰트 관리\n",
        "%matplotlib inline\n",
        "\n",
        "!apt-get update -qq         # apt-get 패키지 설치 명령어, -qq : 에러외 메세지 숨기기\n",
        "!apt-get install fonts-nanum* -qq #나눔글꼴 설치\n",
        "\n",
        "fe = fm.FontEntry(fname=r'/usr/share/fonts/truetype/nanum/NanumBarunGothic.ttf', name='NanumBarunGothic') #파일 저장되어있는 경로와 이름 설정\n",
        "fm.fontManager.ttflist.insert(0, fe)  # Matplotlib에 폰트 추가\n",
        "plt.rcParams.update({'font.size': 10, 'font.family': 'NanumBarunGothic'}) #폰트설정"
      ]
    },
    {
      "cell_type": "code",
      "source": [
        "!pip install python-pptx\n"
      ],
      "metadata": {
        "id": "86PIWwTlfwyC"
      },
      "execution_count": null,
      "outputs": []
    },
    {
      "cell_type": "code",
      "source": [
        "from pptx import Presentation"
      ],
      "metadata": {
        "id": "es2vbIQgR4SY"
      },
      "execution_count": null,
      "outputs": []
    },
    {
      "cell_type": "code",
      "source": [
        "prs_ppt = Presentation()"
      ],
      "metadata": {
        "id": "d0bOWD5mSCQe"
      },
      "execution_count": null,
      "outputs": []
    },
    {
      "cell_type": "code",
      "source": [
        "prs_ppt.save(\"example.pptx\")"
      ],
      "metadata": {
        "id": "UAwMIUD3T30c"
      },
      "execution_count": null,
      "outputs": []
    },
    {
      "cell_type": "code",
      "source": [
        "prs_ppt = Presentation()\n",
        "\n",
        "title_slide = title_slide = prs_ppt.slide_layouts[0]\n",
        "first_slide = prs_ppt.slides.add_slide(title_slide)"
      ],
      "metadata": {
        "id": "SSvd-CqST3x-"
      },
      "execution_count": null,
      "outputs": []
    },
    {
      "cell_type": "code",
      "source": [
        "title_text = first_slide.placeholders[0]\n",
        "title_text.text = \"Python 활용 PPT 업무 자동화\"\n",
        "\n",
        "sub_title_text = first_slide.placeholders[1]\n",
        "sub_title_text.text = \"DA 김부장\"\n",
        "\n",
        "prs_ppt.save(\"example1.pptx\")"
      ],
      "metadata": {
        "id": "fkMoCxAQT3wD"
      },
      "execution_count": null,
      "outputs": []
    },
    {
      "cell_type": "code",
      "source": [
        "prs_ppt = Presentation()\n",
        "main_slide = prs_ppt.slide_layouts[1]\n",
        "main_ppt = prs_ppt.slides.add_slide(main_slide)\n",
        "\n",
        "title_text = main_ppt.placeholders[0].text_frame\n",
        "title_text.text = \"공정 별 변동성 그래프 시각화\"\n",
        "\n",
        "prs_ppt.save(\"example2.pptx\")"
      ],
      "metadata": {
        "id": "tojzvkBZT3tq"
      },
      "execution_count": null,
      "outputs": []
    },
    {
      "cell_type": "code",
      "source": [
        "from pptx.util import Inches"
      ],
      "metadata": {
        "id": "DFiCWVI0T3rZ"
      },
      "execution_count": null,
      "outputs": []
    },
    {
      "cell_type": "code",
      "source": [
        "image1 = \"example.png\""
      ],
      "metadata": {
        "id": "ne5C8MEDT3o8"
      },
      "execution_count": null,
      "outputs": []
    },
    {
      "cell_type": "code",
      "source": [
        "prs_ppt = Presentation()\n",
        "main_slide = prs_ppt.slide_layouts[1]\n",
        "main_ppt = prs_ppt.slides.add_slide(main_slide)\n",
        "\n",
        "title_text = main_ppt.placeholders[0].text_frame\n",
        "title_text.text = \"공정 별 변동성 그래프 시각화\"\n",
        "\n",
        "main_ppt.shapes.add_picture(image1, inches(1), inches(3) )\n",
        "\n",
        "prs_ppt.save(\"example3.pptx\")"
      ],
      "metadata": {
        "id": "Qd1BIEMQT3mf"
      },
      "execution_count": null,
      "outputs": []
    },
    {
      "cell_type": "code",
      "source": [
        "pd.read_csv(\"summary.csv\")"
      ],
      "metadata": {
        "id": "4hIxcAaHT3kI"
      },
      "execution_count": null,
      "outputs": []
    },
    {
      "cell_type": "code",
      "source": [
        "df1.shape"
      ],
      "metadata": {
        "id": "ig7iZpidT3hr"
      },
      "execution_count": null,
      "outputs": []
    },
    {
      "cell_type": "code",
      "source": [
        "main_ppt.shapes.add_table(df1.shape[0]+1, df1.shape[1]+1,\n",
        "                          inches(1), inches(6),\n",
        "                          inches(5), inches(2))"
      ],
      "metadata": {
        "id": "i63eO_aoT3fL"
      },
      "execution_count": null,
      "outputs": []
    },
    {
      "cell_type": "code",
      "source": [
        "prs_ppt = Presentation()\n",
        "main_slide = prs_ppt.slide_layouts[1]\n",
        "main_ppt = prs_ppt.slides.add_slide(main_slide)\n",
        "\n",
        "title_text = main_ppt.placeholders[0].text_frame\n",
        "title_text.text = \"공정 별 변동성 그래프 시각화\"\n",
        "\n",
        "main_ppt.shapes.add_picture(image1, inches(1), inches(3))\n",
        "\n",
        "main_ppt.shapes.add_table(df1.shape[0]+1, df1.shape[1]+1,\n",
        "                          inches(1), inches(6),\n",
        "                          inches(5), inches(2))\n",
        "\n",
        "df1_column_list = df1.columns.tolist()\n",
        "\n",
        "for i in range(0, len(df1_columns_list)):\n",
        "    data_table.table.cell(0,i+1).text = df1_column_list[i]\n",
        "\n",
        "first_line = df1.values[0].astype(str).tolist()\n",
        "second_line = df1.values[1].astype(str).tolist()\n",
        "\n",
        "for i in range(0, len(first_line)):\n",
        "    data_table.table.cell(1, i+1).text = first_line[i]\n",
        "\n",
        "for i in range(0, len(second_line)):\n",
        "    data_table.table.cell(1, i+1).text = second_line[i]\n",
        "\n",
        "\n",
        "prs_ppt.save(\"example4.pptx\")"
      ],
      "metadata": {
        "id": "-eWDSGW9fvYP"
      },
      "execution_count": null,
      "outputs": []
    }
  ]
}