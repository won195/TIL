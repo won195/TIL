{
  "cells": [
    {
      "cell_type": "markdown",
      "metadata": {
        "id": "view-in-github",
        "colab_type": "text"
      },
      "source": [
        "<a href=\"https://colab.research.google.com/github/won195/TIL/blob/master/set06_10_note.ipynb\" target=\"_parent\"><img src=\"https://colab.research.google.com/assets/colab-badge.svg\" alt=\"Open In Colab\"/></a>"
      ]
    },
    {
      "cell_type": "markdown",
      "id": "a0590ad8",
      "metadata": {
        "id": "a0590ad8"
      },
      "source": [
        "# 문제 06 유형(DataSet_06.csv 이용)"
      ]
    },
    {
      "cell_type": "code",
      "execution_count": null,
      "id": "ce91b576",
      "metadata": {
        "id": "ce91b576"
      },
      "outputs": [],
      "source": [
        "# =============================================================================\n",
        "# 구분자 : comma(“,”), 4,323 Rows, 19 Columns, UTF-8 인코딩\n",
        "\n",
        "# 주택 관련 정보를 바탕으로 주택 가격을 예측해 보고자 한다. \n",
        "# 다음은 확보한 주택 관련 데이터로 총 19개 컬럼으로 구성되어\n",
        "# 있다.\n",
        "\n",
        "# 컬 럼 / 정 의 / Type\n",
        "# id / 매물 번호 / Double\n",
        "# date / 날짜 / String\n",
        "# price / 거래 가격 / Double\n",
        "# bedrooms / 방 개수 / Double\n",
        "# bathrooms / 화장실 개수 (화장실은 있으나 샤워기 없는 경우 0.5로 처리) / Double\n",
        "# sqft_living / 건축물 면적 / Double\n",
        "# sqft_lot / 대지 면적 / Double\n",
        "# floors / 건축물의 층수 / Double\n",
        "# waterfront / 강변 조망 가능 여부 (0 / 1) / Double\n",
        "# view / 경관 (나쁨에서 좋음으로 0 ~ 4로 표시) / Double\n",
        "# condition / 관리 상태 (나쁨에서 좋음으로 1 ~ 5로 표시) / Double\n",
        "# grade / 등급 (낮음에서 높음으로 1 ~ 13으로 표시) / Double\n",
        "# sqft_above / 지상 면적 / Double\n",
        "# sqft_basement / 지하실 면적 / Double\n",
        "# yr_built / 건축 연도 / Double\n",
        "# yr_renovated / 개축 연도 / Double\n",
        "# zipcode / 우편번호 / Double\n",
        "# sqft_living15 / 15개의 인근 주택의 평균 건물 면적 / Double\n",
        "# sqft_lot15 / 15개의 인근 주택의 평균 대지 면적 / Double\n",
        "# =============================================================================\n",
        "# ============================================================================="
      ]
    },
    {
      "cell_type": "code",
      "execution_count": null,
      "id": "65a335b8",
      "metadata": {
        "id": "65a335b8",
        "outputId": "e5bd4e0d-c76f-40e5-e906-ebe2de6214e3"
      },
      "outputs": [
        {
          "name": "stderr",
          "output_type": "stream",
          "text": [
            "C:\\Anaconda3\\lib\\site-packages\\numpy\\_distributor_init.py:30: UserWarning: loaded more than 1 DLL from .libs:\n",
            "C:\\Anaconda3\\lib\\site-packages\\numpy\\.libs\\libopenblas.WCDJNK7YVMPZQ2ME2ZZHJJRJ3JIKNDB7.gfortran-win_amd64.dll\n",
            "C:\\Anaconda3\\lib\\site-packages\\numpy\\.libs\\libopenblas.XWYDX2IKJW2NMTWSFYNGFUWKQU3LYTCZ.gfortran-win_amd64.dll\n",
            "  warnings.warn(\"loaded more than 1 DLL from .libs:\"\n"
          ]
        }
      ],
      "source": [
        "import pandas as pd\n",
        "import numpy as np"
      ]
    },
    {
      "cell_type": "code",
      "execution_count": null,
      "id": "b219aa48",
      "metadata": {
        "id": "b219aa48"
      },
      "outputs": [],
      "source": [
        "data6=pd.read_csv('../Dataset/Dataset_06.csv')"
      ]
    },
    {
      "cell_type": "code",
      "execution_count": null,
      "id": "5a932fb6",
      "metadata": {
        "id": "5a932fb6",
        "outputId": "b7b05cf0-ad19-47aa-be1b-672cbc5202e1"
      },
      "outputs": [
        {
          "name": "stdout",
          "output_type": "stream",
          "text": [
            "<class 'pandas.core.frame.DataFrame'>\n",
            "RangeIndex: 4323 entries, 0 to 4322\n",
            "Data columns (total 19 columns):\n",
            " #   Column         Non-Null Count  Dtype  \n",
            "---  ------         --------------  -----  \n",
            " 0   id             4323 non-null   int64  \n",
            " 1   date           4323 non-null   object \n",
            " 2   price          4323 non-null   float64\n",
            " 3   bedrooms       4323 non-null   int64  \n",
            " 4   bathrooms      4323 non-null   float64\n",
            " 5   sqft_living    4323 non-null   int64  \n",
            " 6   sqft_lot       4323 non-null   int64  \n",
            " 7   floors         4323 non-null   float64\n",
            " 8   waterfront     4323 non-null   int64  \n",
            " 9   view           4323 non-null   int64  \n",
            " 10  condition      4323 non-null   int64  \n",
            " 11  grade          4323 non-null   int64  \n",
            " 12  sqft_above     4323 non-null   int64  \n",
            " 13  sqft_basement  4323 non-null   int64  \n",
            " 14  yr_built       4323 non-null   int64  \n",
            " 15  yr_renovated   4323 non-null   int64  \n",
            " 16  zipcode        4323 non-null   int64  \n",
            " 17  sqft_living15  4323 non-null   int64  \n",
            " 18  sqft_lot15     4323 non-null   int64  \n",
            "dtypes: float64(3), int64(15), object(1)\n",
            "memory usage: 641.8+ KB\n"
          ]
        }
      ],
      "source": [
        "data6.info()"
      ]
    },
    {
      "cell_type": "code",
      "execution_count": null,
      "id": "191c23d2",
      "metadata": {
        "id": "191c23d2"
      },
      "outputs": [],
      "source": [
        "# =============================================================================\n",
        "# 1.강변 조망이 가능한지 여부(waterfront)에 따라 평균 주택 가격을 계산하고 조망이\n",
        "# 가능한 경우와 그렇지 않은 경우의 평균 가격 차이의 절대값을 구하시오. 답은\n",
        "# 소수점 이하는 버리고 정수부만 기술하시오. (답안 예시) 1234567\n",
        "# ============================================================================="
      ]
    },
    {
      "cell_type": "code",
      "execution_count": null,
      "id": "26403fae",
      "metadata": {
        "id": "26403fae"
      },
      "outputs": [],
      "source": [
        "q6_1_0=data6[data6.waterfront==0]['price'].mean()\n",
        "q6_1_1=data6[data6.waterfront==1]['price'].mean()"
      ]
    },
    {
      "cell_type": "code",
      "execution_count": null,
      "id": "bb7ee740",
      "metadata": {
        "id": "bb7ee740",
        "outputId": "106417bf-bf06-40f3-f952-d1ff29e51847"
      },
      "outputs": [
        {
          "data": {
            "text/plain": [
              "1167272.0"
            ]
          },
          "execution_count": 6,
          "metadata": {},
          "output_type": "execute_result"
        }
      ],
      "source": [
        "np.trunc(abs(q6_1_0 - q6_1_1))"
      ]
    },
    {
      "cell_type": "code",
      "execution_count": null,
      "id": "5788aad0",
      "metadata": {
        "id": "5788aad0"
      },
      "outputs": [],
      "source": [
        "# =============================================================================\n",
        "# 2.price, bedrooms, bathrooms, sqft_living, sqft_lot, floors, yr_built 등 7개의 변수 간의\n",
        "# 상관분석을 수행하고 price와의 상관계수의 절대값이 가장 큰 변수와 가장 작은\n",
        "# 변수를 차례로 기술하시오. (답안 예시) view, zipcode\n",
        "# \n",
        "# ============================================================================="
      ]
    },
    {
      "cell_type": "code",
      "execution_count": null,
      "id": "28e86082",
      "metadata": {
        "id": "28e86082"
      },
      "outputs": [],
      "source": [
        "var_list=['price', 'bedrooms', 'bathrooms', 'sqft_living', 'sqft_lot', 'floors', 'yr_built']"
      ]
    },
    {
      "cell_type": "code",
      "execution_count": null,
      "id": "32593a1e",
      "metadata": {
        "id": "32593a1e"
      },
      "outputs": [],
      "source": [
        "q6_2=data6[var_list].corr()['price'].drop('price')"
      ]
    },
    {
      "cell_type": "code",
      "execution_count": null,
      "id": "80567de1",
      "metadata": {
        "id": "80567de1",
        "outputId": "f9004287-ea28-4c31-8cd1-f94b942aba8c"
      },
      "outputs": [
        {
          "data": {
            "text/plain": [
              "bedrooms       0.279824\n",
              "bathrooms      0.534277\n",
              "sqft_living    0.709157\n",
              "sqft_lot       0.106341\n",
              "floors         0.270423\n",
              "yr_built       0.059895\n",
              "Name: price, dtype: float64"
            ]
          },
          "execution_count": 9,
          "metadata": {},
          "output_type": "execute_result"
        }
      ],
      "source": [
        "q6_2"
      ]
    },
    {
      "cell_type": "code",
      "execution_count": null,
      "id": "d92ec673",
      "metadata": {
        "id": "d92ec673",
        "outputId": "249c893a-941c-4df6-bd5a-e359c9824995"
      },
      "outputs": [
        {
          "data": {
            "text/plain": [
              "('sqft_living', 'yr_built')"
            ]
          },
          "execution_count": 10,
          "metadata": {},
          "output_type": "execute_result"
        }
      ],
      "source": [
        "q6_2.abs().idxmax(), q6_2.abs().idxmin()"
      ]
    },
    {
      "cell_type": "code",
      "execution_count": null,
      "id": "f1388d3b",
      "metadata": {
        "id": "f1388d3b"
      },
      "outputs": [],
      "source": [
        "# =============================================================================\n",
        "# 3. id, date, 그리고 zipcode를 제외한 모든 변수를 독립변수로, price를 종속변수로 하여\n",
        "# 회귀분석을 수행하시오. 통계적 유의성을 갖지 못하는 독립변수를 제거하면 회귀\n",
        "# 모형에 남는 변수는 모두\n",
        "# 몇 개인가? 이 때 음의 회귀계수를 가지는 변수는 몇 개인가? (답안 예시) 5, 3\n",
        "# =============================================================================\n",
        "\n",
        "# =============================================================================\n",
        "# (참고)\n",
        "# import pandas as pd\n",
        "# import numpy as np\n",
        "# from sklearn.linear_model import LinearRegression\n",
        "# from statsmodels.formula.api import ols\n",
        "# ============================================================================="
      ]
    },
    {
      "cell_type": "code",
      "execution_count": null,
      "id": "8cb84463",
      "metadata": {
        "id": "8cb84463"
      },
      "outputs": [],
      "source": [
        "from statsmodels.formula.api import ols"
      ]
    },
    {
      "cell_type": "code",
      "execution_count": null,
      "id": "ffff4922",
      "metadata": {
        "id": "ffff4922"
      },
      "outputs": [],
      "source": [
        "# lm=ols(식, 데이터셋).fit()\n",
        "\n",
        "# 식 'y~x1+x2+C(x3)+x4-1'  \n",
        "# -1: 상수항 미포함\n",
        "# C() : 범주형 변수 선언, 문자열 범주형 변수가 입력으로 삽입되면 자동으로 범주형 변수들이 더미변수 변경\n"
      ]
    },
    {
      "cell_type": "code",
      "execution_count": null,
      "id": "73748fab",
      "metadata": {
        "id": "73748fab"
      },
      "outputs": [],
      "source": [
        "var_list2=data6.columns.drop([ 'id', 'date', 'zipcode', 'price'])"
      ]
    },
    {
      "cell_type": "code",
      "execution_count": null,
      "id": "ecafa2f0",
      "metadata": {
        "id": "ecafa2f0",
        "outputId": "9f94e19c-789c-4d10-9947-85323cf36659"
      },
      "outputs": [
        {
          "data": {
            "text/plain": [
              "Index(['bedrooms', 'bathrooms', 'sqft_living', 'sqft_lot', 'floors',\n",
              "       'waterfront', 'view', 'condition', 'grade', 'sqft_above',\n",
              "       'sqft_basement', 'yr_built', 'yr_renovated', 'sqft_living15',\n",
              "       'sqft_lot15'],\n",
              "      dtype='object')"
            ]
          },
          "execution_count": 14,
          "metadata": {},
          "output_type": "execute_result"
        }
      ],
      "source": [
        "var_list2"
      ]
    },
    {
      "cell_type": "code",
      "execution_count": null,
      "id": "b70a9994",
      "metadata": {
        "id": "b70a9994",
        "outputId": "e1cfe677-5a2a-4259-dfdb-ac9064d1dc53"
      },
      "outputs": [
        {
          "data": {
            "text/plain": [
              "'price~bedrooms+bathrooms'"
            ]
          },
          "execution_count": 15,
          "metadata": {},
          "output_type": "execute_result"
        }
      ],
      "source": [
        "'price~' + 'bedrooms+bathrooms'  # 문자열 + 문자열 -> 문자열"
      ]
    },
    {
      "cell_type": "code",
      "execution_count": null,
      "id": "e0cbf5b2",
      "metadata": {
        "id": "e0cbf5b2",
        "outputId": "71115e6e-f7f3-45d9-8b23-774df2270abe"
      },
      "outputs": [
        {
          "data": {
            "text/plain": [
              "'bedrooms+bathrooms+sqft_living+sqft_lot+floors+waterfront+view+condition+grade+sqft_above+sqft_basement+yr_built+yr_renovated+sqft_living15+sqft_lot15'"
            ]
          },
          "execution_count": 16,
          "metadata": {},
          "output_type": "execute_result"
        }
      ],
      "source": [
        "'+'.join(var_list2)"
      ]
    },
    {
      "cell_type": "code",
      "execution_count": null,
      "id": "7875d5e3",
      "metadata": {
        "id": "7875d5e3",
        "outputId": "5ebe6e9a-962f-4386-8686-0bae2cb3af79"
      },
      "outputs": [
        {
          "data": {
            "text/plain": [
              "'price~bedrooms+bathrooms+sqft_living+sqft_lot+floors+waterfront+view+condition+grade+sqft_above+sqft_basement+yr_built+yr_renovated+sqft_living15+sqft_lot15'"
            ]
          },
          "execution_count": 17,
          "metadata": {},
          "output_type": "execute_result"
        }
      ],
      "source": [
        "form1 = 'price~' + '+'.join(var_list2)\n",
        "form1"
      ]
    },
    {
      "cell_type": "code",
      "execution_count": null,
      "id": "bc14efed",
      "metadata": {
        "id": "bc14efed"
      },
      "outputs": [],
      "source": [
        "# lm1=ols(form1, data6)\n",
        "# lm2=lm1.fit()\n",
        "\n",
        "lm1=ols(form1, data6).fit()"
      ]
    },
    {
      "cell_type": "code",
      "execution_count": null,
      "id": "44108e7f",
      "metadata": {
        "id": "44108e7f",
        "outputId": "fd6378e0-4ca3-4c48-f024-898fad4b1272"
      },
      "outputs": [
        {
          "data": {
            "text/plain": [
              "0       303167.404363\n",
              "1       494555.779137\n",
              "2       526394.280930\n",
              "3       381742.870130\n",
              "4       326405.856590\n",
              "            ...      \n",
              "4318    218820.959470\n",
              "4319    700129.403303\n",
              "4320    403050.034203\n",
              "4321    530431.529543\n",
              "4322    462692.590490\n",
              "Length: 4323, dtype: float64"
            ]
          },
          "execution_count": 20,
          "metadata": {},
          "output_type": "execute_result"
        }
      ],
      "source": [
        "lm1.predict(data6)"
      ]
    },
    {
      "cell_type": "code",
      "execution_count": null,
      "id": "0e88dcb7",
      "metadata": {
        "id": "0e88dcb7",
        "outputId": "d237fc2b-ebd8-4761-a288-1ecbdb21cafb"
      },
      "outputs": [
        {
          "data": {
            "text/html": [
              "<table class=\"simpletable\">\n",
              "<caption>OLS Regression Results</caption>\n",
              "<tr>\n",
              "  <th>Dep. Variable:</th>          <td>price</td>      <th>  R-squared:         </th> <td>   0.681</td> \n",
              "</tr>\n",
              "<tr>\n",
              "  <th>Model:</th>                   <td>OLS</td>       <th>  Adj. R-squared:    </th> <td>   0.680</td> \n",
              "</tr>\n",
              "<tr>\n",
              "  <th>Method:</th>             <td>Least Squares</td>  <th>  F-statistic:       </th> <td>   656.0</td> \n",
              "</tr>\n",
              "<tr>\n",
              "  <th>Date:</th>             <td>Fri, 09 Jun 2023</td> <th>  Prob (F-statistic):</th>  <td>  0.00</td>  \n",
              "</tr>\n",
              "<tr>\n",
              "  <th>Time:</th>                 <td>10:21:37</td>     <th>  Log-Likelihood:    </th> <td> -58960.</td> \n",
              "</tr>\n",
              "<tr>\n",
              "  <th>No. Observations:</th>      <td>  4323</td>      <th>  AIC:               </th> <td>1.180e+05</td>\n",
              "</tr>\n",
              "<tr>\n",
              "  <th>Df Residuals:</th>          <td>  4308</td>      <th>  BIC:               </th> <td>1.180e+05</td>\n",
              "</tr>\n",
              "<tr>\n",
              "  <th>Df Model:</th>              <td>    14</td>      <th>                     </th>     <td> </td>    \n",
              "</tr>\n",
              "<tr>\n",
              "  <th>Covariance Type:</th>      <td>nonrobust</td>    <th>                     </th>     <td> </td>    \n",
              "</tr>\n",
              "</table>\n",
              "<table class=\"simpletable\">\n",
              "<tr>\n",
              "        <td></td>           <th>coef</th>     <th>std err</th>      <th>t</th>      <th>P>|t|</th>  <th>[0.025</th>    <th>0.975]</th>  \n",
              "</tr>\n",
              "<tr>\n",
              "  <th>Intercept</th>     <td> 6.302e+06</td> <td> 2.95e+05</td> <td>   21.401</td> <td> 0.000</td> <td> 5.73e+06</td> <td> 6.88e+06</td>\n",
              "</tr>\n",
              "<tr>\n",
              "  <th>bedrooms</th>      <td>  -2.5e+04</td> <td> 3680.510</td> <td>   -6.791</td> <td> 0.000</td> <td>-3.22e+04</td> <td>-1.78e+04</td>\n",
              "</tr>\n",
              "<tr>\n",
              "  <th>bathrooms</th>     <td> 5.179e+04</td> <td> 7163.408</td> <td>    7.230</td> <td> 0.000</td> <td> 3.77e+04</td> <td> 6.58e+04</td>\n",
              "</tr>\n",
              "<tr>\n",
              "  <th>sqft_living</th>   <td>   92.3081</td> <td>    5.074</td> <td>   18.192</td> <td> 0.000</td> <td>   82.360</td> <td>  102.256</td>\n",
              "</tr>\n",
              "<tr>\n",
              "  <th>sqft_lot</th>      <td>    0.0054</td> <td>    0.093</td> <td>    0.059</td> <td> 0.953</td> <td>   -0.176</td> <td>    0.187</td>\n",
              "</tr>\n",
              "<tr>\n",
              "  <th>floors</th>        <td> 3.748e+04</td> <td> 8141.392</td> <td>    4.604</td> <td> 0.000</td> <td> 2.15e+04</td> <td> 5.34e+04</td>\n",
              "</tr>\n",
              "<tr>\n",
              "  <th>waterfront</th>    <td> 6.277e+05</td> <td> 3.91e+04</td> <td>   16.064</td> <td> 0.000</td> <td> 5.51e+05</td> <td> 7.04e+05</td>\n",
              "</tr>\n",
              "<tr>\n",
              "  <th>view</th>          <td>  4.04e+04</td> <td> 4797.344</td> <td>    8.421</td> <td> 0.000</td> <td>  3.1e+04</td> <td> 4.98e+04</td>\n",
              "</tr>\n",
              "<tr>\n",
              "  <th>condition</th>     <td> 1.571e+04</td> <td> 5317.387</td> <td>    2.954</td> <td> 0.003</td> <td> 5280.918</td> <td> 2.61e+04</td>\n",
              "</tr>\n",
              "<tr>\n",
              "  <th>grade</th>         <td> 1.306e+05</td> <td> 4700.604</td> <td>   27.789</td> <td> 0.000</td> <td> 1.21e+05</td> <td>  1.4e+05</td>\n",
              "</tr>\n",
              "<tr>\n",
              "  <th>sqft_above</th>    <td>   33.7358</td> <td>    4.981</td> <td>    6.773</td> <td> 0.000</td> <td>   23.971</td> <td>   43.501</td>\n",
              "</tr>\n",
              "<tr>\n",
              "  <th>sqft_basement</th> <td>   58.5722</td> <td>    5.840</td> <td>   10.030</td> <td> 0.000</td> <td>   47.123</td> <td>   70.021</td>\n",
              "</tr>\n",
              "<tr>\n",
              "  <th>yr_built</th>      <td>-3666.8957</td> <td>  150.805</td> <td>  -24.316</td> <td> 0.000</td> <td>-3962.551</td> <td>-3371.241</td>\n",
              "</tr>\n",
              "<tr>\n",
              "  <th>yr_renovated</th>  <td>   17.7032</td> <td>    8.265</td> <td>    2.142</td> <td> 0.032</td> <td>    1.499</td> <td>   33.908</td>\n",
              "</tr>\n",
              "<tr>\n",
              "  <th>sqft_living15</th> <td>   23.0114</td> <td>    7.561</td> <td>    3.044</td> <td> 0.002</td> <td>    8.188</td> <td>   37.834</td>\n",
              "</tr>\n",
              "<tr>\n",
              "  <th>sqft_lot15</th>    <td>   -0.2323</td> <td>    0.142</td> <td>   -1.637</td> <td> 0.102</td> <td>   -0.511</td> <td>    0.046</td>\n",
              "</tr>\n",
              "</table>\n",
              "<table class=\"simpletable\">\n",
              "<tr>\n",
              "  <th>Omnibus:</th>       <td>2170.721</td> <th>  Durbin-Watson:     </th> <td>   2.011</td> \n",
              "</tr>\n",
              "<tr>\n",
              "  <th>Prob(Omnibus):</th>  <td> 0.000</td>  <th>  Jarque-Bera (JB):  </th> <td>38362.875</td>\n",
              "</tr>\n",
              "<tr>\n",
              "  <th>Skew:</th>           <td> 1.971</td>  <th>  Prob(JB):          </th> <td>    0.00</td> \n",
              "</tr>\n",
              "<tr>\n",
              "  <th>Kurtosis:</th>       <td>17.051</td>  <th>  Cond. No.          </th> <td>1.41e+17</td> \n",
              "</tr>\n",
              "</table><br/><br/>Notes:<br/>[1] Standard Errors assume that the covariance matrix of the errors is correctly specified.<br/>[2] The smallest eigenvalue is 8.13e-22. This might indicate that there are<br/>strong multicollinearity problems or that the design matrix is singular."
            ],
            "text/plain": [
              "<class 'statsmodels.iolib.summary.Summary'>\n",
              "\"\"\"\n",
              "                            OLS Regression Results                            \n",
              "==============================================================================\n",
              "Dep. Variable:                  price   R-squared:                       0.681\n",
              "Model:                            OLS   Adj. R-squared:                  0.680\n",
              "Method:                 Least Squares   F-statistic:                     656.0\n",
              "Date:                Fri, 09 Jun 2023   Prob (F-statistic):               0.00\n",
              "Time:                        10:21:37   Log-Likelihood:                -58960.\n",
              "No. Observations:                4323   AIC:                         1.180e+05\n",
              "Df Residuals:                    4308   BIC:                         1.180e+05\n",
              "Df Model:                          14                                         \n",
              "Covariance Type:            nonrobust                                         \n",
              "=================================================================================\n",
              "                    coef    std err          t      P>|t|      [0.025      0.975]\n",
              "---------------------------------------------------------------------------------\n",
              "Intercept      6.302e+06   2.95e+05     21.401      0.000    5.73e+06    6.88e+06\n",
              "bedrooms        -2.5e+04   3680.510     -6.791      0.000   -3.22e+04   -1.78e+04\n",
              "bathrooms      5.179e+04   7163.408      7.230      0.000    3.77e+04    6.58e+04\n",
              "sqft_living      92.3081      5.074     18.192      0.000      82.360     102.256\n",
              "sqft_lot          0.0054      0.093      0.059      0.953      -0.176       0.187\n",
              "floors         3.748e+04   8141.392      4.604      0.000    2.15e+04    5.34e+04\n",
              "waterfront     6.277e+05   3.91e+04     16.064      0.000    5.51e+05    7.04e+05\n",
              "view            4.04e+04   4797.344      8.421      0.000     3.1e+04    4.98e+04\n",
              "condition      1.571e+04   5317.387      2.954      0.003    5280.918    2.61e+04\n",
              "grade          1.306e+05   4700.604     27.789      0.000    1.21e+05     1.4e+05\n",
              "sqft_above       33.7358      4.981      6.773      0.000      23.971      43.501\n",
              "sqft_basement    58.5722      5.840     10.030      0.000      47.123      70.021\n",
              "yr_built      -3666.8957    150.805    -24.316      0.000   -3962.551   -3371.241\n",
              "yr_renovated     17.7032      8.265      2.142      0.032       1.499      33.908\n",
              "sqft_living15    23.0114      7.561      3.044      0.002       8.188      37.834\n",
              "sqft_lot15       -0.2323      0.142     -1.637      0.102      -0.511       0.046\n",
              "==============================================================================\n",
              "Omnibus:                     2170.721   Durbin-Watson:                   2.011\n",
              "Prob(Omnibus):                  0.000   Jarque-Bera (JB):            38362.875\n",
              "Skew:                           1.971   Prob(JB):                         0.00\n",
              "Kurtosis:                      17.051   Cond. No.                     1.41e+17\n",
              "==============================================================================\n",
              "\n",
              "Notes:\n",
              "[1] Standard Errors assume that the covariance matrix of the errors is correctly specified.\n",
              "[2] The smallest eigenvalue is 8.13e-22. This might indicate that there are\n",
              "strong multicollinearity problems or that the design matrix is singular.\n",
              "\"\"\""
            ]
          },
          "execution_count": 21,
          "metadata": {},
          "output_type": "execute_result"
        }
      ],
      "source": [
        "lm1.summary()"
      ]
    },
    {
      "cell_type": "code",
      "execution_count": null,
      "id": "c3beaec6",
      "metadata": {
        "id": "c3beaec6",
        "outputId": "18bfd3b8-21d8-4458-dc84-d5910c4a9d2b"
      },
      "outputs": [
        {
          "data": {
            "text/plain": [
              "True"
            ]
          },
          "execution_count": 22,
          "metadata": {},
          "output_type": "execute_result"
        }
      ],
      "source": [
        "lm1.f_pvalue < 0.05"
      ]
    },
    {
      "cell_type": "code",
      "execution_count": null,
      "id": "a412d8df",
      "metadata": {
        "id": "a412d8df",
        "outputId": "e26721aa-6351-4145-afae-4915afe22bc4"
      },
      "outputs": [
        {
          "data": {
            "text/plain": [
              "Intercept        6.302495e+06\n",
              "bedrooms        -2.499553e+04\n",
              "bathrooms        5.179234e+04\n",
              "sqft_living      9.230805e+01\n",
              "sqft_lot         5.444844e-03\n",
              "floors           3.748199e+04\n",
              "waterfront       6.276528e+05\n",
              "view             4.039778e+04\n",
              "condition        1.570573e+04\n",
              "grade            1.306274e+05\n",
              "sqft_above       3.373579e+01\n",
              "sqft_basement    5.857224e+01\n",
              "yr_built        -3.666896e+03\n",
              "yr_renovated     1.770319e+01\n",
              "sqft_living15    2.301144e+01\n",
              "sqft_lot15      -2.322904e-01\n",
              "dtype: float64"
            ]
          },
          "execution_count": 23,
          "metadata": {},
          "output_type": "execute_result"
        }
      ],
      "source": [
        "lm1.params  # 상수 및 회귀계수 호출"
      ]
    },
    {
      "cell_type": "code",
      "execution_count": null,
      "id": "e686cf08",
      "metadata": {
        "id": "e686cf08",
        "outputId": "38078697-9a97-4b38-caa1-c97a3a0b8e9a"
      },
      "outputs": [
        {
          "data": {
            "text/plain": [
              "Index(['bedrooms', 'bathrooms', 'sqft_living', 'floors', 'waterfront', 'view',\n",
              "       'condition', 'grade', 'sqft_above', 'sqft_basement', 'yr_built',\n",
              "       'yr_renovated', 'sqft_living15'],\n",
              "      dtype='object')"
            ]
          },
          "execution_count": 27,
          "metadata": {},
          "output_type": "execute_result"
        }
      ],
      "source": [
        "sel_var=lm1.pvalues.index[lm1.pvalues < 0.05].drop('Intercept')  # (상수항 제외) 유의미한 변수 추출\n",
        "sel_var"
      ]
    },
    {
      "cell_type": "markdown",
      "id": "a4cfb971",
      "metadata": {
        "id": "a4cfb971"
      },
      "source": [
        "- 답"
      ]
    },
    {
      "cell_type": "code",
      "execution_count": null,
      "id": "b3af5369",
      "metadata": {
        "id": "b3af5369",
        "outputId": "2d19a23c-b1d8-495b-8a48-0807e9b600e8"
      },
      "outputs": [
        {
          "data": {
            "text/plain": [
              "13"
            ]
          },
          "execution_count": 33,
          "metadata": {},
          "output_type": "execute_result"
        }
      ],
      "source": [
        "len(sel_var) # 유의미한 변수 수"
      ]
    },
    {
      "cell_type": "code",
      "execution_count": null,
      "id": "2336249b",
      "metadata": {
        "id": "2336249b",
        "outputId": "ba36ba49-580c-4b3a-e8b5-e1922e0654e0"
      },
      "outputs": [
        {
          "data": {
            "text/plain": [
              "2"
            ]
          },
          "execution_count": 36,
          "metadata": {},
          "output_type": "execute_result"
        }
      ],
      "source": [
        "(lm1.params[sel_var] < 0).sum()  # 음수 수"
      ]
    },
    {
      "cell_type": "markdown",
      "id": "f845e9d5",
      "metadata": {
        "id": "f845e9d5"
      },
      "source": [
        "## 참고 자료"
      ]
    },
    {
      "cell_type": "code",
      "execution_count": null,
      "id": "fd490df5",
      "metadata": {
        "id": "fd490df5",
        "outputId": "e702a9d7-ba65-49c0-a910-e6e4f47113b6"
      },
      "outputs": [
        {
          "data": {
            "text/html": [
              "<div>\n",
              "<style scoped>\n",
              "    .dataframe tbody tr th:only-of-type {\n",
              "        vertical-align: middle;\n",
              "    }\n",
              "\n",
              "    .dataframe tbody tr th {\n",
              "        vertical-align: top;\n",
              "    }\n",
              "\n",
              "    .dataframe thead th {\n",
              "        text-align: right;\n",
              "    }\n",
              "</style>\n",
              "<table border=\"1\" class=\"dataframe\">\n",
              "  <thead>\n",
              "    <tr style=\"text-align: right;\">\n",
              "      <th></th>\n",
              "      <th>id</th>\n",
              "      <th>date</th>\n",
              "      <th>price</th>\n",
              "      <th>bedrooms</th>\n",
              "      <th>bathrooms</th>\n",
              "      <th>sqft_living</th>\n",
              "      <th>sqft_lot</th>\n",
              "      <th>floors</th>\n",
              "      <th>waterfront</th>\n",
              "      <th>view</th>\n",
              "      <th>condition</th>\n",
              "      <th>grade</th>\n",
              "      <th>sqft_above</th>\n",
              "      <th>sqft_basement</th>\n",
              "      <th>yr_built</th>\n",
              "      <th>yr_renovated</th>\n",
              "      <th>zipcode</th>\n",
              "      <th>sqft_living15</th>\n",
              "      <th>sqft_lot15</th>\n",
              "    </tr>\n",
              "  </thead>\n",
              "  <tbody>\n",
              "    <tr>\n",
              "      <th>163</th>\n",
              "      <td>7768700300</td>\n",
              "      <td>20141205T000000</td>\n",
              "      <td>2575000.0</td>\n",
              "      <td>4</td>\n",
              "      <td>4.25</td>\n",
              "      <td>5540</td>\n",
              "      <td>15408</td>\n",
              "      <td>2.0</td>\n",
              "      <td>0</td>\n",
              "      <td>1</td>\n",
              "      <td>3</td>\n",
              "      <td>11</td>\n",
              "      <td>4280</td>\n",
              "      <td>1260</td>\n",
              "      <td>2006</td>\n",
              "      <td>0</td>\n",
              "      <td>98004</td>\n",
              "      <td>3570</td>\n",
              "      <td>14750</td>\n",
              "    </tr>\n",
              "    <tr>\n",
              "      <th>187</th>\n",
              "      <td>2402100895</td>\n",
              "      <td>20140625T000000</td>\n",
              "      <td>640000.0</td>\n",
              "      <td>33</td>\n",
              "      <td>1.75</td>\n",
              "      <td>1620</td>\n",
              "      <td>6000</td>\n",
              "      <td>1.0</td>\n",
              "      <td>0</td>\n",
              "      <td>0</td>\n",
              "      <td>5</td>\n",
              "      <td>7</td>\n",
              "      <td>1040</td>\n",
              "      <td>580</td>\n",
              "      <td>1947</td>\n",
              "      <td>0</td>\n",
              "      <td>98103</td>\n",
              "      <td>1330</td>\n",
              "      <td>4700</td>\n",
              "    </tr>\n",
              "    <tr>\n",
              "      <th>248</th>\n",
              "      <td>2424049029</td>\n",
              "      <td>20140529T000000</td>\n",
              "      <td>3100000.0</td>\n",
              "      <td>6</td>\n",
              "      <td>4.25</td>\n",
              "      <td>6980</td>\n",
              "      <td>15682</td>\n",
              "      <td>3.0</td>\n",
              "      <td>0</td>\n",
              "      <td>4</td>\n",
              "      <td>4</td>\n",
              "      <td>12</td>\n",
              "      <td>5330</td>\n",
              "      <td>1650</td>\n",
              "      <td>1999</td>\n",
              "      <td>0</td>\n",
              "      <td>98040</td>\n",
              "      <td>3930</td>\n",
              "      <td>18367</td>\n",
              "    </tr>\n",
              "    <tr>\n",
              "      <th>265</th>\n",
              "      <td>1954700410</td>\n",
              "      <td>20140801T000000</td>\n",
              "      <td>2546000.0</td>\n",
              "      <td>4</td>\n",
              "      <td>3.00</td>\n",
              "      <td>4190</td>\n",
              "      <td>8805</td>\n",
              "      <td>2.5</td>\n",
              "      <td>0</td>\n",
              "      <td>2</td>\n",
              "      <td>5</td>\n",
              "      <td>9</td>\n",
              "      <td>3490</td>\n",
              "      <td>700</td>\n",
              "      <td>1928</td>\n",
              "      <td>0</td>\n",
              "      <td>98112</td>\n",
              "      <td>3780</td>\n",
              "      <td>8558</td>\n",
              "    </tr>\n",
              "    <tr>\n",
              "      <th>382</th>\n",
              "      <td>1118000320</td>\n",
              "      <td>20150508T000000</td>\n",
              "      <td>3400000.0</td>\n",
              "      <td>4</td>\n",
              "      <td>4.00</td>\n",
              "      <td>4260</td>\n",
              "      <td>11765</td>\n",
              "      <td>2.0</td>\n",
              "      <td>0</td>\n",
              "      <td>0</td>\n",
              "      <td>3</td>\n",
              "      <td>11</td>\n",
              "      <td>3280</td>\n",
              "      <td>980</td>\n",
              "      <td>1939</td>\n",
              "      <td>2010</td>\n",
              "      <td>98112</td>\n",
              "      <td>4260</td>\n",
              "      <td>10408</td>\n",
              "    </tr>\n",
              "    <tr>\n",
              "      <th>530</th>\n",
              "      <td>4386700135</td>\n",
              "      <td>20141114T000000</td>\n",
              "      <td>2250000.0</td>\n",
              "      <td>4</td>\n",
              "      <td>2.25</td>\n",
              "      <td>4760</td>\n",
              "      <td>8036</td>\n",
              "      <td>2.5</td>\n",
              "      <td>0</td>\n",
              "      <td>0</td>\n",
              "      <td>5</td>\n",
              "      <td>9</td>\n",
              "      <td>3390</td>\n",
              "      <td>1370</td>\n",
              "      <td>1916</td>\n",
              "      <td>0</td>\n",
              "      <td>98112</td>\n",
              "      <td>2950</td>\n",
              "      <td>9323</td>\n",
              "    </tr>\n",
              "    <tr>\n",
              "      <th>863</th>\n",
              "      <td>3625049042</td>\n",
              "      <td>20141011T000000</td>\n",
              "      <td>3635000.0</td>\n",
              "      <td>5</td>\n",
              "      <td>6.00</td>\n",
              "      <td>5490</td>\n",
              "      <td>19897</td>\n",
              "      <td>2.0</td>\n",
              "      <td>0</td>\n",
              "      <td>0</td>\n",
              "      <td>3</td>\n",
              "      <td>12</td>\n",
              "      <td>5490</td>\n",
              "      <td>0</td>\n",
              "      <td>2005</td>\n",
              "      <td>0</td>\n",
              "      <td>98039</td>\n",
              "      <td>2910</td>\n",
              "      <td>17600</td>\n",
              "    </tr>\n",
              "    <tr>\n",
              "      <th>1065</th>\n",
              "      <td>9808100150</td>\n",
              "      <td>20150402T000000</td>\n",
              "      <td>3345000.0</td>\n",
              "      <td>5</td>\n",
              "      <td>3.75</td>\n",
              "      <td>5350</td>\n",
              "      <td>15360</td>\n",
              "      <td>1.0</td>\n",
              "      <td>0</td>\n",
              "      <td>1</td>\n",
              "      <td>3</td>\n",
              "      <td>11</td>\n",
              "      <td>3040</td>\n",
              "      <td>2310</td>\n",
              "      <td>2008</td>\n",
              "      <td>0</td>\n",
              "      <td>98004</td>\n",
              "      <td>3740</td>\n",
              "      <td>15940</td>\n",
              "    </tr>\n",
              "    <tr>\n",
              "      <th>1067</th>\n",
              "      <td>3025300095</td>\n",
              "      <td>20141009T000000</td>\n",
              "      <td>2500000.0</td>\n",
              "      <td>4</td>\n",
              "      <td>4.50</td>\n",
              "      <td>4300</td>\n",
              "      <td>19844</td>\n",
              "      <td>2.0</td>\n",
              "      <td>0</td>\n",
              "      <td>0</td>\n",
              "      <td>3</td>\n",
              "      <td>11</td>\n",
              "      <td>4300</td>\n",
              "      <td>0</td>\n",
              "      <td>1985</td>\n",
              "      <td>1999</td>\n",
              "      <td>98039</td>\n",
              "      <td>3070</td>\n",
              "      <td>19845</td>\n",
              "    </tr>\n",
              "    <tr>\n",
              "      <th>1091</th>\n",
              "      <td>7524900003</td>\n",
              "      <td>20141210T000000</td>\n",
              "      <td>3278000.0</td>\n",
              "      <td>2</td>\n",
              "      <td>1.75</td>\n",
              "      <td>6840</td>\n",
              "      <td>10000</td>\n",
              "      <td>2.5</td>\n",
              "      <td>1</td>\n",
              "      <td>4</td>\n",
              "      <td>3</td>\n",
              "      <td>11</td>\n",
              "      <td>4350</td>\n",
              "      <td>2490</td>\n",
              "      <td>2001</td>\n",
              "      <td>0</td>\n",
              "      <td>98008</td>\n",
              "      <td>3120</td>\n",
              "      <td>12300</td>\n",
              "    </tr>\n",
              "    <tr>\n",
              "      <th>1240</th>\n",
              "      <td>1118000110</td>\n",
              "      <td>20140529T000000</td>\n",
              "      <td>2453500.0</td>\n",
              "      <td>4</td>\n",
              "      <td>3.50</td>\n",
              "      <td>4730</td>\n",
              "      <td>13586</td>\n",
              "      <td>1.5</td>\n",
              "      <td>0</td>\n",
              "      <td>0</td>\n",
              "      <td>5</td>\n",
              "      <td>10</td>\n",
              "      <td>4270</td>\n",
              "      <td>460</td>\n",
              "      <td>1935</td>\n",
              "      <td>0</td>\n",
              "      <td>98112</td>\n",
              "      <td>3710</td>\n",
              "      <td>8828</td>\n",
              "    </tr>\n",
              "    <tr>\n",
              "      <th>1296</th>\n",
              "      <td>3025300226</td>\n",
              "      <td>20140515T000000</td>\n",
              "      <td>2100000.0</td>\n",
              "      <td>4</td>\n",
              "      <td>1.75</td>\n",
              "      <td>3550</td>\n",
              "      <td>19865</td>\n",
              "      <td>2.0</td>\n",
              "      <td>0</td>\n",
              "      <td>0</td>\n",
              "      <td>3</td>\n",
              "      <td>9</td>\n",
              "      <td>3550</td>\n",
              "      <td>0</td>\n",
              "      <td>1962</td>\n",
              "      <td>2002</td>\n",
              "      <td>98039</td>\n",
              "      <td>3000</td>\n",
              "      <td>19862</td>\n",
              "    </tr>\n",
              "    <tr>\n",
              "      <th>1540</th>\n",
              "      <td>2525049086</td>\n",
              "      <td>20141003T000000</td>\n",
              "      <td>2720000.0</td>\n",
              "      <td>4</td>\n",
              "      <td>3.25</td>\n",
              "      <td>3990</td>\n",
              "      <td>18115</td>\n",
              "      <td>2.0</td>\n",
              "      <td>0</td>\n",
              "      <td>0</td>\n",
              "      <td>4</td>\n",
              "      <td>11</td>\n",
              "      <td>3990</td>\n",
              "      <td>0</td>\n",
              "      <td>1989</td>\n",
              "      <td>0</td>\n",
              "      <td>98039</td>\n",
              "      <td>3450</td>\n",
              "      <td>16087</td>\n",
              "    </tr>\n",
              "    <tr>\n",
              "      <th>1650</th>\n",
              "      <td>1370800515</td>\n",
              "      <td>20141030T000000</td>\n",
              "      <td>2950000.0</td>\n",
              "      <td>4</td>\n",
              "      <td>4.25</td>\n",
              "      <td>4470</td>\n",
              "      <td>5884</td>\n",
              "      <td>2.0</td>\n",
              "      <td>0</td>\n",
              "      <td>1</td>\n",
              "      <td>3</td>\n",
              "      <td>11</td>\n",
              "      <td>3230</td>\n",
              "      <td>1240</td>\n",
              "      <td>2010</td>\n",
              "      <td>0</td>\n",
              "      <td>98199</td>\n",
              "      <td>2570</td>\n",
              "      <td>6000</td>\n",
              "    </tr>\n",
              "    <tr>\n",
              "      <th>2153</th>\n",
              "      <td>121039042</td>\n",
              "      <td>20150313T000000</td>\n",
              "      <td>425000.0</td>\n",
              "      <td>3</td>\n",
              "      <td>2.75</td>\n",
              "      <td>3610</td>\n",
              "      <td>107386</td>\n",
              "      <td>1.5</td>\n",
              "      <td>1</td>\n",
              "      <td>3</td>\n",
              "      <td>3</td>\n",
              "      <td>8</td>\n",
              "      <td>3130</td>\n",
              "      <td>480</td>\n",
              "      <td>1918</td>\n",
              "      <td>1962</td>\n",
              "      <td>98023</td>\n",
              "      <td>2630</td>\n",
              "      <td>42126</td>\n",
              "    </tr>\n",
              "    <tr>\n",
              "      <th>2232</th>\n",
              "      <td>518500480</td>\n",
              "      <td>20140811T000000</td>\n",
              "      <td>3000000.0</td>\n",
              "      <td>3</td>\n",
              "      <td>3.50</td>\n",
              "      <td>4410</td>\n",
              "      <td>10756</td>\n",
              "      <td>2.0</td>\n",
              "      <td>1</td>\n",
              "      <td>4</td>\n",
              "      <td>3</td>\n",
              "      <td>11</td>\n",
              "      <td>3430</td>\n",
              "      <td>980</td>\n",
              "      <td>2014</td>\n",
              "      <td>0</td>\n",
              "      <td>98056</td>\n",
              "      <td>3550</td>\n",
              "      <td>5634</td>\n",
              "    </tr>\n",
              "    <tr>\n",
              "      <th>2346</th>\n",
              "      <td>8964800890</td>\n",
              "      <td>20150109T000000</td>\n",
              "      <td>3200000.0</td>\n",
              "      <td>3</td>\n",
              "      <td>3.25</td>\n",
              "      <td>4560</td>\n",
              "      <td>13363</td>\n",
              "      <td>1.0</td>\n",
              "      <td>0</td>\n",
              "      <td>4</td>\n",
              "      <td>3</td>\n",
              "      <td>11</td>\n",
              "      <td>2760</td>\n",
              "      <td>1800</td>\n",
              "      <td>1995</td>\n",
              "      <td>0</td>\n",
              "      <td>98004</td>\n",
              "      <td>4060</td>\n",
              "      <td>13362</td>\n",
              "    </tr>\n",
              "    <tr>\n",
              "      <th>2365</th>\n",
              "      <td>4131900066</td>\n",
              "      <td>20140825T000000</td>\n",
              "      <td>3100000.0</td>\n",
              "      <td>3</td>\n",
              "      <td>3.00</td>\n",
              "      <td>3920</td>\n",
              "      <td>13085</td>\n",
              "      <td>2.0</td>\n",
              "      <td>1</td>\n",
              "      <td>4</td>\n",
              "      <td>4</td>\n",
              "      <td>11</td>\n",
              "      <td>3920</td>\n",
              "      <td>0</td>\n",
              "      <td>1996</td>\n",
              "      <td>0</td>\n",
              "      <td>98040</td>\n",
              "      <td>3450</td>\n",
              "      <td>13287</td>\n",
              "    </tr>\n",
              "    <tr>\n",
              "      <th>2476</th>\n",
              "      <td>5316101075</td>\n",
              "      <td>20140926T000000</td>\n",
              "      <td>2885000.0</td>\n",
              "      <td>7</td>\n",
              "      <td>3.00</td>\n",
              "      <td>5350</td>\n",
              "      <td>14400</td>\n",
              "      <td>2.5</td>\n",
              "      <td>0</td>\n",
              "      <td>0</td>\n",
              "      <td>4</td>\n",
              "      <td>10</td>\n",
              "      <td>5020</td>\n",
              "      <td>330</td>\n",
              "      <td>1910</td>\n",
              "      <td>0</td>\n",
              "      <td>98112</td>\n",
              "      <td>3050</td>\n",
              "      <td>7469</td>\n",
              "    </tr>\n",
              "    <tr>\n",
              "      <th>2537</th>\n",
              "      <td>3859900060</td>\n",
              "      <td>20150112T000000</td>\n",
              "      <td>2750000.0</td>\n",
              "      <td>5</td>\n",
              "      <td>4.00</td>\n",
              "      <td>6300</td>\n",
              "      <td>16065</td>\n",
              "      <td>2.0</td>\n",
              "      <td>0</td>\n",
              "      <td>1</td>\n",
              "      <td>3</td>\n",
              "      <td>12</td>\n",
              "      <td>4360</td>\n",
              "      <td>1940</td>\n",
              "      <td>2004</td>\n",
              "      <td>0</td>\n",
              "      <td>98004</td>\n",
              "      <td>3260</td>\n",
              "      <td>17287</td>\n",
              "    </tr>\n",
              "    <tr>\n",
              "      <th>2913</th>\n",
              "      <td>3126059023</td>\n",
              "      <td>20150303T000000</td>\n",
              "      <td>3395000.0</td>\n",
              "      <td>4</td>\n",
              "      <td>3.50</td>\n",
              "      <td>4730</td>\n",
              "      <td>47870</td>\n",
              "      <td>1.0</td>\n",
              "      <td>1</td>\n",
              "      <td>4</td>\n",
              "      <td>3</td>\n",
              "      <td>10</td>\n",
              "      <td>2940</td>\n",
              "      <td>1790</td>\n",
              "      <td>1954</td>\n",
              "      <td>0</td>\n",
              "      <td>98033</td>\n",
              "      <td>3250</td>\n",
              "      <td>49346</td>\n",
              "    </tr>\n",
              "    <tr>\n",
              "      <th>2946</th>\n",
              "      <td>5700004028</td>\n",
              "      <td>20150417T000000</td>\n",
              "      <td>2450000.0</td>\n",
              "      <td>4</td>\n",
              "      <td>4.25</td>\n",
              "      <td>4250</td>\n",
              "      <td>6552</td>\n",
              "      <td>2.0</td>\n",
              "      <td>0</td>\n",
              "      <td>3</td>\n",
              "      <td>4</td>\n",
              "      <td>10</td>\n",
              "      <td>2870</td>\n",
              "      <td>1380</td>\n",
              "      <td>2008</td>\n",
              "      <td>0</td>\n",
              "      <td>98144</td>\n",
              "      <td>3640</td>\n",
              "      <td>8841</td>\n",
              "    </tr>\n",
              "    <tr>\n",
              "      <th>3045</th>\n",
              "      <td>2154970020</td>\n",
              "      <td>20140703T000000</td>\n",
              "      <td>2351960.0</td>\n",
              "      <td>4</td>\n",
              "      <td>4.25</td>\n",
              "      <td>5010</td>\n",
              "      <td>19412</td>\n",
              "      <td>2.0</td>\n",
              "      <td>0</td>\n",
              "      <td>1</td>\n",
              "      <td>3</td>\n",
              "      <td>11</td>\n",
              "      <td>4000</td>\n",
              "      <td>1010</td>\n",
              "      <td>2014</td>\n",
              "      <td>0</td>\n",
              "      <td>98040</td>\n",
              "      <td>3820</td>\n",
              "      <td>17064</td>\n",
              "    </tr>\n",
              "    <tr>\n",
              "      <th>3593</th>\n",
              "      <td>685000115</td>\n",
              "      <td>20141007T000000</td>\n",
              "      <td>2150000.0</td>\n",
              "      <td>8</td>\n",
              "      <td>6.00</td>\n",
              "      <td>4340</td>\n",
              "      <td>9415</td>\n",
              "      <td>2.0</td>\n",
              "      <td>0</td>\n",
              "      <td>0</td>\n",
              "      <td>3</td>\n",
              "      <td>8</td>\n",
              "      <td>4340</td>\n",
              "      <td>0</td>\n",
              "      <td>1967</td>\n",
              "      <td>0</td>\n",
              "      <td>98004</td>\n",
              "      <td>2050</td>\n",
              "      <td>9100</td>\n",
              "    </tr>\n",
              "    <tr>\n",
              "      <th>3848</th>\n",
              "      <td>3623500205</td>\n",
              "      <td>20140513T000000</td>\n",
              "      <td>2450000.0</td>\n",
              "      <td>4</td>\n",
              "      <td>4.50</td>\n",
              "      <td>5030</td>\n",
              "      <td>11023</td>\n",
              "      <td>2.0</td>\n",
              "      <td>0</td>\n",
              "      <td>2</td>\n",
              "      <td>3</td>\n",
              "      <td>11</td>\n",
              "      <td>3250</td>\n",
              "      <td>1780</td>\n",
              "      <td>2008</td>\n",
              "      <td>0</td>\n",
              "      <td>98040</td>\n",
              "      <td>3640</td>\n",
              "      <td>11490</td>\n",
              "    </tr>\n",
              "    <tr>\n",
              "      <th>3929</th>\n",
              "      <td>9362000040</td>\n",
              "      <td>20140623T000000</td>\n",
              "      <td>3400000.0</td>\n",
              "      <td>3</td>\n",
              "      <td>4.50</td>\n",
              "      <td>5230</td>\n",
              "      <td>17826</td>\n",
              "      <td>2.0</td>\n",
              "      <td>1</td>\n",
              "      <td>4</td>\n",
              "      <td>3</td>\n",
              "      <td>10</td>\n",
              "      <td>3740</td>\n",
              "      <td>1490</td>\n",
              "      <td>2005</td>\n",
              "      <td>0</td>\n",
              "      <td>98040</td>\n",
              "      <td>3670</td>\n",
              "      <td>17826</td>\n",
              "    </tr>\n",
              "  </tbody>\n",
              "</table>\n",
              "</div>"
            ],
            "text/plain": [
              "              id             date      price  bedrooms  bathrooms  \\\n",
              "163   7768700300  20141205T000000  2575000.0         4       4.25   \n",
              "187   2402100895  20140625T000000   640000.0        33       1.75   \n",
              "248   2424049029  20140529T000000  3100000.0         6       4.25   \n",
              "265   1954700410  20140801T000000  2546000.0         4       3.00   \n",
              "382   1118000320  20150508T000000  3400000.0         4       4.00   \n",
              "530   4386700135  20141114T000000  2250000.0         4       2.25   \n",
              "863   3625049042  20141011T000000  3635000.0         5       6.00   \n",
              "1065  9808100150  20150402T000000  3345000.0         5       3.75   \n",
              "1067  3025300095  20141009T000000  2500000.0         4       4.50   \n",
              "1091  7524900003  20141210T000000  3278000.0         2       1.75   \n",
              "1240  1118000110  20140529T000000  2453500.0         4       3.50   \n",
              "1296  3025300226  20140515T000000  2100000.0         4       1.75   \n",
              "1540  2525049086  20141003T000000  2720000.0         4       3.25   \n",
              "1650  1370800515  20141030T000000  2950000.0         4       4.25   \n",
              "2153   121039042  20150313T000000   425000.0         3       2.75   \n",
              "2232   518500480  20140811T000000  3000000.0         3       3.50   \n",
              "2346  8964800890  20150109T000000  3200000.0         3       3.25   \n",
              "2365  4131900066  20140825T000000  3100000.0         3       3.00   \n",
              "2476  5316101075  20140926T000000  2885000.0         7       3.00   \n",
              "2537  3859900060  20150112T000000  2750000.0         5       4.00   \n",
              "2913  3126059023  20150303T000000  3395000.0         4       3.50   \n",
              "2946  5700004028  20150417T000000  2450000.0         4       4.25   \n",
              "3045  2154970020  20140703T000000  2351960.0         4       4.25   \n",
              "3593   685000115  20141007T000000  2150000.0         8       6.00   \n",
              "3848  3623500205  20140513T000000  2450000.0         4       4.50   \n",
              "3929  9362000040  20140623T000000  3400000.0         3       4.50   \n",
              "\n",
              "      sqft_living  sqft_lot  floors  waterfront  view  condition  grade  \\\n",
              "163          5540     15408     2.0           0     1          3     11   \n",
              "187          1620      6000     1.0           0     0          5      7   \n",
              "248          6980     15682     3.0           0     4          4     12   \n",
              "265          4190      8805     2.5           0     2          5      9   \n",
              "382          4260     11765     2.0           0     0          3     11   \n",
              "530          4760      8036     2.5           0     0          5      9   \n",
              "863          5490     19897     2.0           0     0          3     12   \n",
              "1065         5350     15360     1.0           0     1          3     11   \n",
              "1067         4300     19844     2.0           0     0          3     11   \n",
              "1091         6840     10000     2.5           1     4          3     11   \n",
              "1240         4730     13586     1.5           0     0          5     10   \n",
              "1296         3550     19865     2.0           0     0          3      9   \n",
              "1540         3990     18115     2.0           0     0          4     11   \n",
              "1650         4470      5884     2.0           0     1          3     11   \n",
              "2153         3610    107386     1.5           1     3          3      8   \n",
              "2232         4410     10756     2.0           1     4          3     11   \n",
              "2346         4560     13363     1.0           0     4          3     11   \n",
              "2365         3920     13085     2.0           1     4          4     11   \n",
              "2476         5350     14400     2.5           0     0          4     10   \n",
              "2537         6300     16065     2.0           0     1          3     12   \n",
              "2913         4730     47870     1.0           1     4          3     10   \n",
              "2946         4250      6552     2.0           0     3          4     10   \n",
              "3045         5010     19412     2.0           0     1          3     11   \n",
              "3593         4340      9415     2.0           0     0          3      8   \n",
              "3848         5030     11023     2.0           0     2          3     11   \n",
              "3929         5230     17826     2.0           1     4          3     10   \n",
              "\n",
              "      sqft_above  sqft_basement  yr_built  yr_renovated  zipcode  \\\n",
              "163         4280           1260      2006             0    98004   \n",
              "187         1040            580      1947             0    98103   \n",
              "248         5330           1650      1999             0    98040   \n",
              "265         3490            700      1928             0    98112   \n",
              "382         3280            980      1939          2010    98112   \n",
              "530         3390           1370      1916             0    98112   \n",
              "863         5490              0      2005             0    98039   \n",
              "1065        3040           2310      2008             0    98004   \n",
              "1067        4300              0      1985          1999    98039   \n",
              "1091        4350           2490      2001             0    98008   \n",
              "1240        4270            460      1935             0    98112   \n",
              "1296        3550              0      1962          2002    98039   \n",
              "1540        3990              0      1989             0    98039   \n",
              "1650        3230           1240      2010             0    98199   \n",
              "2153        3130            480      1918          1962    98023   \n",
              "2232        3430            980      2014             0    98056   \n",
              "2346        2760           1800      1995             0    98004   \n",
              "2365        3920              0      1996             0    98040   \n",
              "2476        5020            330      1910             0    98112   \n",
              "2537        4360           1940      2004             0    98004   \n",
              "2913        2940           1790      1954             0    98033   \n",
              "2946        2870           1380      2008             0    98144   \n",
              "3045        4000           1010      2014             0    98040   \n",
              "3593        4340              0      1967             0    98004   \n",
              "3848        3250           1780      2008             0    98040   \n",
              "3929        3740           1490      2005             0    98040   \n",
              "\n",
              "      sqft_living15  sqft_lot15  \n",
              "163            3570       14750  \n",
              "187            1330        4700  \n",
              "248            3930       18367  \n",
              "265            3780        8558  \n",
              "382            4260       10408  \n",
              "530            2950        9323  \n",
              "863            2910       17600  \n",
              "1065           3740       15940  \n",
              "1067           3070       19845  \n",
              "1091           3120       12300  \n",
              "1240           3710        8828  \n",
              "1296           3000       19862  \n",
              "1540           3450       16087  \n",
              "1650           2570        6000  \n",
              "2153           2630       42126  \n",
              "2232           3550        5634  \n",
              "2346           4060       13362  \n",
              "2365           3450       13287  \n",
              "2476           3050        7469  \n",
              "2537           3260       17287  \n",
              "2913           3250       49346  \n",
              "2946           3640        8841  \n",
              "3045           3820       17064  \n",
              "3593           2050        9100  \n",
              "3848           3640       11490  \n",
              "3929           3670       17826  "
            ]
          },
          "execution_count": 29,
          "metadata": {},
          "output_type": "execute_result"
        }
      ],
      "source": [
        "# 이상치 체크\n",
        "data6[lm1.outlier_test()['bonf(p)'] < 0.05] # 귀무가설: 이상치가 아니다 vs 대립가설: 이상치이다"
      ]
    },
    {
      "cell_type": "code",
      "execution_count": null,
      "id": "f0795f34",
      "metadata": {
        "id": "f0795f34"
      },
      "outputs": [],
      "source": [
        "# 이상치 제외\n",
        "q6_3=data6[lm1.outlier_test()['bonf(p)'] >= 0.05]"
      ]
    },
    {
      "cell_type": "code",
      "execution_count": null,
      "id": "000c5218",
      "metadata": {
        "id": "000c5218"
      },
      "outputs": [],
      "source": [
        "# 산점도를 이용해서 잔차 분포\n",
        "\n",
        "import matplotlib.pyplot as plt"
      ]
    },
    {
      "cell_type": "code",
      "execution_count": null,
      "id": "00a5424d",
      "metadata": {
        "id": "00a5424d",
        "outputId": "2f363f91-17dd-49e2-a1b9-897bd6a119f2"
      },
      "outputs": [
        {
          "data": {
            "text/plain": [
              "<matplotlib.collections.PathCollection at 0x1e6a0223a60>"
            ]
          },
          "execution_count": 32,
          "metadata": {},
          "output_type": "execute_result"
        },
        {
          "data": {
            "image/png": "[encoded data removed]",
            "text/plain": [
              "<Figure size 432x288 with 1 Axes>"
            ]
          },
          "metadata": {
            "needs_background": "light"
          },
          "output_type": "display_data"
        }
      ],
      "source": [
        "plt.scatter(lm1.fittedvalues, lm1.resid)"
      ]
    },
    {
      "cell_type": "markdown",
      "id": "e51256c2",
      "metadata": {
        "id": "e51256c2"
      },
      "source": [
        "### 이상치를 제외한 데이터(q6_3)를 이용해서 모델링"
      ]
    },
    {
      "cell_type": "code",
      "execution_count": null,
      "id": "a11754c2",
      "metadata": {
        "id": "a11754c2"
      },
      "outputs": [],
      "source": [
        "lm2=ols(form1, q6_3).fit()"
      ]
    },
    {
      "cell_type": "code",
      "execution_count": null,
      "id": "f22d4320",
      "metadata": {
        "id": "f22d4320",
        "outputId": "7cd8460f-379e-40a3-a119-3b42203b120d"
      },
      "outputs": [
        {
          "data": {
            "text/html": [
              "<table class=\"simpletable\">\n",
              "<caption>OLS Regression Results</caption>\n",
              "<tr>\n",
              "  <th>Dep. Variable:</th>          <td>price</td>      <th>  R-squared:         </th> <td>   0.694</td> \n",
              "</tr>\n",
              "<tr>\n",
              "  <th>Model:</th>                   <td>OLS</td>       <th>  Adj. R-squared:    </th> <td>   0.693</td> \n",
              "</tr>\n",
              "<tr>\n",
              "  <th>Method:</th>             <td>Least Squares</td>  <th>  F-statistic:       </th> <td>   694.9</td> \n",
              "</tr>\n",
              "<tr>\n",
              "  <th>Date:</th>             <td>Fri, 09 Jun 2023</td> <th>  Prob (F-statistic):</th>  <td>  0.00</td>  \n",
              "</tr>\n",
              "<tr>\n",
              "  <th>Time:</th>                 <td>10:50:39</td>     <th>  Log-Likelihood:    </th> <td> -57946.</td> \n",
              "</tr>\n",
              "<tr>\n",
              "  <th>No. Observations:</th>      <td>  4297</td>      <th>  AIC:               </th> <td>1.159e+05</td>\n",
              "</tr>\n",
              "<tr>\n",
              "  <th>Df Residuals:</th>          <td>  4282</td>      <th>  BIC:               </th> <td>1.160e+05</td>\n",
              "</tr>\n",
              "<tr>\n",
              "  <th>Df Model:</th>              <td>    14</td>      <th>                     </th>     <td> </td>    \n",
              "</tr>\n",
              "<tr>\n",
              "  <th>Covariance Type:</th>      <td>nonrobust</td>    <th>                     </th>     <td> </td>    \n",
              "</tr>\n",
              "</table>\n",
              "<table class=\"simpletable\">\n",
              "<tr>\n",
              "        <td></td>           <th>coef</th>     <th>std err</th>      <th>t</th>      <th>P>|t|</th>  <th>[0.025</th>    <th>0.975]</th>  \n",
              "</tr>\n",
              "<tr>\n",
              "  <th>Intercept</th>     <td> 6.094e+06</td> <td> 2.54e+05</td> <td>   23.946</td> <td> 0.000</td> <td> 5.59e+06</td> <td> 6.59e+06</td>\n",
              "</tr>\n",
              "<tr>\n",
              "  <th>bedrooms</th>      <td>-2.871e+04</td> <td> 3772.256</td> <td>   -7.611</td> <td> 0.000</td> <td>-3.61e+04</td> <td>-2.13e+04</td>\n",
              "</tr>\n",
              "<tr>\n",
              "  <th>bathrooms</th>     <td> 5.103e+04</td> <td> 6289.879</td> <td>    8.113</td> <td> 0.000</td> <td> 3.87e+04</td> <td> 6.34e+04</td>\n",
              "</tr>\n",
              "<tr>\n",
              "  <th>sqft_living</th>   <td>   77.2816</td> <td>    4.537</td> <td>   17.032</td> <td> 0.000</td> <td>   68.386</td> <td>   86.177</td>\n",
              "</tr>\n",
              "<tr>\n",
              "  <th>sqft_lot</th>      <td>    0.0788</td> <td>    0.080</td> <td>    0.989</td> <td> 0.322</td> <td>   -0.077</td> <td>    0.235</td>\n",
              "</tr>\n",
              "<tr>\n",
              "  <th>floors</th>        <td> 4.145e+04</td> <td> 7037.582</td> <td>    5.890</td> <td> 0.000</td> <td> 2.77e+04</td> <td> 5.53e+04</td>\n",
              "</tr>\n",
              "<tr>\n",
              "  <th>waterfront</th>    <td> 5.049e+05</td> <td> 3.65e+04</td> <td>   13.826</td> <td> 0.000</td> <td> 4.33e+05</td> <td> 5.77e+05</td>\n",
              "</tr>\n",
              "<tr>\n",
              "  <th>view</th>          <td> 3.741e+04</td> <td> 4151.110</td> <td>    9.012</td> <td> 0.000</td> <td> 2.93e+04</td> <td> 4.55e+04</td>\n",
              "</tr>\n",
              "<tr>\n",
              "  <th>condition</th>     <td> 1.625e+04</td> <td> 4576.747</td> <td>    3.551</td> <td> 0.000</td> <td> 7277.107</td> <td> 2.52e+04</td>\n",
              "</tr>\n",
              "<tr>\n",
              "  <th>grade</th>         <td>  1.23e+05</td> <td> 4061.657</td> <td>   30.292</td> <td> 0.000</td> <td> 1.15e+05</td> <td> 1.31e+05</td>\n",
              "</tr>\n",
              "<tr>\n",
              "  <th>sqft_above</th>    <td>   26.5379</td> <td>    4.328</td> <td>    6.132</td> <td> 0.000</td> <td>   18.053</td> <td>   35.022</td>\n",
              "</tr>\n",
              "<tr>\n",
              "  <th>sqft_basement</th> <td>   50.7437</td> <td>    5.124</td> <td>    9.903</td> <td> 0.000</td> <td>   40.698</td> <td>   60.789</td>\n",
              "</tr>\n",
              "<tr>\n",
              "  <th>yr_built</th>      <td>-3519.5120</td> <td>  130.253</td> <td>  -27.021</td> <td> 0.000</td> <td>-3774.875</td> <td>-3264.149</td>\n",
              "</tr>\n",
              "<tr>\n",
              "  <th>yr_renovated</th>  <td>   21.1753</td> <td>    7.162</td> <td>    2.956</td> <td> 0.003</td> <td>    7.133</td> <td>   35.217</td>\n",
              "</tr>\n",
              "<tr>\n",
              "  <th>sqft_living15</th> <td>   33.9867</td> <td>    6.531</td> <td>    5.204</td> <td> 0.000</td> <td>   21.182</td> <td>   46.792</td>\n",
              "</tr>\n",
              "<tr>\n",
              "  <th>sqft_lot15</th>    <td>   -0.1971</td> <td>    0.122</td> <td>   -1.617</td> <td> 0.106</td> <td>   -0.436</td> <td>    0.042</td>\n",
              "</tr>\n",
              "</table>\n",
              "<table class=\"simpletable\">\n",
              "<tr>\n",
              "  <th>Omnibus:</th>       <td>946.037</td> <th>  Durbin-Watson:     </th> <td>   2.026</td>\n",
              "</tr>\n",
              "<tr>\n",
              "  <th>Prob(Omnibus):</th> <td> 0.000</td>  <th>  Jarque-Bera (JB):  </th> <td>3975.491</td>\n",
              "</tr>\n",
              "<tr>\n",
              "  <th>Skew:</th>          <td> 1.021</td>  <th>  Prob(JB):          </th> <td>    0.00</td>\n",
              "</tr>\n",
              "<tr>\n",
              "  <th>Kurtosis:</th>      <td> 7.247</td>  <th>  Cond. No.          </th> <td>8.55e+16</td>\n",
              "</tr>\n",
              "</table><br/><br/>Notes:<br/>[1] Standard Errors assume that the covariance matrix of the errors is correctly specified.<br/>[2] The smallest eigenvalue is 2.22e-21. This might indicate that there are<br/>strong multicollinearity problems or that the design matrix is singular."
            ],
            "text/plain": [
              "<class 'statsmodels.iolib.summary.Summary'>\n",
              "\"\"\"\n",
              "                            OLS Regression Results                            \n",
              "==============================================================================\n",
              "Dep. Variable:                  price   R-squared:                       0.694\n",
              "Model:                            OLS   Adj. R-squared:                  0.693\n",
              "Method:                 Least Squares   F-statistic:                     694.9\n",
              "Date:                Fri, 09 Jun 2023   Prob (F-statistic):               0.00\n",
              "Time:                        10:50:39   Log-Likelihood:                -57946.\n",
              "No. Observations:                4297   AIC:                         1.159e+05\n",
              "Df Residuals:                    4282   BIC:                         1.160e+05\n",
              "Df Model:                          14                                         \n",
              "Covariance Type:            nonrobust                                         \n",
              "=================================================================================\n",
              "                    coef    std err          t      P>|t|      [0.025      0.975]\n",
              "---------------------------------------------------------------------------------\n",
              "Intercept      6.094e+06   2.54e+05     23.946      0.000    5.59e+06    6.59e+06\n",
              "bedrooms      -2.871e+04   3772.256     -7.611      0.000   -3.61e+04   -2.13e+04\n",
              "bathrooms      5.103e+04   6289.879      8.113      0.000    3.87e+04    6.34e+04\n",
              "sqft_living      77.2816      4.537     17.032      0.000      68.386      86.177\n",
              "sqft_lot          0.0788      0.080      0.989      0.322      -0.077       0.235\n",
              "floors         4.145e+04   7037.582      5.890      0.000    2.77e+04    5.53e+04\n",
              "waterfront     5.049e+05   3.65e+04     13.826      0.000    4.33e+05    5.77e+05\n",
              "view           3.741e+04   4151.110      9.012      0.000    2.93e+04    4.55e+04\n",
              "condition      1.625e+04   4576.747      3.551      0.000    7277.107    2.52e+04\n",
              "grade           1.23e+05   4061.657     30.292      0.000    1.15e+05    1.31e+05\n",
              "sqft_above       26.5379      4.328      6.132      0.000      18.053      35.022\n",
              "sqft_basement    50.7437      5.124      9.903      0.000      40.698      60.789\n",
              "yr_built      -3519.5120    130.253    -27.021      0.000   -3774.875   -3264.149\n",
              "yr_renovated     21.1753      7.162      2.956      0.003       7.133      35.217\n",
              "sqft_living15    33.9867      6.531      5.204      0.000      21.182      46.792\n",
              "sqft_lot15       -0.1971      0.122     -1.617      0.106      -0.436       0.042\n",
              "==============================================================================\n",
              "Omnibus:                      946.037   Durbin-Watson:                   2.026\n",
              "Prob(Omnibus):                  0.000   Jarque-Bera (JB):             3975.491\n",
              "Skew:                           1.021   Prob(JB):                         0.00\n",
              "Kurtosis:                       7.247   Cond. No.                     8.55e+16\n",
              "==============================================================================\n",
              "\n",
              "Notes:\n",
              "[1] Standard Errors assume that the covariance matrix of the errors is correctly specified.\n",
              "[2] The smallest eigenvalue is 2.22e-21. This might indicate that there are\n",
              "strong multicollinearity problems or that the design matrix is singular.\n",
              "\"\"\""
            ]
          },
          "execution_count": 38,
          "metadata": {},
          "output_type": "execute_result"
        }
      ],
      "source": [
        "lm2.summary()"
      ]
    },
    {
      "cell_type": "code",
      "execution_count": null,
      "id": "66e9d701",
      "metadata": {
        "id": "66e9d701",
        "outputId": "6d30aede-4125-4ba3-e86f-2f5f06957c85"
      },
      "outputs": [
        {
          "data": {
            "text/plain": [
              "<matplotlib.collections.PathCollection at 0x1e6a031e730>"
            ]
          },
          "execution_count": 39,
          "metadata": {},
          "output_type": "execute_result"
        },
        {
          "data": {
            "image/png": "[encoded data removed]",
            "text/plain": [
              "<Figure size 432x288 with 1 Axes>"
            ]
          },
          "metadata": {
            "needs_background": "light"
          },
          "output_type": "display_data"
        }
      ],
      "source": [
        "plt.scatter(lm2.fittedvalues, lm2.resid)"
      ]
    },
    {
      "cell_type": "code",
      "execution_count": null,
      "id": "a7101082",
      "metadata": {
        "id": "a7101082"
      },
      "outputs": [],
      "source": [
        "form2='price~' + '+'.join(sel_var)"
      ]
    },
    {
      "cell_type": "code",
      "execution_count": null,
      "id": "b7d0c440",
      "metadata": {
        "id": "b7d0c440"
      },
      "outputs": [],
      "source": [
        "lm3=ols(form2, q6_3).fit()"
      ]
    },
    {
      "cell_type": "code",
      "execution_count": null,
      "id": "725e0a80",
      "metadata": {
        "id": "725e0a80",
        "outputId": "a5f64e01-d13d-404b-e268-2f69b76339ce"
      },
      "outputs": [
        {
          "data": {
            "text/html": [
              "<table class=\"simpletable\">\n",
              "<caption>OLS Regression Results</caption>\n",
              "<tr>\n",
              "  <th>Dep. Variable:</th>          <td>price</td>      <th>  R-squared:         </th> <td>   0.694</td> \n",
              "</tr>\n",
              "<tr>\n",
              "  <th>Model:</th>                   <td>OLS</td>       <th>  Adj. R-squared:    </th> <td>   0.693</td> \n",
              "</tr>\n",
              "<tr>\n",
              "  <th>Method:</th>             <td>Least Squares</td>  <th>  F-statistic:       </th> <td>   810.4</td> \n",
              "</tr>\n",
              "<tr>\n",
              "  <th>Date:</th>             <td>Fri, 09 Jun 2023</td> <th>  Prob (F-statistic):</th>  <td>  0.00</td>  \n",
              "</tr>\n",
              "<tr>\n",
              "  <th>Time:</th>                 <td>10:54:49</td>     <th>  Log-Likelihood:    </th> <td> -57947.</td> \n",
              "</tr>\n",
              "<tr>\n",
              "  <th>No. Observations:</th>      <td>  4297</td>      <th>  AIC:               </th> <td>1.159e+05</td>\n",
              "</tr>\n",
              "<tr>\n",
              "  <th>Df Residuals:</th>          <td>  4284</td>      <th>  BIC:               </th> <td>1.160e+05</td>\n",
              "</tr>\n",
              "<tr>\n",
              "  <th>Df Model:</th>              <td>    12</td>      <th>                     </th>     <td> </td>    \n",
              "</tr>\n",
              "<tr>\n",
              "  <th>Covariance Type:</th>      <td>nonrobust</td>    <th>                     </th>     <td> </td>    \n",
              "</tr>\n",
              "</table>\n",
              "<table class=\"simpletable\">\n",
              "<tr>\n",
              "        <td></td>           <th>coef</th>     <th>std err</th>      <th>t</th>      <th>P>|t|</th>  <th>[0.025</th>    <th>0.975]</th>  \n",
              "</tr>\n",
              "<tr>\n",
              "  <th>Intercept</th>     <td> 6.113e+06</td> <td> 2.54e+05</td> <td>   24.044</td> <td> 0.000</td> <td> 5.61e+06</td> <td> 6.61e+06</td>\n",
              "</tr>\n",
              "<tr>\n",
              "  <th>bedrooms</th>      <td>-2.819e+04</td> <td> 3745.030</td> <td>   -7.526</td> <td> 0.000</td> <td>-3.55e+04</td> <td>-2.08e+04</td>\n",
              "</tr>\n",
              "<tr>\n",
              "  <th>bathrooms</th>     <td> 5.118e+04</td> <td> 6289.730</td> <td>    8.137</td> <td> 0.000</td> <td> 3.89e+04</td> <td> 6.35e+04</td>\n",
              "</tr>\n",
              "<tr>\n",
              "  <th>sqft_living</th>   <td>   76.5826</td> <td>    4.489</td> <td>   17.059</td> <td> 0.000</td> <td>   67.781</td> <td>   85.384</td>\n",
              "</tr>\n",
              "<tr>\n",
              "  <th>floors</th>        <td>  4.24e+04</td> <td> 6995.217</td> <td>    6.061</td> <td> 0.000</td> <td> 2.87e+04</td> <td> 5.61e+04</td>\n",
              "</tr>\n",
              "<tr>\n",
              "  <th>waterfront</th>    <td> 5.047e+05</td> <td> 3.65e+04</td> <td>   13.822</td> <td> 0.000</td> <td> 4.33e+05</td> <td> 5.76e+05</td>\n",
              "</tr>\n",
              "<tr>\n",
              "  <th>view</th>          <td> 3.744e+04</td> <td> 4149.922</td> <td>    9.021</td> <td> 0.000</td> <td> 2.93e+04</td> <td> 4.56e+04</td>\n",
              "</tr>\n",
              "<tr>\n",
              "  <th>condition</th>     <td> 1.623e+04</td> <td> 4576.828</td> <td>    3.545</td> <td> 0.000</td> <td> 7253.462</td> <td> 2.52e+04</td>\n",
              "</tr>\n",
              "<tr>\n",
              "  <th>grade</th>         <td> 1.234e+05</td> <td> 4055.499</td> <td>   30.430</td> <td> 0.000</td> <td> 1.15e+05</td> <td> 1.31e+05</td>\n",
              "</tr>\n",
              "<tr>\n",
              "  <th>sqft_above</th>    <td>   25.7731</td> <td>    4.242</td> <td>    6.076</td> <td> 0.000</td> <td>   17.457</td> <td>   34.089</td>\n",
              "</tr>\n",
              "<tr>\n",
              "  <th>sqft_basement</th> <td>   50.8095</td> <td>    5.120</td> <td>    9.924</td> <td> 0.000</td> <td>   40.772</td> <td>   60.847</td>\n",
              "</tr>\n",
              "<tr>\n",
              "  <th>yr_built</th>      <td>-3531.3371</td> <td>  130.060</td> <td>  -27.152</td> <td> 0.000</td> <td>-3786.322</td> <td>-3276.353</td>\n",
              "</tr>\n",
              "<tr>\n",
              "  <th>yr_renovated</th>  <td>   21.0744</td> <td>    7.163</td> <td>    2.942</td> <td> 0.003</td> <td>    7.032</td> <td>   35.117</td>\n",
              "</tr>\n",
              "<tr>\n",
              "  <th>sqft_living15</th> <td>   33.6406</td> <td>    6.517</td> <td>    5.162</td> <td> 0.000</td> <td>   20.863</td> <td>   46.418</td>\n",
              "</tr>\n",
              "</table>\n",
              "<table class=\"simpletable\">\n",
              "<tr>\n",
              "  <th>Omnibus:</th>       <td>948.603</td> <th>  Durbin-Watson:     </th> <td>   2.026</td>\n",
              "</tr>\n",
              "<tr>\n",
              "  <th>Prob(Omnibus):</th> <td> 0.000</td>  <th>  Jarque-Bera (JB):  </th> <td>3990.627</td>\n",
              "</tr>\n",
              "<tr>\n",
              "  <th>Skew:</th>          <td> 1.023</td>  <th>  Prob(JB):          </th> <td>    0.00</td>\n",
              "</tr>\n",
              "<tr>\n",
              "  <th>Kurtosis:</th>      <td> 7.255</td>  <th>  Cond. No.          </th> <td>5.39e+15</td>\n",
              "</tr>\n",
              "</table><br/><br/>Notes:<br/>[1] Standard Errors assume that the covariance matrix of the errors is correctly specified.<br/>[2] The smallest eigenvalue is 2.48e-21. This might indicate that there are<br/>strong multicollinearity problems or that the design matrix is singular."
            ],
            "text/plain": [
              "<class 'statsmodels.iolib.summary.Summary'>\n",
              "\"\"\"\n",
              "                            OLS Regression Results                            \n",
              "==============================================================================\n",
              "Dep. Variable:                  price   R-squared:                       0.694\n",
              "Model:                            OLS   Adj. R-squared:                  0.693\n",
              "Method:                 Least Squares   F-statistic:                     810.4\n",
              "Date:                Fri, 09 Jun 2023   Prob (F-statistic):               0.00\n",
              "Time:                        10:54:49   Log-Likelihood:                -57947.\n",
              "No. Observations:                4297   AIC:                         1.159e+05\n",
              "Df Residuals:                    4284   BIC:                         1.160e+05\n",
              "Df Model:                          12                                         \n",
              "Covariance Type:            nonrobust                                         \n",
              "=================================================================================\n",
              "                    coef    std err          t      P>|t|      [0.025      0.975]\n",
              "---------------------------------------------------------------------------------\n",
              "Intercept      6.113e+06   2.54e+05     24.044      0.000    5.61e+06    6.61e+06\n",
              "bedrooms      -2.819e+04   3745.030     -7.526      0.000   -3.55e+04   -2.08e+04\n",
              "bathrooms      5.118e+04   6289.730      8.137      0.000    3.89e+04    6.35e+04\n",
              "sqft_living      76.5826      4.489     17.059      0.000      67.781      85.384\n",
              "floors          4.24e+04   6995.217      6.061      0.000    2.87e+04    5.61e+04\n",
              "waterfront     5.047e+05   3.65e+04     13.822      0.000    4.33e+05    5.76e+05\n",
              "view           3.744e+04   4149.922      9.021      0.000    2.93e+04    4.56e+04\n",
              "condition      1.623e+04   4576.828      3.545      0.000    7253.462    2.52e+04\n",
              "grade          1.234e+05   4055.499     30.430      0.000    1.15e+05    1.31e+05\n",
              "sqft_above       25.7731      4.242      6.076      0.000      17.457      34.089\n",
              "sqft_basement    50.8095      5.120      9.924      0.000      40.772      60.847\n",
              "yr_built      -3531.3371    130.060    -27.152      0.000   -3786.322   -3276.353\n",
              "yr_renovated     21.0744      7.163      2.942      0.003       7.032      35.117\n",
              "sqft_living15    33.6406      6.517      5.162      0.000      20.863      46.418\n",
              "==============================================================================\n",
              "Omnibus:                      948.603   Durbin-Watson:                   2.026\n",
              "Prob(Omnibus):                  0.000   Jarque-Bera (JB):             3990.627\n",
              "Skew:                           1.023   Prob(JB):                         0.00\n",
              "Kurtosis:                       7.255   Cond. No.                     5.39e+15\n",
              "==============================================================================\n",
              "\n",
              "Notes:\n",
              "[1] Standard Errors assume that the covariance matrix of the errors is correctly specified.\n",
              "[2] The smallest eigenvalue is 2.48e-21. This might indicate that there are\n",
              "strong multicollinearity problems or that the design matrix is singular.\n",
              "\"\"\""
            ]
          },
          "execution_count": 42,
          "metadata": {},
          "output_type": "execute_result"
        }
      ],
      "source": [
        "lm3.summary()"
      ]
    },
    {
      "cell_type": "code",
      "execution_count": null,
      "id": "304afe51",
      "metadata": {
        "id": "304afe51"
      },
      "outputs": [],
      "source": [
        "lm1_pred=lm1.predict(q6_3)\n",
        "lm2_pred=lm2.predict(q6_3)\n",
        "lm3_pred=lm3.predict(q6_3)"
      ]
    },
    {
      "cell_type": "code",
      "execution_count": null,
      "id": "617a30ae",
      "metadata": {
        "id": "617a30ae"
      },
      "outputs": [],
      "source": [
        "from sklearn.metrics import mean_absolute_error, mean_squared_error, mean_absolute_percentage_error"
      ]
    },
    {
      "cell_type": "code",
      "execution_count": null,
      "id": "509273b2",
      "metadata": {
        "id": "509273b2"
      },
      "outputs": [],
      "source": [
        "lm1_mae=mean_absolute_error(q6_3.price, lm1_pred)\n",
        "lm2_mae=mean_absolute_error(q6_3.price, lm2_pred)\n",
        "lm3_mae=mean_absolute_error(q6_3.price, lm3_pred)"
      ]
    },
    {
      "cell_type": "code",
      "execution_count": null,
      "id": "2dee4302",
      "metadata": {
        "id": "2dee4302",
        "outputId": "06cb45ac-61fe-4b4e-d20f-98afd1937bf1"
      },
      "outputs": [
        {
          "data": {
            "text/plain": [
              "(128760.282404411, 125054.45674041762, 125103.3571373288)"
            ]
          },
          "execution_count": 46,
          "metadata": {},
          "output_type": "execute_result"
        }
      ],
      "source": [
        "lm1_mae, lm2_mae, lm3_mae"
      ]
    },
    {
      "cell_type": "code",
      "execution_count": null,
      "id": "f2bfe736",
      "metadata": {
        "id": "f2bfe736"
      },
      "outputs": [],
      "source": [
        "from sklearn.feature_selection import RFE\n",
        "from sklearn.linear_model import LinearRegression"
      ]
    },
    {
      "cell_type": "code",
      "execution_count": null,
      "id": "239504ea",
      "metadata": {
        "id": "239504ea"
      },
      "outputs": [],
      "source": [
        "lm4=LinearRegression().fit(data6[var_list2], data6['price'])"
      ]
    },
    {
      "cell_type": "code",
      "execution_count": null,
      "id": "2faafcfc",
      "metadata": {
        "id": "2faafcfc",
        "outputId": "ad3f09c2-809d-46b1-ef94-1621bffb38b0"
      },
      "outputs": [
        {
          "data": {
            "text/plain": [
              "Index(['bedrooms', 'bathrooms', 'sqft_living', 'sqft_lot', 'floors',\n",
              "       'waterfront', 'view', 'condition', 'grade', 'sqft_above',\n",
              "       'sqft_basement', 'yr_built', 'yr_renovated', 'sqft_living15',\n",
              "       'sqft_lot15'],\n",
              "      dtype='object')"
            ]
          },
          "execution_count": 53,
          "metadata": {},
          "output_type": "execute_result"
        }
      ],
      "source": [
        "var_list2"
      ]
    },
    {
      "cell_type": "code",
      "execution_count": null,
      "id": "fbab3c19",
      "metadata": {
        "id": "fbab3c19"
      },
      "outputs": [],
      "source": [
        "rfe1=RFE(lm4, n_features_to_select=1).fit(data6[var_list2], data6['price'])"
      ]
    },
    {
      "cell_type": "code",
      "execution_count": null,
      "id": "329dbc20",
      "metadata": {
        "id": "329dbc20",
        "outputId": "76aa2aa6-d27f-484c-f3d9-caa35f122096"
      },
      "outputs": [
        {
          "data": {
            "text/plain": [
              "array([ 8,  5,  9, 15,  6,  1,  3,  4,  2, 11, 10,  7, 13, 12, 14])"
            ]
          },
          "execution_count": 58,
          "metadata": {},
          "output_type": "execute_result"
        }
      ],
      "source": [
        "rfe1.ranking_"
      ]
    },
    {
      "cell_type": "code",
      "execution_count": null,
      "id": "445bcee8",
      "metadata": {
        "id": "445bcee8",
        "outputId": "9fab85a3-3266-4aa7-b718-e92b6c150b49"
      },
      "outputs": [
        {
          "data": {
            "text/plain": [
              "bedrooms          8\n",
              "bathrooms         5\n",
              "sqft_living       9\n",
              "sqft_lot         15\n",
              "floors            6\n",
              "waterfront        1\n",
              "view              3\n",
              "condition         4\n",
              "grade             2\n",
              "sqft_above       11\n",
              "sqft_basement    10\n",
              "yr_built          7\n",
              "yr_renovated     13\n",
              "sqft_living15    12\n",
              "sqft_lot15       14\n",
              "dtype: int32"
            ]
          },
          "execution_count": 59,
          "metadata": {},
          "output_type": "execute_result"
        }
      ],
      "source": [
        "pd.Series(rfe1.ranking_, index=var_list2)"
      ]
    },
    {
      "cell_type": "markdown",
      "id": "c7029f28",
      "metadata": {
        "id": "c7029f28"
      },
      "source": [
        "## 날짜 및 시간 "
      ]
    },
    {
      "cell_type": "code",
      "execution_count": null,
      "id": "96a07f26",
      "metadata": {
        "id": "96a07f26"
      },
      "outputs": [],
      "source": [
        "a1=pd.to_datetime(data6.date)"
      ]
    },
    {
      "cell_type": "code",
      "execution_count": null,
      "id": "5b178472",
      "metadata": {
        "id": "5b178472"
      },
      "outputs": [],
      "source": [
        "a1.dt."
      ]
    },
    {
      "cell_type": "code",
      "execution_count": null,
      "id": "f68d8702",
      "metadata": {
        "id": "f68d8702"
      },
      "outputs": [],
      "source": []
    },
    {
      "cell_type": "code",
      "execution_count": null,
      "id": "346af3ba",
      "metadata": {
        "id": "346af3ba"
      },
      "outputs": [],
      "source": []
    },
    {
      "cell_type": "markdown",
      "id": "715c264b",
      "metadata": {
        "id": "715c264b"
      },
      "source": [
        "# 문제 07 유형(DataSet_07.csv 이용)"
      ]
    },
    {
      "cell_type": "code",
      "execution_count": null,
      "id": "497d2bdf",
      "metadata": {
        "id": "497d2bdf"
      },
      "outputs": [],
      "source": [
        "# =============================================================================\n",
        "# 구분자 : comma(“,”), 400 Rows, 9 Columns, UTF-8 인코딩\n",
        "#\n",
        "# 대학원 진학을 위하여 어떤 항목이 중요하게 영향을 미치는지\n",
        "# 아래 데이터로 분석하고자 한다.\n",
        "\n",
        "# 컬 럼 / 정 의 / Type\n",
        "# Serial_No / 구분자 번호 / Double\n",
        "# GRE / GRE 시험 성적 / Double\n",
        "# TOEFL / TOEFL 시험 성적 / Double\n",
        "# University_Rating / 대학 평가 그룹 (1 ~ 5) / Double\n",
        "# SOP / 자기 소개서 점수 (1 ~ 5) / Double\n",
        "# LOR / 추천서 점수 (1 ~ 5) / Double\n",
        "# CGPA / 학부 평량 평점 (10점 만점 환산 점수) / Double\n",
        "# Research / 연구 참여 경험 여부 (0 / 1) / Double\n",
        "# Chance_of_Admit / 합격 가능성 / Double\n",
        "# =============================================================================\n",
        "# =============================================================================\n",
        "\n",
        "# =============================================================================\n",
        "# (참고)\n",
        "# #1\n",
        "# import pandas as pd\n",
        "# #2\n",
        "# import scipy.stats as stats\n",
        "# #3\n",
        "# from sklearn.linear_model import LogisticRegression\n",
        "# Solver = ‘liblinear’, random_state = 12\n",
        "# ============================================================================="
      ]
    },
    {
      "cell_type": "code",
      "execution_count": null,
      "id": "85a5ded0",
      "metadata": {
        "id": "85a5ded0"
      },
      "outputs": [],
      "source": []
    },
    {
      "cell_type": "code",
      "execution_count": null,
      "id": "364a6fba",
      "metadata": {
        "id": "364a6fba"
      },
      "outputs": [],
      "source": []
    },
    {
      "cell_type": "code",
      "execution_count": null,
      "id": "1ce718bd",
      "metadata": {
        "id": "1ce718bd"
      },
      "outputs": [],
      "source": [
        "# =============================================================================\n",
        "# 1. 합격 가능성에 GRE, TOEFL, CGPA 점수 가운데 가장 영향이 큰 것이 어떤 점수인지\n",
        "# 알아 보기 위해서 상관 분석을 수행한다.\n",
        "# - 피어슨(Pearson) 상관계수 값을 구한다.\n",
        "# - Chance_of_Admit와의 가장 큰 상관계수 값을 가지는 항목의 상관계수를 소수점 넷째\n",
        "# 자리에서 반올림하여 셋째 자리까지 기술하시오. (답안 예시) 0.123\n",
        "# ============================================================================="
      ]
    },
    {
      "cell_type": "code",
      "execution_count": null,
      "id": "3a7211fd",
      "metadata": {
        "id": "3a7211fd"
      },
      "outputs": [],
      "source": []
    },
    {
      "cell_type": "code",
      "execution_count": null,
      "id": "8d024466",
      "metadata": {
        "id": "8d024466"
      },
      "outputs": [],
      "source": []
    },
    {
      "cell_type": "code",
      "execution_count": null,
      "id": "f75a540f",
      "metadata": {
        "id": "f75a540f"
      },
      "outputs": [],
      "source": [
        "# =============================================================================\n",
        "# 2.GRE 점수의 평균 이상을 받은 그룹과 평균 미만을 받은 그룹의 CGPA 평균은 차이가\n",
        "# 있는지\n",
        "# 검정을 하고자 한다.\n",
        "# - 적절한 검정 방법을 선택하고 양측 검정을 수행하시오 (등분산으로 가정)\n",
        "# - 검정 결과, 검정통계량의 추정치를 소수점 셋째 자리에서 반올림하여 소수점 두 자리까지\n",
        "# 기술하시오.\n",
        "# (답안 예시) 1.23\n",
        "# ============================================================================="
      ]
    },
    {
      "cell_type": "code",
      "execution_count": null,
      "id": "42a9e38e",
      "metadata": {
        "id": "42a9e38e"
      },
      "outputs": [],
      "source": []
    },
    {
      "cell_type": "code",
      "execution_count": null,
      "id": "1889f7ae",
      "metadata": {
        "id": "1889f7ae"
      },
      "outputs": [],
      "source": []
    },
    {
      "cell_type": "code",
      "execution_count": null,
      "id": "86ca0c3c",
      "metadata": {
        "id": "86ca0c3c"
      },
      "outputs": [],
      "source": [
        "# =============================================================================\n",
        "# 3.Chance_of_Admit 확률이 0.5를 초과하면 합격으로, 이하이면 불합격으로 구분하고\n",
        "# 로지스틱 회귀분석을 수행하시오.\n",
        "# - 원데이터만 사용하고, 원데이터 가운데 Serial_No와 Label은 모형에서 제외\n",
        "# - 각 설정값은 다음과 같이 지정하고, 언급되지 않은 사항은 기본 설정값을 사용하시오\n",
        "# Seed : 123\n",
        "# - 로지스틱 회귀분석 수행 결과에서 로지스틱 회귀계수의 절대값이 가장 큰 변수와 그 값을\n",
        "# 기술하시오. \n",
        "# (로지스틱 회귀계수는 반올림하여 소수점 둘째 자리까지 / Intercept는 제외)\n",
        "# (답안 예시) abc, 0.12\n",
        "# ============================================================================="
      ]
    },
    {
      "cell_type": "code",
      "execution_count": null,
      "id": "07729ea4",
      "metadata": {
        "id": "07729ea4"
      },
      "outputs": [],
      "source": []
    },
    {
      "cell_type": "code",
      "execution_count": null,
      "id": "934476f5",
      "metadata": {
        "id": "934476f5"
      },
      "outputs": [],
      "source": []
    },
    {
      "cell_type": "markdown",
      "id": "45660a7f",
      "metadata": {
        "id": "45660a7f"
      },
      "source": [
        "# 문제 08 유형(DataSet_08.csv 이용)"
      ]
    },
    {
      "cell_type": "code",
      "execution_count": null,
      "id": "e22da9f0",
      "metadata": {
        "id": "e22da9f0"
      },
      "outputs": [],
      "source": [
        "# =============================================================================\n",
        "# 구분자 : comma(“,”), 50 Rows, 5 Columns, UTF-8 인코딩\n",
        "#\n",
        "# 스타트업 기업들의 수익성에 대한 분석을 하기 위하여\n",
        "# 아래와 같은 데이터를 입수하였다\n",
        "#\n",
        "# \n",
        "# 컬 럼 / 정 의 / Type\n",
        "# RandD_Spend / 연구개발비 지출 / Double\n",
        "# Administration / 운영관리비 지출 / Double\n",
        "# Marketing_Spend / 마케팅비 지출 / Double\n",
        "# State / 본사 위치 / String\n",
        "# Profit / 이익 / Double\n",
        "# =============================================================================\n",
        "# =============================================================================\n",
        "\n",
        "# =============================================================================\n",
        "# (참고)\n",
        "# #1\n",
        "# import pandas as pd\n",
        "# import numpy as np\n",
        "# #3\n",
        "# from sklearn.linear_model import LinearRegression\n",
        "# ============================================================================="
      ]
    },
    {
      "cell_type": "code",
      "execution_count": null,
      "id": "7a2c48a3",
      "metadata": {
        "id": "7a2c48a3"
      },
      "outputs": [],
      "source": []
    },
    {
      "cell_type": "code",
      "execution_count": null,
      "id": "c64972cf",
      "metadata": {
        "id": "c64972cf"
      },
      "outputs": [],
      "source": []
    },
    {
      "cell_type": "code",
      "execution_count": null,
      "id": "96539299",
      "metadata": {
        "id": "96539299"
      },
      "outputs": [],
      "source": [
        "# =============================================================================\n",
        "# 1.각 주(State)별 데이터 구성비를 소수점 둘째 자리까지 구하고, 알파벳 순으로\n",
        "# 기술하시오(주 이름 기준).\n",
        "# (답안 예시) 0.12, 0.34, 0.54\n",
        "# ============================================================================="
      ]
    },
    {
      "cell_type": "code",
      "execution_count": null,
      "id": "2f0028dd",
      "metadata": {
        "id": "2f0028dd"
      },
      "outputs": [],
      "source": []
    },
    {
      "cell_type": "code",
      "execution_count": null,
      "id": "d0f1faee",
      "metadata": {
        "id": "d0f1faee"
      },
      "outputs": [],
      "source": []
    },
    {
      "cell_type": "code",
      "execution_count": null,
      "id": "f9337dd7",
      "metadata": {
        "id": "f9337dd7"
      },
      "outputs": [],
      "source": [
        "# =============================================================================\n",
        "# 2.주별 이익의 평균을 구하고, 평균 이익이 가장 큰 주와 작은 주의 차이를 구하시오. \n",
        "# 차이값은 소수점 이하는 버리고 정수부분만 기술하시오. (답안 예시) 1234\n",
        "# ============================================================================="
      ]
    },
    {
      "cell_type": "code",
      "execution_count": null,
      "id": "2e1b9963",
      "metadata": {
        "id": "2e1b9963"
      },
      "outputs": [],
      "source": []
    },
    {
      "cell_type": "code",
      "execution_count": null,
      "id": "7a9de736",
      "metadata": {
        "id": "7a9de736"
      },
      "outputs": [],
      "source": []
    },
    {
      "cell_type": "code",
      "execution_count": null,
      "id": "27f24ba4",
      "metadata": {
        "id": "27f24ba4"
      },
      "outputs": [],
      "source": [
        "# =============================================================================\n",
        "# 3.독립변수로 RandD_Spend, Administration, Marketing_Spend를 사용하여 Profit을 주별로\n",
        "# 예측하는 회귀 모형을 만들고, 이 회귀모형을 사용하여 학습오차를 산출하시오.\n",
        "# - 주별로 계산된 학습오차 중 MAPE 기준으로 가장 낮은 오차를 보이는 주는 어느\n",
        "# 주이고 그 값은 무엇인가? (반올림하여 소수점 둘째 자리까지 기술하시오)\n",
        "# - (MAPE = Σ ( | y - y ̂ | / y ) * 100/n )\n",
        "# (답안 예시) ABC, 1.56\n",
        "# ============================================================================="
      ]
    },
    {
      "cell_type": "code",
      "execution_count": null,
      "id": "1491407a",
      "metadata": {
        "id": "1491407a"
      },
      "outputs": [],
      "source": []
    },
    {
      "cell_type": "code",
      "execution_count": null,
      "id": "bfae2cc9",
      "metadata": {
        "id": "bfae2cc9"
      },
      "outputs": [],
      "source": []
    },
    {
      "cell_type": "markdown",
      "id": "f026096e",
      "metadata": {
        "id": "f026096e"
      },
      "source": [
        "# 문제 09 유형(DataSet_09.csv 이용)"
      ]
    },
    {
      "cell_type": "code",
      "execution_count": null,
      "id": "97a1f5ae",
      "metadata": {
        "id": "97a1f5ae"
      },
      "outputs": [],
      "source": [
        "# =============================================================================\n",
        "# 구분자 : comma(“,”), 2000 Rows, 16 Columns, UTF-8 인코딩\n",
        "#\n",
        "# 항공사에서 고객만족도 조사를 하고 서비스 개선에 활용하고자\n",
        "# 아래와 같은 데이터를 준비하였다.\n",
        "#\n",
        "# 컬 럼 / 정 의 / Type\n",
        "# satisfaction / 서비스 만족 여부 / String\n",
        "# Gender / 성별 / String\n",
        "# Age / 나이 / Double\n",
        "# Customer_Type / 고객 타입 / String\n",
        "# Class / 탑승 좌석 등급 / String\n",
        "# Flight_Distance / 비행 거리 / Double\n",
        "# Seat_comfort / 좌석 안락도 점수 / Double\n",
        "# Food_and_Drink / 식사와 음료 점수 / Double\n",
        "# Inflight_wifi_service / 기내 와이파이 서비스 점수 / Double\n",
        "# Inflight_entertainment / 기내 엔터테인먼트 서비스 점수 / Double\n",
        "# Onboard_service / 탑승 서비스 점수 / Double\n",
        "# Leg_room_service / 다리 공간 점수 / Double\n",
        "# Baggage_handling / 수하물 취급 점수 / Double\n",
        "# Cleanliness / 청결도 점수 / Double\n",
        "# Departure_Daly_in_Minutes / 출발 지연 (분) / Double\n",
        "# Arrival_Delay_in_Minutes / 도착 지연 (분) / Double\n",
        "# =============================================================================\n",
        "# =============================================================================\n",
        "\n",
        "# =============================================================================\n",
        "# (참고)\n",
        "# #1\n",
        "# import pandas as pd\n",
        "# import numpy as np\n",
        "# #2\n",
        "# import scipy.stats as stats\n",
        "# #3\n",
        "# from sklearn.linear_model import LogisticRegression\n",
        "# from sklearn.model_selection import train_test_split\n",
        "# from sklearn import metrics\n",
        "# \n",
        "# ============================================================================="
      ]
    },
    {
      "cell_type": "code",
      "execution_count": null,
      "id": "7a0645b1",
      "metadata": {
        "id": "7a0645b1"
      },
      "outputs": [],
      "source": [
        "# =============================================================================\n",
        "# 1.데이터 타입을 위 표에 정의된 타입으로 전처리를 한 후, 데이터 파일 내에 결측값은\n",
        "# 총 몇 개인가? (답안 예시) 1\n",
        "# ============================================================================="
      ]
    },
    {
      "cell_type": "code",
      "execution_count": null,
      "id": "20b431f6",
      "metadata": {
        "id": "20b431f6"
      },
      "outputs": [],
      "source": []
    },
    {
      "cell_type": "code",
      "execution_count": null,
      "id": "01233320",
      "metadata": {
        "id": "01233320"
      },
      "outputs": [],
      "source": []
    },
    {
      "cell_type": "code",
      "execution_count": null,
      "id": "5a44199f",
      "metadata": {
        "id": "5a44199f"
      },
      "outputs": [],
      "source": [
        "# =============================================================================\n",
        "# 2.다음에 제시된 데이터 처리를 하고 카이제곱 독립성 검정을 수행하시오.\n",
        "# - 결측값이 있다면 해당 행을 제거하시오.\n",
        "# - 나이는 20 이하이면 10, 30 이하이면 20, 40 이하이면 30, 50 이하이면 40, 60 이하이면 50, \n",
        "# 60 초과는 60으로 변환하여 Age_gr으로 파생변수를 생성하시오.\n",
        "# - Age_gr, Gender, Customer_Type, Class 변수가 satisfaction에 영향이 있는지 카이제곱\n",
        "# 독립성 검정을 수행하시오. \n",
        "# - 연관성이 있는 것으로 파악된 변수의 검정통계량 추정치를 정수 부분만 기술하시오. \n",
        "# (답안 예시) 123\n",
        "# ============================================================================="
      ]
    },
    {
      "cell_type": "code",
      "execution_count": null,
      "id": "c40f55ef",
      "metadata": {
        "id": "c40f55ef"
      },
      "outputs": [],
      "source": []
    },
    {
      "cell_type": "code",
      "execution_count": null,
      "id": "46048927",
      "metadata": {
        "id": "46048927"
      },
      "outputs": [],
      "source": []
    },
    {
      "cell_type": "code",
      "execution_count": null,
      "id": "1d94a112",
      "metadata": {
        "id": "1d94a112"
      },
      "outputs": [],
      "source": []
    },
    {
      "cell_type": "code",
      "execution_count": null,
      "id": "87aa33a0",
      "metadata": {
        "id": "87aa33a0"
      },
      "outputs": [],
      "source": []
    },
    {
      "cell_type": "code",
      "execution_count": null,
      "id": "4c60d2cd",
      "metadata": {
        "id": "4c60d2cd"
      },
      "outputs": [],
      "source": [
        "# =============================================================================\n",
        "# 3.고객 만족도를 라벨로 하여 다음과 같이 로지스틱 회귀분석을 수행하시오. \n",
        "# - 결측치가 포함된 행은 제거\n",
        "# - 데이터를 7대 3으로 분리 (Seed = 123)\n",
        "# - 아래의 11개 변수를 Feature로 사용\n",
        "# Flight_Distance, Seat_comfort, Food_and_drink, Inflight_wifi_service, \n",
        "# Inflight_entertainment,Onboard_service, Leg_room_service, Baggage_handling,\n",
        "# Cleanliness, Departure_Delay_in_Minutes, Arrival_Delay_in_Minutes\n",
        "# \n",
        "# - Seed = 123, 이외의 항목은 모두 Default 사용\n",
        "# - 예측 정확도를 측정하고 dissatisfied의 f1 score를 소수점 넷째 자리에서 반올림하여\n",
        "# 소수점 셋째 자리까지 기술하시오. (답안 예시) 0.123\n",
        "# ============================================================================="
      ]
    },
    {
      "cell_type": "code",
      "execution_count": null,
      "id": "a828efa8",
      "metadata": {
        "id": "a828efa8"
      },
      "outputs": [],
      "source": []
    },
    {
      "cell_type": "code",
      "execution_count": null,
      "id": "6bccdd1e",
      "metadata": {
        "id": "6bccdd1e"
      },
      "outputs": [],
      "source": []
    },
    {
      "cell_type": "markdown",
      "id": "8c4408ee",
      "metadata": {
        "id": "8c4408ee"
      },
      "source": [
        "# 문제 10 유형(DataSet_10.csv 이용)"
      ]
    },
    {
      "cell_type": "code",
      "execution_count": null,
      "id": "65f824ad",
      "metadata": {
        "id": "65f824ad"
      },
      "outputs": [],
      "source": [
        "# =============================================================================\n",
        "# 구분자 : comma(“,”), 1538 Rows, 6 Columns, UTF-8 인코딩\n",
        "\n",
        "# 중고 자동차 가격에 대한 분석을 위하여 아래와 같은 데이터를\n",
        "# 확보하였다.\n",
        "\n",
        "# 컬 럼 / 정 의 / Type\n",
        "# model / 모델명 / String\n",
        "# engine_power / 엔진 파워 / Double\n",
        "# age_in_days / 운행 일수 / Double\n",
        "# km / 운행 거리 / Double\n",
        "# previous_owners / 이전 소유자 수 / Double\n",
        "# price / 중고차 가격 / Double\n",
        "# =============================================================================\n",
        "# =============================================================================\n",
        "\n",
        "# =============================================================================\n",
        "# (참고)\n",
        "# #1\n",
        "# import pandas as pd\n",
        "# import numpy as np\n",
        "# #2\n",
        "# import scipy.stats as ststs\n",
        "# #3\n",
        "# from sklearn.linear_model import LinearRegression\n",
        "# ============================================================================="
      ]
    },
    {
      "cell_type": "code",
      "execution_count": null,
      "id": "239fc811",
      "metadata": {
        "id": "239fc811"
      },
      "outputs": [],
      "source": []
    },
    {
      "cell_type": "code",
      "execution_count": null,
      "id": "3558cad2",
      "metadata": {
        "id": "3558cad2"
      },
      "outputs": [],
      "source": []
    },
    {
      "cell_type": "code",
      "execution_count": null,
      "id": "57607a63",
      "metadata": {
        "id": "57607a63"
      },
      "outputs": [],
      "source": [
        "# =============================================================================\n",
        "# 1.이전 소유자 수가 한 명이고 엔진 파워가 51인 차에 대해 모델별 하루 평균 운행\n",
        "# 거리를 산출하였을 때 가장 낮은 값을 가진 모델이 가장 큰 값을 가진 모델에 대한\n",
        "# 비율은 얼마인가? 소수점 셋째 자리에서 반올림하여 소수점 둘째 자리까지\n",
        "# 기술하시오.\n",
        "# (모델별 평균 → 일평균 → 최대최소 비율 계산) (답안 예시) 0.12\n",
        "# ============================================================================="
      ]
    },
    {
      "cell_type": "code",
      "execution_count": null,
      "id": "68b3c207",
      "metadata": {
        "id": "68b3c207"
      },
      "outputs": [],
      "source": []
    },
    {
      "cell_type": "code",
      "execution_count": null,
      "id": "0bb894a3",
      "metadata": {
        "id": "0bb894a3"
      },
      "outputs": [],
      "source": []
    },
    {
      "cell_type": "code",
      "execution_count": null,
      "id": "e9c7943c",
      "metadata": {
        "id": "e9c7943c"
      },
      "outputs": [],
      "source": [
        "# =============================================================================\n",
        "# 2.운행 일수에 대한 운행 거리를 산출하고, 위 1번 문제에서 가장 큰 값을 가지고 있던\n",
        "# 모델과 가장 낮은 값을 가지고 있던 모델 간의 운행 일수 대비 운행거리 평균이 다른지\n",
        "# 적절한 통계 검정을 수행하고 p-value를 소수점 세자리 이하는 버리고 소수점\n",
        "# 두자리까지 기술하고 기각 여부를 Y / N로 답하시오. (등분산을 가정하고 equal_var = \n",
        "# True / var.equal = T로 분석을 실행하시오.)\n",
        "# (답안 예시) 0.23, Y\n",
        "# ============================================================================="
      ]
    },
    {
      "cell_type": "code",
      "execution_count": null,
      "id": "e9895b61",
      "metadata": {
        "id": "e9895b61"
      },
      "outputs": [],
      "source": []
    },
    {
      "cell_type": "code",
      "execution_count": null,
      "id": "9a9eca1d",
      "metadata": {
        "id": "9a9eca1d"
      },
      "outputs": [],
      "source": []
    },
    {
      "cell_type": "code",
      "execution_count": null,
      "id": "d83c1da6",
      "metadata": {
        "id": "d83c1da6"
      },
      "outputs": [],
      "source": [
        "# =============================================================================\n",
        "# 3.독립변수로 engine_power, age_in_days, km를 사용하고 종속변수로 price를 사용하여\n",
        "# 모델별 선형회귀분석을 수행하고, 산출된 모형을 사용하여 다음과 같은 조건의\n",
        "# 중고차에 대한 가격을 예측하고 예측된 가격을 정수부만 기술하시오.\n",
        "# - model : pop / engine_power : 51 / age_in_days : 400 / km : 9500 / previous_owners : 2\n",
        "\n",
        "# (답안 예시) 12345\n",
        "# =============================================================================\n",
        "# model = pop이고 이전 소유자수가 2명인 데이터만을 이용하여 회귀모델을 생성하시오."
      ]
    },
    {
      "cell_type": "code",
      "execution_count": null,
      "id": "5cc1b0bf",
      "metadata": {
        "id": "5cc1b0bf"
      },
      "outputs": [],
      "source": []
    },
    {
      "cell_type": "code",
      "execution_count": null,
      "id": "8c701eeb",
      "metadata": {
        "id": "8c701eeb"
      },
      "outputs": [],
      "source": []
    }
  ],
  "metadata": {
    "kernelspec": {
      "display_name": "Python 3",
      "language": "python",
      "name": "python3"
    },
    "language_info": {
      "codemirror_mode": {
        "name": "ipython",
        "version": 3
      },
      "file_extension": ".py",
      "mimetype": "text/x-python",
      "name": "python",
      "nbconvert_exporter": "python",
      "pygments_lexer": "ipython3",
      "version": "3.8.8"
    },
    "colab": {
      "provenance": [],
      "include_colab_link": true
    }
  },
  "nbformat": 4,
  "nbformat_minor": 5
}