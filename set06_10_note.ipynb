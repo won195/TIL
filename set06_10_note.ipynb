{
  "cells": [
    {
      "cell_type": "markdown",
      "metadata": {
        "id": "view-in-github",
        "colab_type": "text"
      },
      "source": [
        "<a href=\"https://colab.research.google.com/github/won195/TIL/blob/master/set06_10_note.ipynb\" target=\"_parent\"><img src=\"https://colab.research.google.com/assets/colab-badge.svg\" alt=\"Open In Colab\"/></a>"
      ]
    },
    {
      "cell_type": "markdown",
      "id": "21c79edb",
      "metadata": {
        "id": "21c79edb"
      },
      "source": [
        "# 문제 06 유형(DataSet_06.csv 이용)"
      ]
    },
    {
      "cell_type": "code",
      "source": [
        "from google.colab import drive\n",
        "drive.mount('/content/drive')"
      ],
      "metadata": {
        "colab": {
          "base_uri": "https://localhost:8080/"
        },
        "id": "aziWz-uBiB5m",
        "outputId": "f5b315b7-bcb1-45d3-d421-947818838b7a"
      },
      "id": "aziWz-uBiB5m",
      "execution_count": 14,
      "outputs": [
        {
          "output_type": "stream",
          "name": "stdout",
          "text": [
            "Drive already mounted at /content/drive; to attempt to forcibly remount, call drive.mount(\"/content/drive\", force_remount=True).\n"
          ]
        }
      ]
    },
    {
      "cell_type": "code",
      "execution_count": null,
      "id": "3f2b3869",
      "metadata": {
        "id": "3f2b3869"
      },
      "outputs": [],
      "source": [
        "# =============================================================================\n",
        "# 구분자 : comma(“,”), 4,323 Rows, 19 Columns, UTF-8 인코딩\n",
        "\n",
        "# 주택 관련 정보를 바탕으로 주택 가격을 예측해 보고자 한다. \n",
        "# 다음은 확보한 주택 관련 데이터로 총 19개 컬럼으로 구성되어\n",
        "# 있다.\n",
        "\n",
        "# 컬 럼 / 정 의 / Type\n",
        "# id / 매물 번호 / Double\n",
        "# date / 날짜 / String\n",
        "# price / 거래 가격 / Double\n",
        "# bedrooms / 방 개수 / Double\n",
        "# bathrooms / 화장실 개수 (화장실은 있으나 샤워기 없는 경우 0.5로 처리) / Double\n",
        "# sqft_living / 건축물 면적 / Double\n",
        "# sqft_lot / 대지 면적 / Double\n",
        "# floors / 건축물의 층수 / Double\n",
        "# waterfront / 강변 조망 가능 여부 (0 / 1) / Double\n",
        "# view / 경관 (나쁨에서 좋음으로 0 ~ 4로 표시) / Double\n",
        "# condition / 관리 상태 (나쁨에서 좋음으로 1 ~ 5로 표시) / Double\n",
        "# grade / 등급 (낮음에서 높음으로 1 ~ 13으로 표시) / Double\n",
        "# sqft_above / 지상 면적 / Double\n",
        "# sqft_basement / 지하실 면적 / Double\n",
        "# yr_built / 건축 연도 / Double\n",
        "# yr_renovated / 개축 연도 / Double\n",
        "# zipcode / 우편번호 / Double\n",
        "# sqft_living15 / 15개의 인근 주택의 평균 건물 면적 / Double\n",
        "# sqft_lot15 / 15개의 인근 주택의 평균 대지 면적 / Double\n",
        "# =============================================================================\n",
        "# ============================================================================="
      ]
    },
    {
      "cell_type": "code",
      "execution_count": 15,
      "id": "4e8fbdf2",
      "metadata": {
        "id": "4e8fbdf2"
      },
      "outputs": [],
      "source": [
        "import pandas as pd\n",
        "import numpy as np"
      ]
    },
    {
      "cell_type": "code",
      "execution_count": 16,
      "id": "7329c15c",
      "metadata": {
        "id": "7329c15c"
      },
      "outputs": [],
      "source": [
        "data6=pd.read_csv('/content/drive/MyDrive/pro ds/Dataset/Dataset_06.csv')"
      ]
    },
    {
      "cell_type": "code",
      "source": [
        "data6.info()"
      ],
      "metadata": {
        "colab": {
          "base_uri": "https://localhost:8080/"
        },
        "id": "uMBcweG_iYvh",
        "outputId": "daaf1bd9-5503-4b67-e4be-a00f71127120"
      },
      "id": "uMBcweG_iYvh",
      "execution_count": 4,
      "outputs": [
        {
          "output_type": "stream",
          "name": "stdout",
          "text": [
            "<class 'pandas.core.frame.DataFrame'>\n",
            "RangeIndex: 4323 entries, 0 to 4322\n",
            "Data columns (total 19 columns):\n",
            " #   Column         Non-Null Count  Dtype  \n",
            "---  ------         --------------  -----  \n",
            " 0   id             4323 non-null   int64  \n",
            " 1   date           4323 non-null   object \n",
            " 2   price          4323 non-null   float64\n",
            " 3   bedrooms       4323 non-null   int64  \n",
            " 4   bathrooms      4323 non-null   float64\n",
            " 5   sqft_living    4323 non-null   int64  \n",
            " 6   sqft_lot       4323 non-null   int64  \n",
            " 7   floors         4323 non-null   float64\n",
            " 8   waterfront     4323 non-null   int64  \n",
            " 9   view           4323 non-null   int64  \n",
            " 10  condition      4323 non-null   int64  \n",
            " 11  grade          4323 non-null   int64  \n",
            " 12  sqft_above     4323 non-null   int64  \n",
            " 13  sqft_basement  4323 non-null   int64  \n",
            " 14  yr_built       4323 non-null   int64  \n",
            " 15  yr_renovated   4323 non-null   int64  \n",
            " 16  zipcode        4323 non-null   int64  \n",
            " 17  sqft_living15  4323 non-null   int64  \n",
            " 18  sqft_lot15     4323 non-null   int64  \n",
            "dtypes: float64(3), int64(15), object(1)\n",
            "memory usage: 641.8+ KB\n"
          ]
        }
      ]
    },
    {
      "cell_type": "code",
      "execution_count": null,
      "id": "aead9c64",
      "metadata": {
        "id": "aead9c64"
      },
      "outputs": [],
      "source": [
        "# =============================================================================\n",
        "# 1.강변 조망이 가능한지 여부(waterfront)에 따라 평균 주택 가격을 계산하고 조망이\n",
        "# 가능한 경우와 그렇지 않은 경우의 평균 가격 차이의 절대값을 구하시오. 답은\n",
        "# 소수점 이하는 버리고 정수부만 기술하시오. (답안 예시) 1234567\n",
        "# ============================================================================="
      ]
    },
    {
      "cell_type": "code",
      "execution_count": 7,
      "id": "7ae383ce",
      "metadata": {
        "id": "7ae383ce"
      },
      "outputs": [],
      "source": [
        "q6_1_0 = data6[data6.waterfront==0]['price'].mean()\n",
        "q6_1_1 = data6[data6.waterfront==1]['price'].mean()"
      ]
    },
    {
      "cell_type": "code",
      "source": [
        "np.trunc(abs(q6_1_0 - q6_1_1))"
      ],
      "metadata": {
        "colab": {
          "base_uri": "https://localhost:8080/"
        },
        "id": "2amoXfGHi5pR",
        "outputId": "de8888a6-fb0b-4f8f-a5ae-c76522b050ae"
      },
      "id": "2amoXfGHi5pR",
      "execution_count": 8,
      "outputs": [
        {
          "output_type": "execute_result",
          "data": {
            "text/plain": [
              "1167272.0"
            ]
          },
          "metadata": {},
          "execution_count": 8
        }
      ]
    },
    {
      "cell_type": "code",
      "execution_count": null,
      "id": "f7267f06",
      "metadata": {
        "id": "f7267f06"
      },
      "outputs": [],
      "source": [
        "# =============================================================================\n",
        "# 2.price, bedrooms, bathrooms, sqft_living, sqft_lot, floors, yr_built 등 7개의 변수 간의\n",
        "# 상관분석을 수행하고 price와의 상관계수의 절대값이 가장 큰 변수와 가장 작은\n",
        "# 변수를 차례로 기술하시오. (답안 예시) view, zipcode\n",
        "# \n",
        "# ============================================================================="
      ]
    },
    {
      "cell_type": "code",
      "execution_count": 9,
      "id": "345b0f56",
      "metadata": {
        "id": "345b0f56"
      },
      "outputs": [],
      "source": [
        "var_list=['price', 'bedrooms', 'bathrooms', 'sqft_living', 'sqft_lot', 'floors', 'yr_built']"
      ]
    },
    {
      "cell_type": "code",
      "execution_count": 10,
      "id": "0be0a066",
      "metadata": {
        "id": "0be0a066"
      },
      "outputs": [],
      "source": [
        "q6_2=data6[var_list].corr()['price'].drop('price')"
      ]
    },
    {
      "cell_type": "code",
      "source": [
        "q6_2"
      ],
      "metadata": {
        "colab": {
          "base_uri": "https://localhost:8080/"
        },
        "id": "sXoywy5mjoaI",
        "outputId": "905cfc9c-dbac-4905-b97d-07cf98195d1a"
      },
      "id": "sXoywy5mjoaI",
      "execution_count": 11,
      "outputs": [
        {
          "output_type": "execute_result",
          "data": {
            "text/plain": [
              "bedrooms       0.279824\n",
              "bathrooms      0.534277\n",
              "sqft_living    0.709157\n",
              "sqft_lot       0.106341\n",
              "floors         0.270423\n",
              "yr_built       0.059895\n",
              "Name: price, dtype: float64"
            ]
          },
          "metadata": {},
          "execution_count": 11
        }
      ]
    },
    {
      "cell_type": "code",
      "source": [
        "q6_2.abs().idxmax(), q6_2.abs().idxmin()"
      ],
      "metadata": {
        "colab": {
          "base_uri": "https://localhost:8080/"
        },
        "id": "1hDQpilaj7yk",
        "outputId": "d3d3aaa5-75d1-4146-db7c-ecad6135a122"
      },
      "id": "1hDQpilaj7yk",
      "execution_count": 13,
      "outputs": [
        {
          "output_type": "execute_result",
          "data": {
            "text/plain": [
              "('sqft_living', 'yr_built')"
            ]
          },
          "metadata": {},
          "execution_count": 13
        }
      ]
    },
    {
      "cell_type": "code",
      "execution_count": null,
      "id": "d2f626e7",
      "metadata": {
        "id": "d2f626e7"
      },
      "outputs": [],
      "source": [
        "# =============================================================================\n",
        "# 3. id, date, 그리고 zipcode를 제외한 모든 변수를 독립변수로, price를 종속변수로 하여\n",
        "# 회귀분석을 수행하시오. 통계적 유의성을 갖지 못하는 독립변수를 제거하면 회귀\n",
        "# 모형에 남는 변수는 모두\n",
        "# 몇 개인가? 이 때 음의 회귀계수를 가지는 변수는 몇 개인가? (답안 예시) 5, 3\n",
        "# =============================================================================\n",
        "\n",
        "# =============================================================================\n",
        "# (참고)\n",
        "# import pandas as pd\n",
        "# import numpy as np\n",
        "# from sklearn.linear_model import LinearRegression\n",
        "# from statsmodels.formula.api import ols\n",
        "# ============================================================================="
      ]
    },
    {
      "cell_type": "code",
      "execution_count": 17,
      "id": "d777fc1e",
      "metadata": {
        "id": "d777fc1e"
      },
      "outputs": [],
      "source": [
        "from statsmodels.formula.api import ols"
      ]
    },
    {
      "cell_type": "code",
      "source": [
        "# lm=ols(식,데이터셋).fit()\n",
        "\n",
        "# 식 'y~x1+x2+C(x3)+x4-1'\n",
        "# -1: 상수항 미포함\n",
        "# C() : 범주형 변수 선언, 문자열 범주형 변수가 입력으로 삽입되면 자동으로 범주형 변수들이 더미변수 변수 변경"
      ],
      "metadata": {
        "id": "BArsJBq17Ac4"
      },
      "id": "BArsJBq17Ac4",
      "execution_count": null,
      "outputs": []
    },
    {
      "cell_type": "code",
      "source": [
        "var_list2 = data6.columns .drop(['id', 'date','zipcode', 'price'])"
      ],
      "metadata": {
        "id": "a4PnL7-18FJ0"
      },
      "id": "a4PnL7-18FJ0",
      "execution_count": 18,
      "outputs": []
    },
    {
      "cell_type": "code",
      "source": [
        "var_list2"
      ],
      "metadata": {
        "colab": {
          "base_uri": "https://localhost:8080/"
        },
        "id": "dFcHeWBW81fN",
        "outputId": "93e7781f-5409-4a0e-d0b3-56652de4c37e"
      },
      "id": "dFcHeWBW81fN",
      "execution_count": 19,
      "outputs": [
        {
          "output_type": "execute_result",
          "data": {
            "text/plain": [
              "Index(['bedrooms', 'bathrooms', 'sqft_living', 'sqft_lot', 'floors',\n",
              "       'waterfront', 'view', 'condition', 'grade', 'sqft_above',\n",
              "       'sqft_basement', 'yr_built', 'yr_renovated', 'sqft_living15',\n",
              "       'sqft_lot15'],\n",
              "      dtype='object')"
            ]
          },
          "metadata": {},
          "execution_count": 19
        }
      ]
    },
    {
      "cell_type": "code",
      "source": [
        "'price~' + 'bedrooms+bathrooms'"
      ],
      "metadata": {
        "colab": {
          "base_uri": "https://localhost:8080/",
          "height": 35
        },
        "id": "6bMpXv5D8m-V",
        "outputId": "613f20c6-86ec-43cc-e8c5-d0e19c64400d"
      },
      "id": "6bMpXv5D8m-V",
      "execution_count": 20,
      "outputs": [
        {
          "output_type": "execute_result",
          "data": {
            "text/plain": [
              "'price~bedrooms+bathrooms'"
            ],
            "application/vnd.google.colaboratory.intrinsic+json": {
              "type": "string"
            }
          },
          "metadata": {},
          "execution_count": 20
        }
      ]
    },
    {
      "cell_type": "code",
      "source": [
        "'+'.join(var_list2)"
      ],
      "metadata": {
        "colab": {
          "base_uri": "https://localhost:8080/",
          "height": 35
        },
        "id": "Lhpp4FPb9IEk",
        "outputId": "6a055c9f-7282-49fb-8f58-756076576bdf"
      },
      "id": "Lhpp4FPb9IEk",
      "execution_count": 22,
      "outputs": [
        {
          "output_type": "execute_result",
          "data": {
            "text/plain": [
              "'bedrooms+bathrooms+sqft_living+sqft_lot+floors+waterfront+view+condition+grade+sqft_above+sqft_basement+yr_built+yr_renovated+sqft_living15+sqft_lot15'"
            ],
            "application/vnd.google.colaboratory.intrinsic+json": {
              "type": "string"
            }
          },
          "metadata": {},
          "execution_count": 22
        }
      ]
    },
    {
      "cell_type": "code",
      "source": [
        "form1 = \"price~\" + '+'.join(var_list2)\n",
        "form1"
      ],
      "metadata": {
        "colab": {
          "base_uri": "https://localhost:8080/",
          "height": 35
        },
        "id": "0-Bzmm9w8mnQ",
        "outputId": "54dea2ee-ea06-49d2-e90f-46d4becdf1c3"
      },
      "id": "0-Bzmm9w8mnQ",
      "execution_count": 23,
      "outputs": [
        {
          "output_type": "execute_result",
          "data": {
            "text/plain": [
              "'price~bedrooms+bathrooms+sqft_living+sqft_lot+floors+waterfront+view+condition+grade+sqft_above+sqft_basement+yr_built+yr_renovated+sqft_living15+sqft_lot15'"
            ],
            "application/vnd.google.colaboratory.intrinsic+json": {
              "type": "string"
            }
          },
          "metadata": {},
          "execution_count": 23
        }
      ]
    },
    {
      "cell_type": "code",
      "execution_count": 25,
      "id": "420201c0",
      "metadata": {
        "id": "420201c0"
      },
      "outputs": [],
      "source": [
        "# lm1=ols(form1, data6)\n",
        "# lm2=lm1.fit()\n",
        "\n",
        "lm1=ols(form1, data6).fit()\n"
      ]
    },
    {
      "cell_type": "code",
      "source": [
        "lm1.predict(data6)"
      ],
      "metadata": {
        "colab": {
          "base_uri": "https://localhost:8080/"
        },
        "id": "3B85F-zJ64GT",
        "outputId": "44a82505-cbb5-428c-ac40-3e6d314a1b4d"
      },
      "id": "3B85F-zJ64GT",
      "execution_count": 26,
      "outputs": [
        {
          "output_type": "execute_result",
          "data": {
            "text/plain": [
              "0       303167.404363\n",
              "1       494555.779137\n",
              "2       526394.280931\n",
              "3       381742.870130\n",
              "4       326405.856590\n",
              "            ...      \n",
              "4318    218820.959470\n",
              "4319    700129.403303\n",
              "4320    403050.034203\n",
              "4321    530431.529543\n",
              "4322    462692.590490\n",
              "Length: 4323, dtype: float64"
            ]
          },
          "metadata": {},
          "execution_count": 26
        }
      ]
    },
    {
      "cell_type": "code",
      "source": [
        "lm1.summary()"
      ],
      "metadata": {
        "colab": {
          "base_uri": "https://localhost:8080/",
          "height": 785
        },
        "id": "VcmkznDI64ER",
        "outputId": "21c15eeb-da45-4b9f-e514-cb1515bb8250"
      },
      "id": "VcmkznDI64ER",
      "execution_count": 27,
      "outputs": [
        {
          "output_type": "execute_result",
          "data": {
            "text/plain": [
              "<class 'statsmodels.iolib.summary.Summary'>\n",
              "\"\"\"\n",
              "                            OLS Regression Results                            \n",
              "==============================================================================\n",
              "Dep. Variable:                  price   R-squared:                       0.681\n",
              "Model:                            OLS   Adj. R-squared:                  0.680\n",
              "Method:                 Least Squares   F-statistic:                     656.0\n",
              "Date:                Thu, 08 Jun 2023   Prob (F-statistic):               0.00\n",
              "Time:                        07:52:18   Log-Likelihood:                -58960.\n",
              "No. Observations:                4323   AIC:                         1.180e+05\n",
              "Df Residuals:                    4308   BIC:                         1.180e+05\n",
              "Df Model:                          14                                         \n",
              "Covariance Type:            nonrobust                                         \n",
              "=================================================================================\n",
              "                    coef    std err          t      P>|t|      [0.025      0.975]\n",
              "---------------------------------------------------------------------------------\n",
              "Intercept      6.302e+06   2.95e+05     21.401      0.000    5.73e+06    6.88e+06\n",
              "bedrooms        -2.5e+04   3680.510     -6.791      0.000   -3.22e+04   -1.78e+04\n",
              "bathrooms      5.179e+04   7163.408      7.230      0.000    3.77e+04    6.58e+04\n",
              "sqft_living      92.3080      5.074     18.192      0.000      82.360     102.256\n",
              "sqft_lot          0.0054      0.093      0.059      0.953      -0.176       0.187\n",
              "floors         3.748e+04   8141.392      4.604      0.000    2.15e+04    5.34e+04\n",
              "waterfront     6.277e+05   3.91e+04     16.064      0.000    5.51e+05    7.04e+05\n",
              "view            4.04e+04   4797.344      8.421      0.000     3.1e+04    4.98e+04\n",
              "condition      1.571e+04   5317.387      2.954      0.003    5280.918    2.61e+04\n",
              "grade          1.306e+05   4700.604     27.789      0.000    1.21e+05     1.4e+05\n",
              "sqft_above       33.7358      4.981      6.773      0.000      23.971      43.501\n",
              "sqft_basement    58.5723      5.840     10.030      0.000      47.123      70.021\n",
              "yr_built      -3666.8957    150.805    -24.316      0.000   -3962.551   -3371.241\n",
              "yr_renovated     17.7032      8.265      2.142      0.032       1.499      33.908\n",
              "sqft_living15    23.0114      7.561      3.044      0.002       8.188      37.834\n",
              "sqft_lot15       -0.2323      0.142     -1.637      0.102      -0.511       0.046\n",
              "==============================================================================\n",
              "Omnibus:                     2170.721   Durbin-Watson:                   2.011\n",
              "Prob(Omnibus):                  0.000   Jarque-Bera (JB):            38362.875\n",
              "Skew:                           1.971   Prob(JB):                         0.00\n",
              "Kurtosis:                      17.051   Cond. No.                     1.94e+17\n",
              "==============================================================================\n",
              "\n",
              "Notes:\n",
              "[1] Standard Errors assume that the covariance matrix of the errors is correctly specified.\n",
              "[2] The smallest eigenvalue is 4.29e-22. This might indicate that there are\n",
              "strong multicollinearity problems or that the design matrix is singular.\n",
              "\"\"\""
            ],
            "text/html": [
              "<table class=\"simpletable\">\n",
              "<caption>OLS Regression Results</caption>\n",
              "<tr>\n",
              "  <th>Dep. Variable:</th>          <td>price</td>      <th>  R-squared:         </th> <td>   0.681</td> \n",
              "</tr>\n",
              "<tr>\n",
              "  <th>Model:</th>                   <td>OLS</td>       <th>  Adj. R-squared:    </th> <td>   0.680</td> \n",
              "</tr>\n",
              "<tr>\n",
              "  <th>Method:</th>             <td>Least Squares</td>  <th>  F-statistic:       </th> <td>   656.0</td> \n",
              "</tr>\n",
              "<tr>\n",
              "  <th>Date:</th>             <td>Thu, 08 Jun 2023</td> <th>  Prob (F-statistic):</th>  <td>  0.00</td>  \n",
              "</tr>\n",
              "<tr>\n",
              "  <th>Time:</th>                 <td>07:52:18</td>     <th>  Log-Likelihood:    </th> <td> -58960.</td> \n",
              "</tr>\n",
              "<tr>\n",
              "  <th>No. Observations:</th>      <td>  4323</td>      <th>  AIC:               </th> <td>1.180e+05</td>\n",
              "</tr>\n",
              "<tr>\n",
              "  <th>Df Residuals:</th>          <td>  4308</td>      <th>  BIC:               </th> <td>1.180e+05</td>\n",
              "</tr>\n",
              "<tr>\n",
              "  <th>Df Model:</th>              <td>    14</td>      <th>                     </th>     <td> </td>    \n",
              "</tr>\n",
              "<tr>\n",
              "  <th>Covariance Type:</th>      <td>nonrobust</td>    <th>                     </th>     <td> </td>    \n",
              "</tr>\n",
              "</table>\n",
              "<table class=\"simpletable\">\n",
              "<tr>\n",
              "        <td></td>           <th>coef</th>     <th>std err</th>      <th>t</th>      <th>P>|t|</th>  <th>[0.025</th>    <th>0.975]</th>  \n",
              "</tr>\n",
              "<tr>\n",
              "  <th>Intercept</th>     <td> 6.302e+06</td> <td> 2.95e+05</td> <td>   21.401</td> <td> 0.000</td> <td> 5.73e+06</td> <td> 6.88e+06</td>\n",
              "</tr>\n",
              "<tr>\n",
              "  <th>bedrooms</th>      <td>  -2.5e+04</td> <td> 3680.510</td> <td>   -6.791</td> <td> 0.000</td> <td>-3.22e+04</td> <td>-1.78e+04</td>\n",
              "</tr>\n",
              "<tr>\n",
              "  <th>bathrooms</th>     <td> 5.179e+04</td> <td> 7163.408</td> <td>    7.230</td> <td> 0.000</td> <td> 3.77e+04</td> <td> 6.58e+04</td>\n",
              "</tr>\n",
              "<tr>\n",
              "  <th>sqft_living</th>   <td>   92.3080</td> <td>    5.074</td> <td>   18.192</td> <td> 0.000</td> <td>   82.360</td> <td>  102.256</td>\n",
              "</tr>\n",
              "<tr>\n",
              "  <th>sqft_lot</th>      <td>    0.0054</td> <td>    0.093</td> <td>    0.059</td> <td> 0.953</td> <td>   -0.176</td> <td>    0.187</td>\n",
              "</tr>\n",
              "<tr>\n",
              "  <th>floors</th>        <td> 3.748e+04</td> <td> 8141.392</td> <td>    4.604</td> <td> 0.000</td> <td> 2.15e+04</td> <td> 5.34e+04</td>\n",
              "</tr>\n",
              "<tr>\n",
              "  <th>waterfront</th>    <td> 6.277e+05</td> <td> 3.91e+04</td> <td>   16.064</td> <td> 0.000</td> <td> 5.51e+05</td> <td> 7.04e+05</td>\n",
              "</tr>\n",
              "<tr>\n",
              "  <th>view</th>          <td>  4.04e+04</td> <td> 4797.344</td> <td>    8.421</td> <td> 0.000</td> <td>  3.1e+04</td> <td> 4.98e+04</td>\n",
              "</tr>\n",
              "<tr>\n",
              "  <th>condition</th>     <td> 1.571e+04</td> <td> 5317.387</td> <td>    2.954</td> <td> 0.003</td> <td> 5280.918</td> <td> 2.61e+04</td>\n",
              "</tr>\n",
              "<tr>\n",
              "  <th>grade</th>         <td> 1.306e+05</td> <td> 4700.604</td> <td>   27.789</td> <td> 0.000</td> <td> 1.21e+05</td> <td>  1.4e+05</td>\n",
              "</tr>\n",
              "<tr>\n",
              "  <th>sqft_above</th>    <td>   33.7358</td> <td>    4.981</td> <td>    6.773</td> <td> 0.000</td> <td>   23.971</td> <td>   43.501</td>\n",
              "</tr>\n",
              "<tr>\n",
              "  <th>sqft_basement</th> <td>   58.5723</td> <td>    5.840</td> <td>   10.030</td> <td> 0.000</td> <td>   47.123</td> <td>   70.021</td>\n",
              "</tr>\n",
              "<tr>\n",
              "  <th>yr_built</th>      <td>-3666.8957</td> <td>  150.805</td> <td>  -24.316</td> <td> 0.000</td> <td>-3962.551</td> <td>-3371.241</td>\n",
              "</tr>\n",
              "<tr>\n",
              "  <th>yr_renovated</th>  <td>   17.7032</td> <td>    8.265</td> <td>    2.142</td> <td> 0.032</td> <td>    1.499</td> <td>   33.908</td>\n",
              "</tr>\n",
              "<tr>\n",
              "  <th>sqft_living15</th> <td>   23.0114</td> <td>    7.561</td> <td>    3.044</td> <td> 0.002</td> <td>    8.188</td> <td>   37.834</td>\n",
              "</tr>\n",
              "<tr>\n",
              "  <th>sqft_lot15</th>    <td>   -0.2323</td> <td>    0.142</td> <td>   -1.637</td> <td> 0.102</td> <td>   -0.511</td> <td>    0.046</td>\n",
              "</tr>\n",
              "</table>\n",
              "<table class=\"simpletable\">\n",
              "<tr>\n",
              "  <th>Omnibus:</th>       <td>2170.721</td> <th>  Durbin-Watson:     </th> <td>   2.011</td> \n",
              "</tr>\n",
              "<tr>\n",
              "  <th>Prob(Omnibus):</th>  <td> 0.000</td>  <th>  Jarque-Bera (JB):  </th> <td>38362.875</td>\n",
              "</tr>\n",
              "<tr>\n",
              "  <th>Skew:</th>           <td> 1.971</td>  <th>  Prob(JB):          </th> <td>    0.00</td> \n",
              "</tr>\n",
              "<tr>\n",
              "  <th>Kurtosis:</th>       <td>17.051</td>  <th>  Cond. No.          </th> <td>1.94e+17</td> \n",
              "</tr>\n",
              "</table><br/><br/>Notes:<br/>[1] Standard Errors assume that the covariance matrix of the errors is correctly specified.<br/>[2] The smallest eigenvalue is 4.29e-22. This might indicate that there are<br/>strong multicollinearity problems or that the design matrix is singular."
            ]
          },
          "metadata": {},
          "execution_count": 27
        }
      ]
    },
    {
      "cell_type": "code",
      "source": [],
      "metadata": {
        "id": "86ZCWzAz64CT"
      },
      "id": "86ZCWzAz64CT",
      "execution_count": null,
      "outputs": []
    },
    {
      "cell_type": "markdown",
      "id": "6ac9810c",
      "metadata": {
        "id": "6ac9810c"
      },
      "source": [
        "# 문제 07 유형(DataSet_07.csv 이용)"
      ]
    },
    {
      "cell_type": "code",
      "execution_count": null,
      "id": "a6b2bc89",
      "metadata": {
        "id": "a6b2bc89"
      },
      "outputs": [],
      "source": [
        "# =============================================================================\n",
        "# 구분자 : comma(“,”), 400 Rows, 9 Columns, UTF-8 인코딩\n",
        "#\n",
        "# 대학원 진학을 위하여 어떤 항목이 중요하게 영향을 미치는지\n",
        "# 아래 데이터로 분석하고자 한다.\n",
        "\n",
        "# 컬 럼 / 정 의 / Type\n",
        "# Serial_No / 구분자 번호 / Double\n",
        "# GRE / GRE 시험 성적 / Double\n",
        "# TOEFL / TOEFL 시험 성적 / Double\n",
        "# University_Rating / 대학 평가 그룹 (1 ~ 5) / Double\n",
        "# SOP / 자기 소개서 점수 (1 ~ 5) / Double\n",
        "# LOR / 추천서 점수 (1 ~ 5) / Double\n",
        "# CGPA / 학부 평량 평점 (10점 만점 환산 점수) / Double\n",
        "# Research / 연구 참여 경험 여부 (0 / 1) / Double\n",
        "# Chance_of_Admit / 합격 가능성 / Double\n",
        "# =============================================================================\n",
        "# =============================================================================\n",
        "\n",
        "# =============================================================================\n",
        "# (참고)\n",
        "# #1\n",
        "# import pandas as pd\n",
        "# #2\n",
        "# import scipy.stats as stats\n",
        "# #3\n",
        "# from sklearn.linear_model import LogisticRegression\n",
        "# Solver = ‘liblinear’, random_state = 12\n",
        "# ============================================================================="
      ]
    },
    {
      "cell_type": "code",
      "execution_count": null,
      "id": "bff3e344",
      "metadata": {
        "id": "bff3e344"
      },
      "outputs": [],
      "source": []
    },
    {
      "cell_type": "code",
      "execution_count": null,
      "id": "6096f7b4",
      "metadata": {
        "id": "6096f7b4"
      },
      "outputs": [],
      "source": []
    },
    {
      "cell_type": "code",
      "execution_count": null,
      "id": "4df1b3b1",
      "metadata": {
        "id": "4df1b3b1"
      },
      "outputs": [],
      "source": [
        "# =============================================================================\n",
        "# 1. 합격 가능성에 GRE, TOEFL, CGPA 점수 가운데 가장 영향이 큰 것이 어떤 점수인지\n",
        "# 알아 보기 위해서 상관 분석을 수행한다.\n",
        "# - 피어슨(Pearson) 상관계수 값을 구한다.\n",
        "# - Chance_of_Admit와의 가장 큰 상관계수 값을 가지는 항목의 상관계수를 소수점 넷째\n",
        "# 자리에서 반올림하여 셋째 자리까지 기술하시오. (답안 예시) 0.123\n",
        "# ============================================================================="
      ]
    },
    {
      "cell_type": "code",
      "execution_count": null,
      "id": "a98f9f74",
      "metadata": {
        "id": "a98f9f74"
      },
      "outputs": [],
      "source": []
    },
    {
      "cell_type": "code",
      "execution_count": null,
      "id": "48564b66",
      "metadata": {
        "id": "48564b66"
      },
      "outputs": [],
      "source": []
    },
    {
      "cell_type": "code",
      "execution_count": null,
      "id": "9d2840ee",
      "metadata": {
        "id": "9d2840ee"
      },
      "outputs": [],
      "source": [
        "# =============================================================================\n",
        "# 2.GRE 점수의 평균 이상을 받은 그룹과 평균 미만을 받은 그룹의 CGPA 평균은 차이가\n",
        "# 있는지\n",
        "# 검정을 하고자 한다.\n",
        "# - 적절한 검정 방법을 선택하고 양측 검정을 수행하시오 (등분산으로 가정)\n",
        "# - 검정 결과, 검정통계량의 추정치를 소수점 셋째 자리에서 반올림하여 소수점 두 자리까지\n",
        "# 기술하시오.\n",
        "# (답안 예시) 1.23\n",
        "# ============================================================================="
      ]
    },
    {
      "cell_type": "code",
      "execution_count": null,
      "id": "3cf895b6",
      "metadata": {
        "id": "3cf895b6"
      },
      "outputs": [],
      "source": []
    },
    {
      "cell_type": "code",
      "execution_count": null,
      "id": "7d32d528",
      "metadata": {
        "id": "7d32d528"
      },
      "outputs": [],
      "source": []
    },
    {
      "cell_type": "code",
      "execution_count": null,
      "id": "382907b3",
      "metadata": {
        "id": "382907b3"
      },
      "outputs": [],
      "source": [
        "# =============================================================================\n",
        "# 3.Chance_of_Admit 확률이 0.5를 초과하면 합격으로, 이하이면 불합격으로 구분하고\n",
        "# 로지스틱 회귀분석을 수행하시오.\n",
        "# - 원데이터만 사용하고, 원데이터 가운데 Serial_No와 Label은 모형에서 제외\n",
        "# - 각 설정값은 다음과 같이 지정하고, 언급되지 않은 사항은 기본 설정값을 사용하시오\n",
        "# Seed : 123\n",
        "# - 로지스틱 회귀분석 수행 결과에서 로지스틱 회귀계수의 절대값이 가장 큰 변수와 그 값을\n",
        "# 기술하시오. \n",
        "# (로지스틱 회귀계수는 반올림하여 소수점 둘째 자리까지 / Intercept는 제외)\n",
        "# (답안 예시) abc, 0.12\n",
        "# ============================================================================="
      ]
    },
    {
      "cell_type": "code",
      "execution_count": null,
      "id": "9951f846",
      "metadata": {
        "id": "9951f846"
      },
      "outputs": [],
      "source": []
    },
    {
      "cell_type": "code",
      "execution_count": null,
      "id": "321a2b98",
      "metadata": {
        "id": "321a2b98"
      },
      "outputs": [],
      "source": []
    },
    {
      "cell_type": "markdown",
      "id": "5536f00d",
      "metadata": {
        "id": "5536f00d"
      },
      "source": [
        "# 문제 08 유형(DataSet_08.csv 이용)"
      ]
    },
    {
      "cell_type": "code",
      "execution_count": null,
      "id": "489fff5d",
      "metadata": {
        "id": "489fff5d"
      },
      "outputs": [],
      "source": [
        "# =============================================================================\n",
        "# 구분자 : comma(“,”), 50 Rows, 5 Columns, UTF-8 인코딩\n",
        "#\n",
        "# 스타트업 기업들의 수익성에 대한 분석을 하기 위하여\n",
        "# 아래와 같은 데이터를 입수하였다\n",
        "#\n",
        "# \n",
        "# 컬 럼 / 정 의 / Type\n",
        "# RandD_Spend / 연구개발비 지출 / Double\n",
        "# Administration / 운영관리비 지출 / Double\n",
        "# Marketing_Spend / 마케팅비 지출 / Double\n",
        "# State / 본사 위치 / String\n",
        "# Profit / 이익 / Double\n",
        "# =============================================================================\n",
        "# =============================================================================\n",
        "\n",
        "# =============================================================================\n",
        "# (참고)\n",
        "# #1\n",
        "# import pandas as pd\n",
        "# import numpy as np\n",
        "# #3\n",
        "# from sklearn.linear_model import LinearRegression\n",
        "# ============================================================================="
      ]
    },
    {
      "cell_type": "code",
      "execution_count": null,
      "id": "de3c6976",
      "metadata": {
        "id": "de3c6976"
      },
      "outputs": [],
      "source": []
    },
    {
      "cell_type": "code",
      "execution_count": null,
      "id": "884af95a",
      "metadata": {
        "id": "884af95a"
      },
      "outputs": [],
      "source": []
    },
    {
      "cell_type": "code",
      "execution_count": null,
      "id": "74f64443",
      "metadata": {
        "id": "74f64443"
      },
      "outputs": [],
      "source": [
        "# =============================================================================\n",
        "# 1.각 주(State)별 데이터 구성비를 소수점 둘째 자리까지 구하고, 알파벳 순으로\n",
        "# 기술하시오(주 이름 기준).\n",
        "# (답안 예시) 0.12, 0.34, 0.54\n",
        "# ============================================================================="
      ]
    },
    {
      "cell_type": "code",
      "execution_count": null,
      "id": "5065ffd1",
      "metadata": {
        "id": "5065ffd1"
      },
      "outputs": [],
      "source": []
    },
    {
      "cell_type": "code",
      "execution_count": null,
      "id": "28da0040",
      "metadata": {
        "id": "28da0040"
      },
      "outputs": [],
      "source": []
    },
    {
      "cell_type": "code",
      "execution_count": null,
      "id": "492ca78a",
      "metadata": {
        "id": "492ca78a"
      },
      "outputs": [],
      "source": [
        "# =============================================================================\n",
        "# 2.주별 이익의 평균을 구하고, 평균 이익이 가장 큰 주와 작은 주의 차이를 구하시오. \n",
        "# 차이값은 소수점 이하는 버리고 정수부분만 기술하시오. (답안 예시) 1234\n",
        "# ============================================================================="
      ]
    },
    {
      "cell_type": "code",
      "execution_count": null,
      "id": "653503bd",
      "metadata": {
        "id": "653503bd"
      },
      "outputs": [],
      "source": []
    },
    {
      "cell_type": "code",
      "execution_count": null,
      "id": "e714a22e",
      "metadata": {
        "id": "e714a22e"
      },
      "outputs": [],
      "source": []
    },
    {
      "cell_type": "code",
      "execution_count": null,
      "id": "f74f7622",
      "metadata": {
        "id": "f74f7622"
      },
      "outputs": [],
      "source": [
        "# =============================================================================\n",
        "# 3.독립변수로 RandD_Spend, Administration, Marketing_Spend를 사용하여 Profit을 주별로\n",
        "# 예측하는 회귀 모형을 만들고, 이 회귀모형을 사용하여 학습오차를 산출하시오.\n",
        "# - 주별로 계산된 학습오차 중 MAPE 기준으로 가장 낮은 오차를 보이는 주는 어느\n",
        "# 주이고 그 값은 무엇인가? (반올림하여 소수점 둘째 자리까지 기술하시오)\n",
        "# - (MAPE = Σ ( | y - y ̂ | / y ) * 100/n )\n",
        "# (답안 예시) ABC, 1.56\n",
        "# ============================================================================="
      ]
    },
    {
      "cell_type": "code",
      "execution_count": null,
      "id": "5c2ea2ca",
      "metadata": {
        "id": "5c2ea2ca"
      },
      "outputs": [],
      "source": []
    },
    {
      "cell_type": "code",
      "execution_count": null,
      "id": "236e862f",
      "metadata": {
        "id": "236e862f"
      },
      "outputs": [],
      "source": []
    },
    {
      "cell_type": "markdown",
      "id": "60b9b3e3",
      "metadata": {
        "id": "60b9b3e3"
      },
      "source": [
        "# 문제 09 유형(DataSet_09.csv 이용)"
      ]
    },
    {
      "cell_type": "code",
      "execution_count": null,
      "id": "66aa52bb",
      "metadata": {
        "id": "66aa52bb"
      },
      "outputs": [],
      "source": [
        "# =============================================================================\n",
        "# 구분자 : comma(“,”), 2000 Rows, 16 Columns, UTF-8 인코딩\n",
        "#\n",
        "# 항공사에서 고객만족도 조사를 하고 서비스 개선에 활용하고자\n",
        "# 아래와 같은 데이터를 준비하였다.\n",
        "#\n",
        "# 컬 럼 / 정 의 / Type\n",
        "# satisfaction / 서비스 만족 여부 / String\n",
        "# Gender / 성별 / String\n",
        "# Age / 나이 / Double\n",
        "# Customer_Type / 고객 타입 / String\n",
        "# Class / 탑승 좌석 등급 / String\n",
        "# Flight_Distance / 비행 거리 / Double\n",
        "# Seat_comfort / 좌석 안락도 점수 / Double\n",
        "# Food_and_Drink / 식사와 음료 점수 / Double\n",
        "# Inflight_wifi_service / 기내 와이파이 서비스 점수 / Double\n",
        "# Inflight_entertainment / 기내 엔터테인먼트 서비스 점수 / Double\n",
        "# Onboard_service / 탑승 서비스 점수 / Double\n",
        "# Leg_room_service / 다리 공간 점수 / Double\n",
        "# Baggage_handling / 수하물 취급 점수 / Double\n",
        "# Cleanliness / 청결도 점수 / Double\n",
        "# Departure_Daly_in_Minutes / 출발 지연 (분) / Double\n",
        "# Arrival_Delay_in_Minutes / 도착 지연 (분) / Double\n",
        "# =============================================================================\n",
        "# =============================================================================\n",
        "\n",
        "# =============================================================================\n",
        "# (참고)\n",
        "# #1\n",
        "# import pandas as pd\n",
        "# import numpy as np\n",
        "# #2\n",
        "# import scipy.stats as stats\n",
        "# #3\n",
        "# from sklearn.linear_model import LogisticRegression\n",
        "# from sklearn.model_selection import train_test_split\n",
        "# from sklearn import metrics\n",
        "# \n",
        "# ============================================================================="
      ]
    },
    {
      "cell_type": "code",
      "execution_count": null,
      "id": "7901bd66",
      "metadata": {
        "id": "7901bd66"
      },
      "outputs": [],
      "source": [
        "# =============================================================================\n",
        "# 1.데이터 타입을 위 표에 정의된 타입으로 전처리를 한 후, 데이터 파일 내에 결측값은\n",
        "# 총 몇 개인가? (답안 예시) 1\n",
        "# ============================================================================="
      ]
    },
    {
      "cell_type": "code",
      "execution_count": null,
      "id": "007b1979",
      "metadata": {
        "id": "007b1979"
      },
      "outputs": [],
      "source": []
    },
    {
      "cell_type": "code",
      "execution_count": null,
      "id": "66aec12a",
      "metadata": {
        "id": "66aec12a"
      },
      "outputs": [],
      "source": []
    },
    {
      "cell_type": "code",
      "execution_count": null,
      "id": "5576cd6e",
      "metadata": {
        "id": "5576cd6e"
      },
      "outputs": [],
      "source": [
        "# =============================================================================\n",
        "# 2.다음에 제시된 데이터 처리를 하고 카이제곱 독립성 검정을 수행하시오.\n",
        "# - 결측값이 있다면 해당 행을 제거하시오.\n",
        "# - 나이는 20 이하이면 10, 30 이하이면 20, 40 이하이면 30, 50 이하이면 40, 60 이하이면 50, \n",
        "# 60 초과는 60으로 변환하여 Age_gr으로 파생변수를 생성하시오.\n",
        "# - Age_gr, Gender, Customer_Type, Class 변수가 satisfaction에 영향이 있는지 카이제곱\n",
        "# 독립성 검정을 수행하시오. \n",
        "# - 연관성이 있는 것으로 파악된 변수의 검정통계량 추정치를 정수 부분만 기술하시오. \n",
        "# (답안 예시) 123\n",
        "# ============================================================================="
      ]
    },
    {
      "cell_type": "code",
      "execution_count": null,
      "id": "2cb5dc4d",
      "metadata": {
        "id": "2cb5dc4d"
      },
      "outputs": [],
      "source": []
    },
    {
      "cell_type": "code",
      "execution_count": null,
      "id": "d6718d79",
      "metadata": {
        "id": "d6718d79"
      },
      "outputs": [],
      "source": []
    },
    {
      "cell_type": "code",
      "execution_count": null,
      "id": "1720bb3c",
      "metadata": {
        "id": "1720bb3c"
      },
      "outputs": [],
      "source": []
    },
    {
      "cell_type": "code",
      "execution_count": null,
      "id": "650b50a6",
      "metadata": {
        "id": "650b50a6"
      },
      "outputs": [],
      "source": []
    },
    {
      "cell_type": "code",
      "execution_count": null,
      "id": "5df4abb7",
      "metadata": {
        "id": "5df4abb7"
      },
      "outputs": [],
      "source": [
        "# =============================================================================\n",
        "# 3.고객 만족도를 라벨로 하여 다음과 같이 로지스틱 회귀분석을 수행하시오. \n",
        "# - 결측치가 포함된 행은 제거\n",
        "# - 데이터를 7대 3으로 분리 (Seed = 123)\n",
        "# - 아래의 11개 변수를 Feature로 사용\n",
        "# Flight_Distance, Seat_comfort, Food_and_drink, Inflight_wifi_service, \n",
        "# Inflight_entertainment,Onboard_service, Leg_room_service, Baggage_handling,\n",
        "# Cleanliness, Departure_Delay_in_Minutes, Arrival_Delay_in_Minutes\n",
        "# \n",
        "# - Seed = 123, 이외의 항목은 모두 Default 사용\n",
        "# - 예측 정확도를 측정하고 dissatisfied의 f1 score를 소수점 넷째 자리에서 반올림하여\n",
        "# 소수점 셋째 자리까지 기술하시오. (답안 예시) 0.123\n",
        "# ============================================================================="
      ]
    },
    {
      "cell_type": "code",
      "execution_count": null,
      "id": "f1bf8bfc",
      "metadata": {
        "id": "f1bf8bfc"
      },
      "outputs": [],
      "source": []
    },
    {
      "cell_type": "code",
      "execution_count": null,
      "id": "060a55d0",
      "metadata": {
        "id": "060a55d0"
      },
      "outputs": [],
      "source": []
    },
    {
      "cell_type": "markdown",
      "id": "eab95606",
      "metadata": {
        "id": "eab95606"
      },
      "source": [
        "# 문제 10 유형(DataSet_10.csv 이용)"
      ]
    },
    {
      "cell_type": "code",
      "execution_count": null,
      "id": "283d5f4b",
      "metadata": {
        "id": "283d5f4b"
      },
      "outputs": [],
      "source": [
        "# =============================================================================\n",
        "# 구분자 : comma(“,”), 1538 Rows, 6 Columns, UTF-8 인코딩\n",
        "\n",
        "# 중고 자동차 가격에 대한 분석을 위하여 아래와 같은 데이터를\n",
        "# 확보하였다.\n",
        "\n",
        "# 컬 럼 / 정 의 / Type\n",
        "# model / 모델명 / String\n",
        "# engine_power / 엔진 파워 / Double\n",
        "# age_in_days / 운행 일수 / Double\n",
        "# km / 운행 거리 / Double\n",
        "# previous_owners / 이전 소유자 수 / Double\n",
        "# price / 중고차 가격 / Double\n",
        "# =============================================================================\n",
        "# =============================================================================\n",
        "\n",
        "# =============================================================================\n",
        "# (참고)\n",
        "# #1\n",
        "# import pandas as pd\n",
        "# import numpy as np\n",
        "# #2\n",
        "# import scipy.stats as ststs\n",
        "# #3\n",
        "# from sklearn.linear_model import LinearRegression\n",
        "# ============================================================================="
      ]
    },
    {
      "cell_type": "code",
      "execution_count": null,
      "id": "35a6d2b7",
      "metadata": {
        "id": "35a6d2b7"
      },
      "outputs": [],
      "source": []
    },
    {
      "cell_type": "code",
      "execution_count": null,
      "id": "2fe20064",
      "metadata": {
        "id": "2fe20064"
      },
      "outputs": [],
      "source": []
    },
    {
      "cell_type": "code",
      "execution_count": null,
      "id": "41551e26",
      "metadata": {
        "id": "41551e26"
      },
      "outputs": [],
      "source": [
        "# =============================================================================\n",
        "# 1.이전 소유자 수가 한 명이고 엔진 파워가 51인 차에 대해 모델별 하루 평균 운행\n",
        "# 거리를 산출하였을 때 가장 낮은 값을 가진 모델이 가장 큰 값을 가진 모델에 대한\n",
        "# 비율은 얼마인가? 소수점 셋째 자리에서 반올림하여 소수점 둘째 자리까지\n",
        "# 기술하시오.\n",
        "# (모델별 평균 → 일평균 → 최대최소 비율 계산) (답안 예시) 0.12\n",
        "# ============================================================================="
      ]
    },
    {
      "cell_type": "code",
      "execution_count": null,
      "id": "880b6ad3",
      "metadata": {
        "id": "880b6ad3"
      },
      "outputs": [],
      "source": []
    },
    {
      "cell_type": "code",
      "execution_count": null,
      "id": "a50ad5e1",
      "metadata": {
        "id": "a50ad5e1"
      },
      "outputs": [],
      "source": []
    },
    {
      "cell_type": "code",
      "execution_count": null,
      "id": "0fd91b2c",
      "metadata": {
        "id": "0fd91b2c"
      },
      "outputs": [],
      "source": [
        "# =============================================================================\n",
        "# 2.운행 일수에 대한 운행 거리를 산출하고, 위 1번 문제에서 가장 큰 값을 가지고 있던\n",
        "# 모델과 가장 낮은 값을 가지고 있던 모델 간의 운행 일수 대비 운행거리 평균이 다른지\n",
        "# 적절한 통계 검정을 수행하고 p-value를 소수점 세자리 이하는 버리고 소수점\n",
        "# 두자리까지 기술하고 기각 여부를 Y / N로 답하시오. (등분산을 가정하고 equal_var = \n",
        "# True / var.equal = T로 분석을 실행하시오.)\n",
        "# (답안 예시) 0.23, Y\n",
        "# ============================================================================="
      ]
    },
    {
      "cell_type": "code",
      "execution_count": null,
      "id": "f3ffb32e",
      "metadata": {
        "id": "f3ffb32e"
      },
      "outputs": [],
      "source": []
    },
    {
      "cell_type": "code",
      "execution_count": null,
      "id": "fbae01be",
      "metadata": {
        "id": "fbae01be"
      },
      "outputs": [],
      "source": []
    },
    {
      "cell_type": "code",
      "execution_count": null,
      "id": "1b400ff0",
      "metadata": {
        "id": "1b400ff0"
      },
      "outputs": [],
      "source": [
        "# =============================================================================\n",
        "# 3.독립변수로 engine_power, age_in_days, km를 사용하고 종속변수로 price를 사용하여\n",
        "# 모델별 선형회귀분석을 수행하고, 산출된 모형을 사용하여 다음과 같은 조건의\n",
        "# 중고차에 대한 가격을 예측하고 예측된 가격을 정수부만 기술하시오.\n",
        "# - model : pop / engine_power : 51 / age_in_days : 400 / km : 9500 / previous_owners : 2\n",
        "\n",
        "# (답안 예시) 12345\n",
        "# =============================================================================\n",
        "# model = pop이고 이전 소유자수가 2명인 데이터만을 이용하여 회귀모델을 생성하시오."
      ]
    },
    {
      "cell_type": "code",
      "execution_count": null,
      "id": "a50cac58",
      "metadata": {
        "id": "a50cac58"
      },
      "outputs": [],
      "source": []
    },
    {
      "cell_type": "code",
      "execution_count": null,
      "id": "6cf5e2bb",
      "metadata": {
        "id": "6cf5e2bb"
      },
      "outputs": [],
      "source": []
    }
  ],
  "metadata": {
    "kernelspec": {
      "display_name": "Python 3",
      "language": "python",
      "name": "python3"
    },
    "language_info": {
      "codemirror_mode": {
        "name": "ipython",
        "version": 3
      },
      "file_extension": ".py",
      "mimetype": "text/x-python",
      "name": "python",
      "nbconvert_exporter": "python",
      "pygments_lexer": "ipython3",
      "version": "3.8.8"
    },
    "colab": {
      "provenance": [],
      "include_colab_link": true
    }
  },
  "nbformat": 4,
  "nbformat_minor": 5
}