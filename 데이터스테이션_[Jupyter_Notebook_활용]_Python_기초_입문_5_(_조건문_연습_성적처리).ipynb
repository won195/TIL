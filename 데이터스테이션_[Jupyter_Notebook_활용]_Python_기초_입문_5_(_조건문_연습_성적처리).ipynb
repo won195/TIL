{
  "nbformat": 4,
  "nbformat_minor": 0,
  "metadata": {
    "colab": {
      "provenance": [],
      "authorship_tag": "ABX9TyNQ/D/+4DFJvwxwIqe2VWvk",
      "include_colab_link": true
    },
    "kernelspec": {
      "name": "python3",
      "display_name": "Python 3"
    },
    "language_info": {
      "name": "python"
    }
  },
  "cells": [
    {
      "cell_type": "markdown",
      "metadata": {
        "id": "view-in-github",
        "colab_type": "text"
      },
      "source": [
        "<a href=\"https://colab.research.google.com/github/won195/TIL/blob/master/%EB%8D%B0%EC%9D%B4%ED%84%B0%EC%8A%A4%ED%85%8C%EC%9D%B4%EC%85%98_%5BJupyter_Notebook_%ED%99%9C%EC%9A%A9%5D_Python_%EA%B8%B0%EC%B4%88_%EC%9E%85%EB%AC%B8_5_(_%EC%A1%B0%EA%B1%B4%EB%AC%B8_%EC%97%B0%EC%8A%B5_%EC%84%B1%EC%A0%81%EC%B2%98%EB%A6%AC).ipynb\" target=\"_parent\"><img src=\"https://colab.research.google.com/assets/colab-badge.svg\" alt=\"Open In Colab\"/></a>"
      ]
    },
    {
      "cell_type": "code",
      "execution_count": 2,
      "metadata": {
        "colab": {
          "base_uri": "https://localhost:8080/"
        },
        "id": "0IL6dpuTvX0F",
        "outputId": "cb90de86-6c55-4e35-c1e0-32487908de1f"
      },
      "outputs": [
        {
          "output_type": "stream",
          "name": "stdout",
          "text": [
            "성적을 입력하시오 : 75\n",
            "C\n"
          ]
        }
      ],
      "source": [
        "data1 = input('성적을 입력하시오 : ')\n",
        "data2 = int(data1)\n",
        "if data2 >= 90:\n",
        "  print(\"A\")\n",
        "elif data2 >=80:\n",
        "  print(\"B\")\n",
        "elif data2 >=70:\n",
        "  print(\"C\")\n",
        "else:\n",
        "  print(\"D\")"
      ]
    },
    {
      "cell_type": "code",
      "source": [
        "list_score = []\n",
        "list_score2 = []"
      ],
      "metadata": {
        "id": "VyuejDn2vs3m"
      },
      "execution_count": 14,
      "outputs": []
    },
    {
      "cell_type": "code",
      "source": [
        "data3 = int(input(\"성적을 입력하시오 : \"))\n",
        "list_score.append(data3)\n",
        "\n",
        "if data3 >= 90:\n",
        "  print(\"A\")\n",
        "  list_score2.append(\"A\")\n",
        "elif data3 >=80:\n",
        "  print(\"B\")\n",
        "  list_score2.append(\"B\")\n",
        "elif data3 >=70:\n",
        "  print(\"C\")\n",
        "  list_score2.append(\"C\")\n",
        "else:\n",
        "  print(\"D\")\n",
        "  list_score2.append(\"D\")"
      ],
      "metadata": {
        "colab": {
          "base_uri": "https://localhost:8080/"
        },
        "id": "WVsSEZ500_i5",
        "outputId": "ea46f13d-fe80-4fcc-c342-9e070e18e50f"
      },
      "execution_count": 12,
      "outputs": [
        {
          "output_type": "stream",
          "name": "stdout",
          "text": [
            "성적을 입력하시오 : 81\n",
            "B\n"
          ]
        }
      ]
    },
    {
      "cell_type": "code",
      "source": [
        "list_score"
      ],
      "metadata": {
        "colab": {
          "base_uri": "https://localhost:8080/"
        },
        "id": "u8zC12lg1Ft_",
        "outputId": "7bc67e13-327c-4743-fff1-f0361d8b3029"
      },
      "execution_count": 13,
      "outputs": [
        {
          "output_type": "execute_result",
          "data": {
            "text/plain": [
              "[95, 77, 81]"
            ]
          },
          "metadata": {},
          "execution_count": 13
        }
      ]
    },
    {
      "cell_type": "code",
      "source": [
        "list_score2"
      ],
      "metadata": {
        "colab": {
          "base_uri": "https://localhost:8080/"
        },
        "id": "j86Vq2Tq1If2",
        "outputId": "90b8cc33-8956-4cd9-c992-031feee8a3f3"
      },
      "execution_count": 15,
      "outputs": [
        {
          "output_type": "execute_result",
          "data": {
            "text/plain": [
              "[]"
            ]
          },
          "metadata": {},
          "execution_count": 15
        }
      ]
    },
    {
      "cell_type": "code",
      "source": [
        "dict(zip(list_score,list_score2))"
      ],
      "metadata": {
        "colab": {
          "base_uri": "https://localhost:8080/"
        },
        "id": "LxeUrcq48oaQ",
        "outputId": "5a77a7e7-0477-499e-f064-dca325085640"
      },
      "execution_count": 16,
      "outputs": [
        {
          "output_type": "execute_result",
          "data": {
            "text/plain": [
              "{}"
            ]
          },
          "metadata": {},
          "execution_count": 16
        }
      ]
    },
    {
      "cell_type": "code",
      "source": [
        "for i in range(1,11):\n",
        "  print(i)"
      ],
      "metadata": {
        "colab": {
          "base_uri": "https://localhost:8080/"
        },
        "id": "rPkJdPAQ9Va_",
        "outputId": "b8bc7710-5674-4b0d-e820-0acc2867f04b"
      },
      "execution_count": 17,
      "outputs": [
        {
          "output_type": "stream",
          "name": "stdout",
          "text": [
            "1\n",
            "2\n",
            "3\n",
            "4\n",
            "5\n",
            "6\n",
            "7\n",
            "8\n",
            "9\n",
            "10\n"
          ]
        }
      ]
    },
    {
      "cell_type": "code",
      "source": [
        "sum_score = 0\n",
        "for i in range(1,11):\n",
        "    sum_score = sum_score + i\n",
        "\n",
        "print(sum_score)"
      ],
      "metadata": {
        "colab": {
          "base_uri": "https://localhost:8080/"
        },
        "id": "S8rdfusG-Wh-",
        "outputId": "46897424-6048-4bc0-a0d4-903585e60a22"
      },
      "execution_count": 19,
      "outputs": [
        {
          "output_type": "stream",
          "name": "stdout",
          "text": [
            "55\n"
          ]
        }
      ]
    },
    {
      "cell_type": "code",
      "source": [
        "sum_score2 = 0\n",
        "for j in [10, 50, 100]:\n",
        "    sum_score2 = sum_score2 + j\n",
        "\n",
        "print(sum_score2)"
      ],
      "metadata": {
        "colab": {
          "base_uri": "https://localhost:8080/"
        },
        "id": "fzk8AMPWBLsI",
        "outputId": "9799e25d-e7ba-431d-bfbc-f94bcb803e3f"
      },
      "execution_count": 20,
      "outputs": [
        {
          "output_type": "stream",
          "name": "stdout",
          "text": [
            "160\n"
          ]
        }
      ]
    },
    {
      "cell_type": "code",
      "source": [
        "sum_score3 = 0\n",
        "list1 = [10, 20, 30, 50, 80, 90]\n",
        "for k in list1:\n",
        "  sum_score3 = sum_score3 + k\n",
        "\n",
        "print(sum_score3/len(list1))"
      ],
      "metadata": {
        "colab": {
          "base_uri": "https://localhost:8080/"
        },
        "id": "XPhVVU7vB2rW",
        "outputId": "b03b8d9c-c91a-4d61-c49d-b7eaa59ebd2e"
      },
      "execution_count": 22,
      "outputs": [
        {
          "output_type": "stream",
          "name": "stdout",
          "text": [
            "46.666666666666664\n"
          ]
        }
      ]
    },
    {
      "cell_type": "code",
      "source": [
        "def func1(x):\n",
        "    y = x + 20\n",
        "    return y"
      ],
      "metadata": {
        "id": "bcwKDh09CD4W"
      },
      "execution_count": 23,
      "outputs": []
    },
    {
      "cell_type": "code",
      "source": [
        "func1(100)"
      ],
      "metadata": {
        "colab": {
          "base_uri": "https://localhost:8080/"
        },
        "id": "yBunK7E3EcJj",
        "outputId": "3a4eeecc-a90b-4875-9c16-ede994157979"
      },
      "execution_count": 24,
      "outputs": [
        {
          "output_type": "execute_result",
          "data": {
            "text/plain": [
              "120"
            ]
          },
          "metadata": {},
          "execution_count": 24
        }
      ]
    },
    {
      "cell_type": "code",
      "source": [
        "func1(-20)"
      ],
      "metadata": {
        "colab": {
          "base_uri": "https://localhost:8080/"
        },
        "id": "UKr7PCTYEmjz",
        "outputId": "a5212d6d-22ff-43d9-d315-bbf1d29c0838"
      },
      "execution_count": 25,
      "outputs": [
        {
          "output_type": "execute_result",
          "data": {
            "text/plain": [
              "0"
            ]
          },
          "metadata": {},
          "execution_count": 25
        }
      ]
    },
    {
      "cell_type": "code",
      "source": [
        "def func2(data):\n",
        "    output = (data**3) + 50\n",
        "    return output"
      ],
      "metadata": {
        "id": "NsnySjOuF9Lj"
      },
      "execution_count": 26,
      "outputs": []
    },
    {
      "cell_type": "code",
      "source": [
        "func2(2)"
      ],
      "metadata": {
        "colab": {
          "base_uri": "https://localhost:8080/"
        },
        "id": "qmFpxrRoGOjd",
        "outputId": "c472e5d1-280a-43dd-c06f-ef1a34a5dd9e"
      },
      "execution_count": 27,
      "outputs": [
        {
          "output_type": "execute_result",
          "data": {
            "text/plain": [
              "58"
            ]
          },
          "metadata": {},
          "execution_count": 27
        }
      ]
    },
    {
      "cell_type": "code",
      "source": [
        "def func3(x):\n",
        "    if x > 50:\n",
        "      return x + 30\n",
        "    else:\n",
        "      return x ** 5"
      ],
      "metadata": {
        "id": "u_vyRbMUGSbr"
      },
      "execution_count": 28,
      "outputs": []
    },
    {
      "cell_type": "code",
      "source": [
        "func3(2)"
      ],
      "metadata": {
        "colab": {
          "base_uri": "https://localhost:8080/"
        },
        "id": "JAbDABzmPLT7",
        "outputId": "9f3d3a9c-e070-4531-ea4a-4c342757c091"
      },
      "execution_count": 29,
      "outputs": [
        {
          "output_type": "execute_result",
          "data": {
            "text/plain": [
              "32"
            ]
          },
          "metadata": {},
          "execution_count": 29
        }
      ]
    },
    {
      "cell_type": "code",
      "source": [
        "func3(100)"
      ],
      "metadata": {
        "colab": {
          "base_uri": "https://localhost:8080/"
        },
        "id": "G0RUDA7cPMkv",
        "outputId": "95456f93-d927-49ef-bab6-a22fd9c437f9"
      },
      "execution_count": 30,
      "outputs": [
        {
          "output_type": "execute_result",
          "data": {
            "text/plain": [
              "130"
            ]
          },
          "metadata": {},
          "execution_count": 30
        }
      ]
    },
    {
      "cell_type": "code",
      "source": [
        "func3"
      ],
      "metadata": {
        "colab": {
          "base_uri": "https://localhost:8080/"
        },
        "id": "ycjQkhdGPNX_",
        "outputId": "df8798e6-bd38-49ef-ce91-f5ce2fbc1c47"
      },
      "execution_count": 31,
      "outputs": [
        {
          "output_type": "execute_result",
          "data": {
            "text/plain": [
              "<function __main__.func3(x)>"
            ]
          },
          "metadata": {},
          "execution_count": 31
        }
      ]
    },
    {
      "cell_type": "code",
      "source": [
        "func3(3)"
      ],
      "metadata": {
        "colab": {
          "base_uri": "https://localhost:8080/"
        },
        "id": "Jd7siInePVOm",
        "outputId": "452baeb9-1ac5-40ee-8a25-3b89c21f22cd"
      },
      "execution_count": 33,
      "outputs": [
        {
          "output_type": "execute_result",
          "data": {
            "text/plain": [
              "243"
            ]
          },
          "metadata": {},
          "execution_count": 33
        }
      ]
    },
    {
      "cell_type": "code",
      "source": [
        "list2 = [10, 20, 30]\n",
        "len(list2)"
      ],
      "metadata": {
        "colab": {
          "base_uri": "https://localhost:8080/"
        },
        "id": "6bNdfEWTPdXQ",
        "outputId": "c1246496-f2f4-4e73-82ae-d2c5c641656f"
      },
      "execution_count": 34,
      "outputs": [
        {
          "output_type": "execute_result",
          "data": {
            "text/plain": [
              "3"
            ]
          },
          "metadata": {},
          "execution_count": 34
        }
      ]
    },
    {
      "cell_type": "code",
      "source": [
        "len"
      ],
      "metadata": {
        "colab": {
          "base_uri": "https://localhost:8080/"
        },
        "id": "LVTajV0vPi-4",
        "outputId": "752da31a-a13d-4cdd-d8f9-4cbb7dde5eb1"
      },
      "execution_count": 35,
      "outputs": [
        {
          "output_type": "execute_result",
          "data": {
            "text/plain": [
              "<function len(obj, /)>"
            ]
          },
          "metadata": {},
          "execution_count": 35
        }
      ]
    },
    {
      "cell_type": "code",
      "source": [
        "def func1(x):\n",
        "    y = x * 20 + 40 **2\n",
        "    return y"
      ],
      "metadata": {
        "id": "tNSmCotMPkB3"
      },
      "execution_count": 36,
      "outputs": []
    },
    {
      "cell_type": "code",
      "source": [
        "num1 = func1(2)\n",
        "num1"
      ],
      "metadata": {
        "colab": {
          "base_uri": "https://localhost:8080/"
        },
        "id": "6_gaHmIsP7SF",
        "outputId": "f5505c1c-c234-4b75-9e44-cb99d42e6753"
      },
      "execution_count": 38,
      "outputs": [
        {
          "output_type": "execute_result",
          "data": {
            "text/plain": [
              "1640"
            ]
          },
          "metadata": {},
          "execution_count": 38
        }
      ]
    },
    {
      "cell_type": "code",
      "source": [
        "def func2( ):\n",
        "    return \"Python\""
      ],
      "metadata": {
        "id": "Ntw1VeXYP701"
      },
      "execution_count": 39,
      "outputs": []
    },
    {
      "cell_type": "code",
      "source": [
        "num2 = func2()\n",
        "num2"
      ],
      "metadata": {
        "colab": {
          "base_uri": "https://localhost:8080/",
          "height": 35
        },
        "id": "WfXIeSQSQJ92",
        "outputId": "86e63a69-b392-4d93-de32-bf650ba87a8d"
      },
      "execution_count": 41,
      "outputs": [
        {
          "output_type": "execute_result",
          "data": {
            "text/plain": [
              "'Python'"
            ],
            "application/vnd.google.colaboratory.intrinsic+json": {
              "type": "string"
            }
          },
          "metadata": {},
          "execution_count": 41
        }
      ]
    },
    {
      "cell_type": "code",
      "source": [
        "print(100+200)"
      ],
      "metadata": {
        "colab": {
          "base_uri": "https://localhost:8080/"
        },
        "id": "LQ55Q7WuQKwX",
        "outputId": "ab8c4e39-a97b-4b71-cf58-0996dd109e18"
      },
      "execution_count": 42,
      "outputs": [
        {
          "output_type": "stream",
          "name": "stdout",
          "text": [
            "300\n"
          ]
        }
      ]
    },
    {
      "cell_type": "code",
      "source": [
        "def func3(x):\n",
        "    print(x)"
      ],
      "metadata": {
        "id": "lK8WYA7DQ6vu"
      },
      "execution_count": 44,
      "outputs": []
    },
    {
      "cell_type": "code",
      "source": [
        "func3(200)"
      ],
      "metadata": {
        "colab": {
          "base_uri": "https://localhost:8080/"
        },
        "id": "Qs0FYaywQ9k9",
        "outputId": "2e8a7b65-94a1-4b29-ee90-ccdb8e01cd3f"
      },
      "execution_count": 45,
      "outputs": [
        {
          "output_type": "stream",
          "name": "stdout",
          "text": [
            "200\n"
          ]
        }
      ]
    },
    {
      "cell_type": "code",
      "source": [
        "num4 = func3(300)"
      ],
      "metadata": {
        "colab": {
          "base_uri": "https://localhost:8080/"
        },
        "id": "PVPyfEmAQ_kn",
        "outputId": "3629c7d5-c4f7-48b8-f373-273cb8523c50"
      },
      "execution_count": 46,
      "outputs": [
        {
          "output_type": "stream",
          "name": "stdout",
          "text": [
            "300\n"
          ]
        }
      ]
    },
    {
      "cell_type": "code",
      "source": [
        "input(\"갑을 입력하시오 :\")"
      ],
      "metadata": {
        "colab": {
          "base_uri": "https://localhost:8080/",
          "height": 54
        },
        "id": "zTtlTTG8RcXf",
        "outputId": "7b0a7e0e-0f27-438a-dd9b-ed11951674cd"
      },
      "execution_count": 47,
      "outputs": [
        {
          "name": "stdout",
          "output_type": "stream",
          "text": [
            "갑을 입력하시오 :100\n"
          ]
        },
        {
          "output_type": "execute_result",
          "data": {
            "text/plain": [
              "'100'"
            ],
            "application/vnd.google.colaboratory.intrinsic+json": {
              "type": "string"
            }
          },
          "metadata": {},
          "execution_count": 47
        }
      ]
    },
    {
      "cell_type": "code",
      "source": [
        "def score_func1(x):\n",
        "    if x >= 90:\n",
        "        return \"A\"\n",
        "    elif x >= 80:\n",
        "        return \"B\"\n",
        "    else:\n",
        "        return \"C\""
      ],
      "metadata": {
        "id": "RUmNXLSIR7zd"
      },
      "execution_count": 48,
      "outputs": []
    },
    {
      "cell_type": "code",
      "source": [
        "score_func1(100)"
      ],
      "metadata": {
        "colab": {
          "base_uri": "https://localhost:8080/",
          "height": 35
        },
        "id": "iGWPtzUhSWqO",
        "outputId": "7d537943-0e8b-4409-a60b-1dc9f2fff83c"
      },
      "execution_count": 49,
      "outputs": [
        {
          "output_type": "execute_result",
          "data": {
            "text/plain": [
              "'A'"
            ],
            "application/vnd.google.colaboratory.intrinsic+json": {
              "type": "string"
            }
          },
          "metadata": {},
          "execution_count": 49
        }
      ]
    },
    {
      "cell_type": "code",
      "source": [
        "num1 = int(input(\"성적을 입력하시오. \"))"
      ],
      "metadata": {
        "colab": {
          "base_uri": "https://localhost:8080/"
        },
        "id": "_UCR1s33SXSP",
        "outputId": "9939af80-8a1a-40f5-fd97-a1dd5545df75"
      },
      "execution_count": 51,
      "outputs": [
        {
          "name": "stdout",
          "output_type": "stream",
          "text": [
            "성적을 입력하시오. 50\n"
          ]
        }
      ]
    },
    {
      "cell_type": "code",
      "source": [
        "num2 = int(input(\"성적을 입력하시오. \"))\n",
        "score_func1(num2)"
      ],
      "metadata": {
        "colab": {
          "base_uri": "https://localhost:8080/",
          "height": 54
        },
        "id": "iSPIBb5USict",
        "outputId": "f6871955-3b69-4c91-d8ab-9127ca635a63"
      },
      "execution_count": 52,
      "outputs": [
        {
          "name": "stdout",
          "output_type": "stream",
          "text": [
            "성적을 입력하시오. 86\n"
          ]
        },
        {
          "output_type": "execute_result",
          "data": {
            "text/plain": [
              "'B'"
            ],
            "application/vnd.google.colaboratory.intrinsic+json": {
              "type": "string"
            }
          },
          "metadata": {},
          "execution_count": 52
        }
      ]
    },
    {
      "cell_type": "code",
      "source": [
        "def func2():\n",
        "    x = input(\"값을 입력 하시오 \")\n",
        "    return x"
      ],
      "metadata": {
        "id": "CtxX9BaaS6K1"
      },
      "execution_count": 54,
      "outputs": []
    },
    {
      "cell_type": "code",
      "source": [
        "func2()"
      ],
      "metadata": {
        "colab": {
          "base_uri": "https://localhost:8080/",
          "height": 54
        },
        "id": "8920yRT0TpT8",
        "outputId": "db5f4a06-62d3-4108-87c9-15b1b2cad2f1"
      },
      "execution_count": 56,
      "outputs": [
        {
          "name": "stdout",
          "output_type": "stream",
          "text": [
            "값을 입력 하시오100\n"
          ]
        },
        {
          "output_type": "execute_result",
          "data": {
            "text/plain": [
              "'100'"
            ],
            "application/vnd.google.colaboratory.intrinsic+json": {
              "type": "string"
            }
          },
          "metadata": {},
          "execution_count": 56
        }
      ]
    },
    {
      "cell_type": "code",
      "source": [
        "def func3():\n",
        "    x = float(input('데이터를 입력하시오.'))\n",
        "    if x >= 90:\n",
        "        return \"A\"\n",
        "    elif x >= 80:\n",
        "        return \"B\"\n",
        "    elif x >= 70:\n",
        "        return \"C\"\n",
        "    else:\n",
        "        return \"D\""
      ],
      "metadata": {
        "id": "RN-7NSvsTwzF"
      },
      "execution_count": 57,
      "outputs": []
    },
    {
      "cell_type": "code",
      "source": [
        "func3()"
      ],
      "metadata": {
        "colab": {
          "base_uri": "https://localhost:8080/",
          "height": 54
        },
        "id": "DkzcizVhUNsM",
        "outputId": "a7e1eaa5-29b6-4bb6-eff0-dcbe258e3136"
      },
      "execution_count": 58,
      "outputs": [
        {
          "name": "stdout",
          "output_type": "stream",
          "text": [
            "데이터를 입력하시오.100\n"
          ]
        },
        {
          "output_type": "execute_result",
          "data": {
            "text/plain": [
              "'A'"
            ],
            "application/vnd.google.colaboratory.intrinsic+json": {
              "type": "string"
            }
          },
          "metadata": {},
          "execution_count": 58
        }
      ]
    }
  ]
}