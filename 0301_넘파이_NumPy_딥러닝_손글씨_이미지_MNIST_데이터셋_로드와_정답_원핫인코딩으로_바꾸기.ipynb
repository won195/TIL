{
  "nbformat": 4,
  "nbformat_minor": 0,
  "metadata": {
    "colab": {
      "provenance": [],
      "mount_file_id": "1FeqRnjuu_vf61Q2g51W_fhr3QXrqHGRR",
      "authorship_tag": "ABX9TyPpVko14kmLAxScd3bDnnze",
      "include_colab_link": true
    },
    "kernelspec": {
      "name": "python3",
      "display_name": "Python 3"
    },
    "language_info": {
      "name": "python"
    }
  },
  "cells": [
    {
      "cell_type": "markdown",
      "metadata": {
        "id": "view-in-github",
        "colab_type": "text"
      },
      "source": [
        "<a href=\"https://colab.research.google.com/github/won195/TIL/blob/master/0301_%E1%84%82%E1%85%A5%E1%86%B7%E1%84%91%E1%85%A1%E1%84%8B%E1%85%B5_NumPy_%EB%94%A5%EB%9F%AC%EB%8B%9D_%E1%84%89%E1%85%A9%E1%86%AB%E1%84%80%E1%85%B3%E1%86%AF%E1%84%8A%E1%85%B5_%E1%84%8B%E1%85%B5%E1%84%86%E1%85%B5%E1%84%8C%E1%85%B5_MNIST_%E1%84%83%E1%85%A6%E1%84%8B%E1%85%B5%E1%84%90%E1%85%A5%E1%84%89%E1%85%A6%E1%86%BA_%E1%84%85%E1%85%A9%E1%84%83%E1%85%B3%E1%84%8B%E1%85%AA_%E1%84%8C%E1%85%A5%E1%86%BC%E1%84%83%E1%85%A1%E1%86%B8_%E1%84%8B%E1%85%AF%E1%86%AB%E1%84%92%E1%85%A1%E1%86%BA%E1%84%8B%E1%85%B5%E1%86%AB%E1%84%8F%E1%85%A9%E1%84%83%E1%85%B5%E1%86%BC%EC%9C%BC%EB%A1%9C_%EB%B0%94%EA%BE%B8%EA%B8%B0.ipynb\" target=\"_parent\"><img src=\"https://colab.research.google.com/assets/colab-badge.svg\" alt=\"Open In Colab\"/></a>"
      ]
    },
    {
      "cell_type": "code",
      "execution_count": 31,
      "metadata": {
        "id": "Sh0GS3sKNMTI"
      },
      "outputs": [],
      "source": [
        "data_sources = {\n",
        "    \"training_images\": \"train-images-idx3-ubyte.gz\",  # 60,000 training images.\n",
        "    \"test_images\": \"t10k-images-idx3-ubyte.gz\",  # 10,000 test images.\n",
        "    \"training_labels\": \"train-labels-idx1-ubyte.gz\",  # 60,000 training labels.\n",
        "    \"test_labels\": \"t10k-labels-idx1-ubyte.gz\",  # 10,000 test labels.\n",
        "}"
      ]
    },
    {
      "cell_type": "code",
      "source": [
        "headers = {\n",
        "    \"User-Agent\" : \"Mozilla/5.0 (X11; Linux x86_64; rv:10.0) Gecko/20100101 Firefox/10.0\"\n",
        "}\n",
        "request_opts = {\n",
        "    \"headers\": headers,\n",
        "    \"params\": {\"raw\": \"true\"},\n",
        "}"
      ],
      "metadata": {
        "id": "BufOiY37exIS"
      },
      "execution_count": 34,
      "outputs": []
    },
    {
      "cell_type": "code",
      "source": [
        "import requests\n",
        "import os\n",
        "\n",
        "data_dir = \"/content/drive/MyDrive/오늘코드todaycode/data\"\n",
        "os.makedirs(data_dir, exist_ok=True)\n",
        "\n",
        "base_url = \"https://github.com/rossbar/numpy-tutorial-data-mirror/blob/main/\"\n",
        "\n",
        "for fname in data_sources.values():\n",
        "    fpath = os.path.join(data_dir, fname)\n",
        "    if not os.path.exists(fpath):\n",
        "        print(\"Downloading file: \" + fname)\n",
        "        resp = requests.get(base_url + fname, stream=True, **request_opts)\n",
        "        resp.raise_for_status()  # Ensure download was succesful\n",
        "        with open(fpath, \"wb\") as fh:\n",
        "            for chunk in resp.iter_content(chunk_size=128):\n",
        "                fh.write(chunk)"
      ],
      "metadata": {
        "colab": {
          "base_uri": "https://localhost:8080/"
        },
        "id": "UKwpvn9RdlyT",
        "outputId": "cb58fe9c-73a8-42cf-f185-fa4c91d54ca8"
      },
      "execution_count": 35,
      "outputs": [
        {
          "output_type": "stream",
          "name": "stdout",
          "text": [
            "Downloading file: train-images-idx3-ubyte.gz\n",
            "Downloading file: t10k-images-idx3-ubyte.gz\n",
            "Downloading file: train-labels-idx1-ubyte.gz\n",
            "Downloading file: t10k-labels-idx1-ubyte.gz\n"
          ]
        }
      ]
    },
    {
      "cell_type": "code",
      "source": [
        "import gzip\n",
        "import numpy as np\n",
        "\n",
        "mnist_dataset = {}\n",
        "\n",
        "# Images\n",
        "for key in (\"training_images\", \"test_images\"):\n",
        "    with gzip.open(os.path.join(data_dir, data_sources[key]), \"rb\") as mnist_file:\n",
        "        mnist_dataset[key] = np.frombuffer(\n",
        "            mnist_file.read(), np.uint8, offset=16\n",
        "        ).reshape(-1, 28 * 28)\n",
        "# Labels\n",
        "for key in (\"training_labels\", \"test_labels\"):\n",
        "    with gzip.open(os.path.join(data_dir, data_sources[key]), \"rb\") as mnist_file:\n",
        "        mnist_dataset[key] = np.frombuffer(mnist_file.read(), np.uint8, offset=8)"
      ],
      "metadata": {
        "id": "06hwC10xdmxJ"
      },
      "execution_count": 38,
      "outputs": []
    },
    {
      "cell_type": "code",
      "source": [
        "x_train, y_train, x_test, y_test = (\n",
        "    mnist_dataset[\"training_images\"],\n",
        "    mnist_dataset[\"training_labels\"],\n",
        "    mnist_dataset[\"test_images\"],\n",
        "    mnist_dataset[\"test_labels\"],\n",
        ")"
      ],
      "metadata": {
        "id": "2IjqumYedzcS"
      },
      "execution_count": 40,
      "outputs": []
    },
    {
      "cell_type": "code",
      "source": [
        "print(\n",
        "    \"The shape of training images: {} and training labels: {}\".format(\n",
        "        x_train.shape, y_train.shape\n",
        "    )\n",
        ")\n",
        "print(\n",
        "    \"The shape of test images: {} and test labels: {}\".format(\n",
        "        x_test.shape, y_test.shape\n",
        "    )\n",
        ")"
      ],
      "metadata": {
        "colab": {
          "base_uri": "https://localhost:8080/"
        },
        "id": "2zX7zVKvf3bS",
        "outputId": "e4bb8cc0-b2b9-4fad-9283-937a51ddad29"
      },
      "execution_count": 41,
      "outputs": [
        {
          "output_type": "stream",
          "name": "stdout",
          "text": [
            "The shape of training images: (60000, 784) and training labels: (60000,)\n",
            "The shape of test images: (10000, 784) and test labels: (10000,)\n"
          ]
        }
      ]
    },
    {
      "cell_type": "code",
      "source": [
        "import matplotlib.pyplot as plt\n",
        "\n",
        "# Take the 60,000th image (indexed at 59,999) from the training set,\n",
        "# reshape from (784, ) to (28, 28) to have a valid shape for displaying purposes.\n",
        "mnist_image = x_train[59999, :].reshape(28, 28)\n",
        "# Set the color mapping to grayscale to have a black background.\n",
        "plt.imshow(mnist_image, cmap=\"gray\")\n",
        "# Display the image.\n",
        "plt.show()"
      ],
      "metadata": {
        "colab": {
          "base_uri": "https://localhost:8080/",
          "height": 430
        },
        "id": "3ZuMnS0qhFvx",
        "outputId": "d422ff42-c581-4884-e011-cdd751c9532c"
      },
      "execution_count": 42,
      "outputs": [
        {
          "output_type": "display_data",
          "data": {
            "text/plain": [
              "<Figure size 640x480 with 1 Axes>"
            ],
            "image/png": "[encoded data removed]"
          },
          "metadata": {}
        }
      ]
    },
    {
      "cell_type": "code",
      "source": [
        "np.sqrt(x_train[0].shape[0]) ** 2"
      ],
      "metadata": {
        "colab": {
          "base_uri": "https://localhost:8080/"
        },
        "id": "mFxJRenThUhC",
        "outputId": "0dc02d13-ba4f-4c71-abfa-2e4fe78792cc"
      },
      "execution_count": 49,
      "outputs": [
        {
          "output_type": "execute_result",
          "data": {
            "text/plain": [
              "784.0"
            ]
          },
          "metadata": {},
          "execution_count": 49
        }
      ]
    },
    {
      "cell_type": "code",
      "source": [
        "plt.imshow(x_train[0].reshape(28, 28), cmap=\"gray\")"
      ],
      "metadata": {
        "colab": {
          "base_uri": "https://localhost:8080/",
          "height": 448
        },
        "id": "62WLtQEiizuZ",
        "outputId": "e79a2a7d-8fd4-4a25-bd57-2a8b938ff285"
      },
      "execution_count": 52,
      "outputs": [
        {
          "output_type": "execute_result",
          "data": {
            "text/plain": [
              "<matplotlib.image.AxesImage at 0x7bc16a770ee0>"
            ]
          },
          "metadata": {},
          "execution_count": 52
        },
        {
          "output_type": "display_data",
          "data": {
            "text/plain": [
              "<Figure size 640x480 with 1 Axes>"
            ],
            "image/png": "[encoded data removed]"
          },
          "metadata": {}
        }
      ]
    },
    {
      "cell_type": "code",
      "source": [
        "y_train"
      ],
      "metadata": {
        "colab": {
          "base_uri": "https://localhost:8080/"
        },
        "id": "muhi_m7QkItA",
        "outputId": "c3b05e4c-0a63-4b63-8fe2-714d9ec85317"
      },
      "execution_count": 53,
      "outputs": [
        {
          "output_type": "execute_result",
          "data": {
            "text/plain": [
              "array([5, 0, 4, ..., 5, 6, 8], dtype=uint8)"
            ]
          },
          "metadata": {},
          "execution_count": 53
        }
      ]
    },
    {
      "cell_type": "code",
      "source": [
        "num_examples = 5\n",
        "seed = 147197952744\n",
        "rng = np.random.default_rng(seed)\n",
        "\n",
        "fig, axes = plt.subplots(1, num_examples)\n",
        "for sample, ax in zip(rng.choice(x_train, size=num_examples, replace=False), axes):\n",
        "  ax.imshow(sample.reshape(28, 28), cmap=\"gray\")"
      ],
      "metadata": {
        "colab": {
          "base_uri": "https://localhost:8080/",
          "height": 150
        },
        "id": "jtnFI4PtkuNR",
        "outputId": "800d0fc1-f05e-41e0-9fa3-143013631b4c"
      },
      "execution_count": 54,
      "outputs": [
        {
          "output_type": "display_data",
          "data": {
            "text/plain": [
              "<Figure size 640x480 with 5 Axes>"
            ],
            "image/png": "[encoded data removed]"
          },
          "metadata": {}
        }
      ]
    },
    {
      "cell_type": "code",
      "source": [
        "y_train[59999]"
      ],
      "metadata": {
        "colab": {
          "base_uri": "https://localhost:8080/"
        },
        "id": "5ZgbON-umGih",
        "outputId": "b569e200-3fb4-40f5-b680-d6532d9e0685"
      },
      "execution_count": 57,
      "outputs": [
        {
          "output_type": "execute_result",
          "data": {
            "text/plain": [
              "8"
            ]
          },
          "metadata": {},
          "execution_count": 57
        }
      ]
    },
    {
      "cell_type": "code",
      "source": [
        "print(\"The data type of traning images: {}\".format(x_train.dtype))\n",
        "print(\"The data type of test images: {}\".format(x_train.dtype))"
      ],
      "metadata": {
        "colab": {
          "base_uri": "https://localhost:8080/"
        },
        "id": "wsHf7JeuodEn",
        "outputId": "b0146376-7f41-444c-ff49-0b65222fa6af"
      },
      "execution_count": 58,
      "outputs": [
        {
          "output_type": "stream",
          "name": "stdout",
          "text": [
            "The data type of traning images: uint8\n",
            "The data type of test images: uint8\n"
          ]
        }
      ]
    },
    {
      "cell_type": "code",
      "source": [
        "training_sample, test_sample = 1000, 1000\n",
        "training_images = x_train[0:training_sample] / 255\n",
        "test_images = x_test[0:test_sample] / 255"
      ],
      "metadata": {
        "id": "OsexNL3wo2ZX"
      },
      "execution_count": 59,
      "outputs": []
    },
    {
      "cell_type": "code",
      "source": [
        "print(\"The data type of traning images: {}\".format(training_images.dtype))\n",
        "print(\"The data type of test images: {}\".format(test_images.dtype))"
      ],
      "metadata": {
        "colab": {
          "base_uri": "https://localhost:8080/"
        },
        "id": "cICfyfIopeIo",
        "outputId": "0bd71884-eac2-4ae0-cfc4-d1a19a67df4a"
      },
      "execution_count": 61,
      "outputs": [
        {
          "output_type": "stream",
          "name": "stdout",
          "text": [
            "The data type of traning images: float64\n",
            "The data type of test images: float64\n"
          ]
        }
      ]
    },
    {
      "cell_type": "code",
      "source": [
        "def one_hot_encoding(labels, dimension=10):\n",
        "    # Define a one-hot variable for an all-zero vector\n",
        "    # with 10 dimensions (number labels from 0 to 9).\n",
        "    one_hot_labels = labels[..., None] == np.arange(dimension)[None]\n",
        "    # Return one-hot encoded labels.\n",
        "    return one_hot_labels.astype(np.float64)"
      ],
      "metadata": {
        "id": "kUPcftkupfOA"
      },
      "execution_count": 64,
      "outputs": []
    },
    {
      "cell_type": "code",
      "source": [
        "training_labels = one_hot_encoding(y_train[:training_sample])\n",
        "test_labels = one_hot_encoding(y_test[:test_sample])"
      ],
      "metadata": {
        "id": "8mc6cQttrxrG"
      },
      "execution_count": 65,
      "outputs": []
    },
    {
      "cell_type": "code",
      "source": [
        "training_labels.shape"
      ],
      "metadata": {
        "colab": {
          "base_uri": "https://localhost:8080/"
        },
        "id": "aiDmIKIAuRn-",
        "outputId": "53357008-9504-46fd-85c6-01dd645ad86d"
      },
      "execution_count": 66,
      "outputs": [
        {
          "output_type": "execute_result",
          "data": {
            "text/plain": [
              "(1000, 10)"
            ]
          },
          "metadata": {},
          "execution_count": 66
        }
      ]
    },
    {
      "cell_type": "code",
      "source": [
        "training_labels[0]"
      ],
      "metadata": {
        "colab": {
          "base_uri": "https://localhost:8080/"
        },
        "id": "O9ICBhS7ueNe",
        "outputId": "79af11c1-c4b8-4a26-d062-5e5fe20ae8c8"
      },
      "execution_count": 67,
      "outputs": [
        {
          "output_type": "execute_result",
          "data": {
            "text/plain": [
              "array([0., 0., 0., 0., 0., 1., 0., 0., 0., 0.])"
            ]
          },
          "metadata": {},
          "execution_count": 67
        }
      ]
    },
    {
      "cell_type": "code",
      "source": [
        "print(\"The data type of traning images: {}\".format(training_images.dtype))\n",
        "print(\"The data type of test images: {}\".format(test_images.dtype))"
      ],
      "metadata": {
        "colab": {
          "base_uri": "https://localhost:8080/"
        },
        "id": "vVNL9OMIvf5m",
        "outputId": "7f6a50f9-50f0-4954-e7b8-2fd64c417db5"
      },
      "execution_count": 68,
      "outputs": [
        {
          "output_type": "stream",
          "name": "stdout",
          "text": [
            "The data type of traning images: float64\n",
            "The data type of test images: float64\n"
          ]
        }
      ]
    },
    {
      "cell_type": "code",
      "source": [
        "print(training_labels[0])\n",
        "print(training_labels[1])\n",
        "print(training_labels[2])"
      ],
      "metadata": {
        "colab": {
          "base_uri": "https://localhost:8080/"
        },
        "id": "Nq4kgKGavJ9G",
        "outputId": "fe130985-b0de-4dec-e587-0e552f2a9c21"
      },
      "execution_count": 69,
      "outputs": [
        {
          "output_type": "stream",
          "name": "stdout",
          "text": [
            "[0. 0. 0. 0. 0. 1. 0. 0. 0. 0.]\n",
            "[1. 0. 0. 0. 0. 0. 0. 0. 0. 0.]\n",
            "[0. 0. 0. 0. 1. 0. 0. 0. 0. 0.]\n"
          ]
        }
      ]
    },
    {
      "cell_type": "code",
      "source": [
        "print(y_train[0])\n",
        "print(y_train[1])\n",
        "print(y_train[2])"
      ],
      "metadata": {
        "colab": {
          "base_uri": "https://localhost:8080/"
        },
        "id": "BhzRduWRBPNt",
        "outputId": "30d4bda7-4c92-461c-a514-32707b1139c8"
      },
      "execution_count": 70,
      "outputs": [
        {
          "output_type": "stream",
          "name": "stdout",
          "text": [
            "5\n",
            "0\n",
            "4\n"
          ]
        }
      ]
    },
    {
      "cell_type": "code",
      "source": [
        "seed = 884736743\n",
        "rng = np.random.default_rng(seed)\n",
        "rng"
      ],
      "metadata": {
        "colab": {
          "base_uri": "https://localhost:8080/"
        },
        "id": "i0xmNFXpBmVL",
        "outputId": "b6fdd808-8f4c-41fb-9a93-077281fb8ad4"
      },
      "execution_count": 71,
      "outputs": [
        {
          "output_type": "execute_result",
          "data": {
            "text/plain": [
              "Generator(PCG64) at 0x7BC16A551B60"
            ]
          },
          "metadata": {},
          "execution_count": 71
        }
      ]
    },
    {
      "cell_type": "code",
      "source": [
        "def relu(x):\n",
        "  return (x >= 0) * x\n",
        "\n",
        "def relu2deriv(output):\n",
        "  return output >= 0"
      ],
      "metadata": {
        "id": "Ay0wcik0DWqg"
      },
      "execution_count": 72,
      "outputs": []
    },
    {
      "cell_type": "code",
      "source": [
        "a = np.arange(-10, 10)\n",
        "plt.plot(relu(a))"
      ],
      "metadata": {
        "colab": {
          "base_uri": "https://localhost:8080/",
          "height": 448
        },
        "id": "6nW-QSgyDXTW",
        "outputId": "7dd457e0-93fd-476d-bdaa-aaf223dcdcb4"
      },
      "execution_count": 75,
      "outputs": [
        {
          "output_type": "execute_result",
          "data": {
            "text/plain": [
              "[<matplotlib.lines.Line2D at 0x7bc16a3c9f30>]"
            ]
          },
          "metadata": {},
          "execution_count": 75
        },
        {
          "output_type": "display_data",
          "data": {
            "text/plain": [
              "<Figure size 640x480 with 1 Axes>"
            ],
            "image/png": "[encoded data removed]"
          },
          "metadata": {}
        }
      ]
    },
    {
      "cell_type": "code",
      "source": [
        "relu2deriv(a)"
      ],
      "metadata": {
        "colab": {
          "base_uri": "https://localhost:8080/"
        },
        "id": "V_TU5fcRDsbR",
        "outputId": "e5bf0ff2-315b-486c-9a0e-9b121701a309"
      },
      "execution_count": 76,
      "outputs": [
        {
          "output_type": "execute_result",
          "data": {
            "text/plain": [
              "array([False, False, False, False, False, False, False, False, False,\n",
              "       False,  True,  True,  True,  True,  True,  True,  True,  True,\n",
              "        True,  True])"
            ]
          },
          "metadata": {},
          "execution_count": 76
        }
      ]
    },
    {
      "cell_type": "code",
      "source": [
        "learning_rate = 0.005\n",
        "epochs = 20\n",
        "hidden_size = 100\n",
        "pixels_per_image = 784\n",
        "num_labels = 10"
      ],
      "metadata": {
        "id": "ab8A0MwSD6mQ"
      },
      "execution_count": 77,
      "outputs": []
    },
    {
      "cell_type": "code",
      "source": [
        "weights_1 = 0.2 * rng.random((pixels_per_image, hidden_size)) - 0.1\n",
        "weights_2 = 0.2 * rng.random((hidden_size, num_labels)) - 0.1"
      ],
      "metadata": {
        "id": "n92Oz8SbEMIf"
      },
      "execution_count": 78,
      "outputs": []
    },
    {
      "cell_type": "code",
      "source": [
        "0.2 * rng.random((pixels_per_image, hidden_size)) - 0.1"
      ],
      "metadata": {
        "colab": {
          "base_uri": "https://localhost:8080/"
        },
        "id": "1xV1PytDFF6o",
        "outputId": "a6271f2e-ce74-44cf-9caf-fc490056ab81"
      },
      "execution_count": 79,
      "outputs": [
        {
          "output_type": "execute_result",
          "data": {
            "text/plain": [
              "array([[-0.04386237,  0.04997968,  0.05969065, ..., -0.00050073,\n",
              "        -0.03747507, -0.06440618],\n",
              "       [ 0.06949055,  0.08666741, -0.08078108, ..., -0.03980021,\n",
              "         0.07505359, -0.04722107],\n",
              "       [-0.08200062,  0.05493642,  0.01508468, ...,  0.01497913,\n",
              "         0.04566346, -0.0867068 ],\n",
              "       ...,\n",
              "       [ 0.01541263,  0.09549331, -0.06724587, ...,  0.09798428,\n",
              "         0.02048351,  0.07426411],\n",
              "       [ 0.06712936, -0.03087495,  0.07966545, ...,  0.01976772,\n",
              "        -0.07707043, -0.05822976],\n",
              "       [ 0.02695282,  0.0696439 ,  0.06613323, ...,  0.02251058,\n",
              "        -0.08458284, -0.03008863]])"
            ]
          },
          "metadata": {},
          "execution_count": 79
        }
      ]
    },
    {
      "cell_type": "code",
      "source": [
        "range(len(training_images))"
      ],
      "metadata": {
        "colab": {
          "base_uri": "https://localhost:8080/"
        },
        "id": "rhCHLgZAGh32",
        "outputId": "c707c268-67ef-44dc-f4e1-fff8f9c9da27"
      },
      "execution_count": 81,
      "outputs": [
        {
          "output_type": "execute_result",
          "data": {
            "text/plain": [
              "range(0, 1000)"
            ]
          },
          "metadata": {},
          "execution_count": 81
        }
      ]
    },
    {
      "cell_type": "code",
      "source": [
        "i = 0\n",
        "layer_0 = training_images[i]\n",
        "plt.imshow(layer_0.reshape(28, 28))"
      ],
      "metadata": {
        "colab": {
          "base_uri": "https://localhost:8080/",
          "height": 448
        },
        "id": "BhkxD9xgHENw",
        "outputId": "44182a05-7204-44b8-f9d5-402f644e4f6b"
      },
      "execution_count": 83,
      "outputs": [
        {
          "output_type": "execute_result",
          "data": {
            "text/plain": [
              "<matplotlib.image.AxesImage at 0x7bc169fdfd60>"
            ]
          },
          "metadata": {},
          "execution_count": 83
        },
        {
          "output_type": "display_data",
          "data": {
            "text/plain": [
              "<Figure size 640x480 with 1 Axes>"
            ],
            "image/png": "[encoded data removed]"
          },
          "metadata": {}
        }
      ]
    },
    {
      "cell_type": "code",
      "source": [
        "layer_0.shape, weights_1.shape"
      ],
      "metadata": {
        "colab": {
          "base_uri": "https://localhost:8080/"
        },
        "id": "hN0jzhbwKXbo",
        "outputId": "4e2fa3c6-5610-436b-cb9a-62b416926c24"
      },
      "execution_count": 85,
      "outputs": [
        {
          "output_type": "execute_result",
          "data": {
            "text/plain": [
              "((784,), (784, 100))"
            ]
          },
          "metadata": {},
          "execution_count": 85
        }
      ]
    },
    {
      "cell_type": "code",
      "source": [
        "layer_1 = np.dot(layer_0, weights_1)\n",
        "layer_1.shape"
      ],
      "metadata": {
        "colab": {
          "base_uri": "https://localhost:8080/"
        },
        "id": "3DRdRMjmKaqu",
        "outputId": "26e858fb-19b5-48ee-ad76-9ddced913376"
      },
      "execution_count": 86,
      "outputs": [
        {
          "output_type": "execute_result",
          "data": {
            "text/plain": [
              "(100,)"
            ]
          },
          "metadata": {},
          "execution_count": 86
        }
      ]
    },
    {
      "cell_type": "code",
      "source": [
        "plt.plot(layer_1)"
      ],
      "metadata": {
        "colab": {
          "base_uri": "https://localhost:8080/",
          "height": 448
        },
        "id": "IQj9aS_XKwKd",
        "outputId": "cf59fc5c-a554-4b22-ceab-342ef19cff26"
      },
      "execution_count": 87,
      "outputs": [
        {
          "output_type": "execute_result",
          "data": {
            "text/plain": [
              "[<matplotlib.lines.Line2D at 0x7bc169fa7c70>]"
            ]
          },
          "metadata": {},
          "execution_count": 87
        },
        {
          "output_type": "display_data",
          "data": {
            "text/plain": [
              "<Figure size 640x480 with 1 Axes>"
            ],
            "image/png": "[encoded data removed]"
          },
          "metadata": {}
        }
      ]
    },
    {
      "cell_type": "code",
      "source": [
        "layer_1 = relu(layer_1)\n",
        "plt.plot(layer_1)"
      ],
      "metadata": {
        "colab": {
          "base_uri": "https://localhost:8080/",
          "height": 448
        },
        "id": "GX-H1MkTKuMe",
        "outputId": "ac194a2b-72e7-48de-cac4-38dca8e8833c"
      },
      "execution_count": 88,
      "outputs": [
        {
          "output_type": "execute_result",
          "data": {
            "text/plain": [
              "[<matplotlib.lines.Line2D at 0x7bc16a022a40>]"
            ]
          },
          "metadata": {},
          "execution_count": 88
        },
        {
          "output_type": "display_data",
          "data": {
            "text/plain": [
              "<Figure size 640x480 with 1 Axes>"
            ],
            "image/png": "[encoded data removed]"
          },
          "metadata": {}
        }
      ]
    },
    {
      "cell_type": "code",
      "source": [
        "dropout_mask = rng.integers(low=0, high=2, size=layer_1.shape)\n",
        "dropout_mask.mean(), dropout_mask.shape"
      ],
      "metadata": {
        "colab": {
          "base_uri": "https://localhost:8080/"
        },
        "id": "orZm-TESK45q",
        "outputId": "638db8d8-9038-4236-aeb6-49c6bdc5863f"
      },
      "execution_count": 92,
      "outputs": [
        {
          "output_type": "execute_result",
          "data": {
            "text/plain": [
              "(0.49, (100,))"
            ]
          },
          "metadata": {},
          "execution_count": 92
        }
      ]
    },
    {
      "cell_type": "code",
      "source": [
        "layer_1 *= dropout_mask * 2\n",
        "layer_1"
      ],
      "metadata": {
        "colab": {
          "base_uri": "https://localhost:8080/"
        },
        "id": "6My4X8qpK-iG",
        "outputId": "4489edb0-ec36-4a76-8de2-1d4f0e1eafdc"
      },
      "execution_count": 93,
      "outputs": [
        {
          "output_type": "execute_result",
          "data": {
            "text/plain": [
              "array([-0.00000000e+00,  0.00000000e+00, -0.00000000e+00, -0.00000000e+00,\n",
              "        6.57801455e-01,  1.83416310e+00,  0.00000000e+00, -0.00000000e+00,\n",
              "       -0.00000000e+00,  0.00000000e+00,  2.00327574e+00, -0.00000000e+00,\n",
              "        0.00000000e+00,  1.86888246e+00, -0.00000000e+00,  0.00000000e+00,\n",
              "        0.00000000e+00, -0.00000000e+00, -0.00000000e+00,  0.00000000e+00,\n",
              "        1.03852590e+00, -0.00000000e+00, -0.00000000e+00,  1.10458119e-01,\n",
              "       -0.00000000e+00,  4.79480197e-01,  1.63509891e+00,  0.00000000e+00,\n",
              "       -0.00000000e+00,  0.00000000e+00, -0.00000000e+00, -0.00000000e+00,\n",
              "        1.74819767e+00,  4.89925773e-01,  0.00000000e+00, -0.00000000e+00,\n",
              "        0.00000000e+00,  6.67594838e-01, -0.00000000e+00, -0.00000000e+00,\n",
              "       -0.00000000e+00,  9.68328368e-01,  0.00000000e+00,  0.00000000e+00,\n",
              "       -0.00000000e+00,  4.80266441e-01,  1.13381490e+00,  2.04588090e-03,\n",
              "       -0.00000000e+00,  3.00638779e-01,  0.00000000e+00, -0.00000000e+00,\n",
              "       -0.00000000e+00, -0.00000000e+00,  0.00000000e+00, -0.00000000e+00,\n",
              "        4.84035693e-01,  1.69187461e+00, -0.00000000e+00, -0.00000000e+00,\n",
              "        0.00000000e+00, -0.00000000e+00, -0.00000000e+00, -0.00000000e+00,\n",
              "        7.06438008e-01, -0.00000000e+00,  7.16694687e-01, -0.00000000e+00,\n",
              "        9.28638183e-01,  2.37513760e+00, -0.00000000e+00, -0.00000000e+00,\n",
              "       -0.00000000e+00, -0.00000000e+00, -0.00000000e+00,  3.04617072e-01,\n",
              "        0.00000000e+00, -0.00000000e+00, -0.00000000e+00,  1.05989737e+00,\n",
              "       -0.00000000e+00, -0.00000000e+00, -0.00000000e+00,  0.00000000e+00,\n",
              "       -0.00000000e+00, -0.00000000e+00, -0.00000000e+00,  0.00000000e+00,\n",
              "       -0.00000000e+00,  0.00000000e+00, -0.00000000e+00,  0.00000000e+00,\n",
              "        9.46039486e-01,  0.00000000e+00, -0.00000000e+00, -0.00000000e+00,\n",
              "        2.43977231e-02, -0.00000000e+00, -0.00000000e+00,  2.00213728e+00])"
            ]
          },
          "metadata": {},
          "execution_count": 93
        }
      ]
    },
    {
      "cell_type": "code",
      "source": [
        "layer_1.shape, weights_2.shape"
      ],
      "metadata": {
        "colab": {
          "base_uri": "https://localhost:8080/"
        },
        "id": "Sx1RDV9_PiMQ",
        "outputId": "c1b85727-80c9-4f98-8f72-0e64af38770d"
      },
      "execution_count": 94,
      "outputs": [
        {
          "output_type": "execute_result",
          "data": {
            "text/plain": [
              "((100,), (100, 10))"
            ]
          },
          "metadata": {},
          "execution_count": 94
        }
      ]
    },
    {
      "cell_type": "code",
      "source": [
        "layer_2 = np.dot(layer_1, weights_2)\n",
        "layer_2.shape"
      ],
      "metadata": {
        "colab": {
          "base_uri": "https://localhost:8080/"
        },
        "id": "YOgxpKVqK-f_",
        "outputId": "b3ae3c1e-974d-441f-8a8e-f204f8738e00"
      },
      "execution_count": 95,
      "outputs": [
        {
          "output_type": "execute_result",
          "data": {
            "text/plain": [
              "(10,)"
            ]
          },
          "metadata": {},
          "execution_count": 95
        }
      ]
    },
    {
      "cell_type": "code",
      "source": [
        "layer_2"
      ],
      "metadata": {
        "colab": {
          "base_uri": "https://localhost:8080/"
        },
        "id": "mQLy5kx3K-ah",
        "outputId": "c12c939c-f5e7-410f-d584-4710dc809ec2"
      },
      "execution_count": 97,
      "outputs": [
        {
          "output_type": "execute_result",
          "data": {
            "text/plain": [
              "array([ 0.73168022, -0.52747708, -0.07768195,  0.18274997,  0.32435873,\n",
              "       -0.06825148,  0.42998577,  0.16880559, -0.22862777,  0.12499852])"
            ]
          },
          "metadata": {},
          "execution_count": 97
        }
      ]
    },
    {
      "cell_type": "code",
      "source": [
        "plt.plot(layer_2)"
      ],
      "metadata": {
        "colab": {
          "base_uri": "https://localhost:8080/",
          "height": 448
        },
        "id": "zUZkJxv8K-cZ",
        "outputId": "35e02f91-0e58-4dde-ebe8-5888179c3e03"
      },
      "execution_count": 96,
      "outputs": [
        {
          "output_type": "execute_result",
          "data": {
            "text/plain": [
              "[<matplotlib.lines.Line2D at 0x7bc169dfcfa0>]"
            ]
          },
          "metadata": {},
          "execution_count": 96
        },
        {
          "output_type": "display_data",
          "data": {
            "text/plain": [
              "<Figure size 640x480 with 1 Axes>"
            ],
            "image/png": "[encoded data removed]"
          },
          "metadata": {}
        }
      ]
    },
    {
      "cell_type": "code",
      "source": [
        "training_labels[i]"
      ],
      "metadata": {
        "colab": {
          "base_uri": "https://localhost:8080/"
        },
        "id": "tn0j3iqUQTa7",
        "outputId": "b369cf1c-ab2a-4b6b-8495-f52e87c5ca9d"
      },
      "execution_count": 99,
      "outputs": [
        {
          "output_type": "execute_result",
          "data": {
            "text/plain": [
              "array([0., 0., 0., 0., 0., 1., 0., 0., 0., 0.])"
            ]
          },
          "metadata": {},
          "execution_count": 99
        }
      ]
    },
    {
      "cell_type": "code",
      "source": [
        "(training_labels[i] - layer_2) ** 2"
      ],
      "metadata": {
        "colab": {
          "base_uri": "https://localhost:8080/"
        },
        "id": "olkAr0hOP5Dx",
        "outputId": "87322209-a361-4565-f0a3-dd4d251d7921"
      },
      "execution_count": 104,
      "outputs": [
        {
          "output_type": "execute_result",
          "data": {
            "text/plain": [
              "array([0.53535595, 0.27823207, 0.00603449, 0.03339755, 0.10520859,\n",
              "       1.14116122, 0.18488776, 0.02849533, 0.05227066, 0.01562463])"
            ]
          },
          "metadata": {},
          "execution_count": 104
        }
      ]
    },
    {
      "cell_type": "code",
      "source": [
        "# 오\n",
        "training_loss = 0.0\n",
        "training_loss += np.sum((training_labels[i] - layer_2) ** 2)\n",
        "training_loss"
      ],
      "metadata": {
        "colab": {
          "base_uri": "https://localhost:8080/"
        },
        "id": "cAagsYKcK-X-",
        "outputId": "e462bc42-022f-466e-bf43-057edace8a01"
      },
      "execution_count": 105,
      "outputs": [
        {
          "output_type": "execute_result",
          "data": {
            "text/plain": [
              "2.3806682468926477"
            ]
          },
          "metadata": {},
          "execution_count": 105
        }
      ]
    },
    {
      "cell_type": "code",
      "source": [
        "# 예측값\n",
        "np.argmax(layer_2)"
      ],
      "metadata": {
        "colab": {
          "base_uri": "https://localhost:8080/"
        },
        "id": "l-raj80uPv1v",
        "outputId": "1e65ee2a-1b8e-427b-bbde-ec63bde3913c"
      },
      "execution_count": 106,
      "outputs": [
        {
          "output_type": "execute_result",
          "data": {
            "text/plain": [
              "0"
            ]
          },
          "metadata": {},
          "execution_count": 106
        }
      ]
    },
    {
      "cell_type": "code",
      "source": [
        "# 실제값\n",
        "np.argmax(training_labels[i])"
      ],
      "metadata": {
        "colab": {
          "base_uri": "https://localhost:8080/"
        },
        "id": "Y4DyFSaCRU3k",
        "outputId": "c5c489cd-4a8e-4346-d632-9bf1a9bca518"
      },
      "execution_count": 107,
      "outputs": [
        {
          "output_type": "execute_result",
          "data": {
            "text/plain": [
              "5"
            ]
          },
          "metadata": {},
          "execution_count": 107
        }
      ]
    },
    {
      "cell_type": "code",
      "source": [
        "np.argmax(layer_2) == np.argmax(training_labels[i])"
      ],
      "metadata": {
        "colab": {
          "base_uri": "https://localhost:8080/"
        },
        "id": "XQ5LGfMeRQGf",
        "outputId": "6a0de740-91c5-4515-b6b4-e6d7047b5d0b"
      },
      "execution_count": 108,
      "outputs": [
        {
          "output_type": "execute_result",
          "data": {
            "text/plain": [
              "False"
            ]
          },
          "metadata": {},
          "execution_count": 108
        }
      ]
    },
    {
      "cell_type": "code",
      "source": [
        "test_images.shape"
      ],
      "metadata": {
        "colab": {
          "base_uri": "https://localhost:8080/"
        },
        "id": "kWLfOPFCTLFd",
        "outputId": "9699a289-0543-44de-9616-3e9c41db4c92"
      },
      "execution_count": 109,
      "outputs": [
        {
          "output_type": "execute_result",
          "data": {
            "text/plain": [
              "(1000, 784)"
            ]
          },
          "metadata": {},
          "execution_count": 109
        }
      ]
    },
    {
      "cell_type": "code",
      "source": [
        "weights_1.shape"
      ],
      "metadata": {
        "colab": {
          "base_uri": "https://localhost:8080/"
        },
        "id": "STrbr7WyTPuq",
        "outputId": "c6325aad-1b83-468d-f63b-407ca984633b"
      },
      "execution_count": 110,
      "outputs": [
        {
          "output_type": "execute_result",
          "data": {
            "text/plain": [
              "(784, 100)"
            ]
          },
          "metadata": {},
          "execution_count": 110
        }
      ]
    },
    {
      "cell_type": "code",
      "source": [
        "weights_2.shape"
      ],
      "metadata": {
        "colab": {
          "base_uri": "https://localhost:8080/"
        },
        "id": "ePRmmgJTTPsJ",
        "outputId": "d5d2e275-0683-49ef-9781-e5d75e75cbab"
      },
      "execution_count": 111,
      "outputs": [
        {
          "output_type": "execute_result",
          "data": {
            "text/plain": [
              "(100, 10)"
            ]
          },
          "metadata": {},
          "execution_count": 111
        }
      ]
    },
    {
      "cell_type": "code",
      "source": [
        "results = relu(test_images @ weights_1) @ weights_2"
      ],
      "metadata": {
        "id": "DZELcIx8TLC2"
      },
      "execution_count": 112,
      "outputs": []
    },
    {
      "cell_type": "code",
      "source": [
        "np.argmax(test_labels[0])"
      ],
      "metadata": {
        "colab": {
          "base_uri": "https://localhost:8080/"
        },
        "id": "8Kp5xDa9T6GD",
        "outputId": "9ab9773a-ff86-4621-b652-4e10be60bf6e"
      },
      "execution_count": 118,
      "outputs": [
        {
          "output_type": "execute_result",
          "data": {
            "text/plain": [
              "7"
            ]
          },
          "metadata": {},
          "execution_count": 118
        }
      ]
    },
    {
      "cell_type": "code",
      "source": [
        "np.argmax(results[0])"
      ],
      "metadata": {
        "colab": {
          "base_uri": "https://localhost:8080/"
        },
        "id": "xec3HVhPTPpw",
        "outputId": "6b729af5-7f7d-413a-8108-d67e18c2e69b"
      },
      "execution_count": 117,
      "outputs": [
        {
          "output_type": "execute_result",
          "data": {
            "text/plain": [
              "7"
            ]
          },
          "metadata": {},
          "execution_count": 117
        }
      ]
    },
    {
      "cell_type": "code",
      "source": [
        "np.argmax(test_labels, axis=1)"
      ],
      "metadata": {
        "colab": {
          "base_uri": "https://localhost:8080/"
        },
        "id": "g9-YKNLsUS-M",
        "outputId": "b4f30d7c-73a3-48a9-f7be-ac642ad5f039"
      },
      "execution_count": 120,
      "outputs": [
        {
          "output_type": "execute_result",
          "data": {
            "text/plain": [
              "array([7, 2, 1, 0, 4, 1, 4, 9, 5, 9, 0, 6, 9, 0, 1, 5, 9, 7, 3, 4, 9, 6,\n",
              "       6, 5, 4, 0, 7, 4, 0, 1, 3, 1, 3, 4, 7, 2, 7, 1, 2, 1, 1, 7, 4, 2,\n",
              "       3, 5, 1, 2, 4, 4, 6, 3, 5, 5, 6, 0, 4, 1, 9, 5, 7, 8, 9, 3, 7, 4,\n",
              "       6, 4, 3, 0, 7, 0, 2, 9, 1, 7, 3, 2, 9, 7, 7, 6, 2, 7, 8, 4, 7, 3,\n",
              "       6, 1, 3, 6, 9, 3, 1, 4, 1, 7, 6, 9, 6, 0, 5, 4, 9, 9, 2, 1, 9, 4,\n",
              "       8, 7, 3, 9, 7, 4, 4, 4, 9, 2, 5, 4, 7, 6, 7, 9, 0, 5, 8, 5, 6, 6,\n",
              "       5, 7, 8, 1, 0, 1, 6, 4, 6, 7, 3, 1, 7, 1, 8, 2, 0, 2, 9, 9, 5, 5,\n",
              "       1, 5, 6, 0, 3, 4, 4, 6, 5, 4, 6, 5, 4, 5, 1, 4, 4, 7, 2, 3, 2, 7,\n",
              "       1, 8, 1, 8, 1, 8, 5, 0, 8, 9, 2, 5, 0, 1, 1, 1, 0, 9, 0, 3, 1, 6,\n",
              "       4, 2, 3, 6, 1, 1, 1, 3, 9, 5, 2, 9, 4, 5, 9, 3, 9, 0, 3, 6, 5, 5,\n",
              "       7, 2, 2, 7, 1, 2, 8, 4, 1, 7, 3, 3, 8, 8, 7, 9, 2, 2, 4, 1, 5, 9,\n",
              "       8, 7, 2, 3, 0, 4, 4, 2, 4, 1, 9, 5, 7, 7, 2, 8, 2, 6, 8, 5, 7, 7,\n",
              "       9, 1, 8, 1, 8, 0, 3, 0, 1, 9, 9, 4, 1, 8, 2, 1, 2, 9, 7, 5, 9, 2,\n",
              "       6, 4, 1, 5, 8, 2, 9, 2, 0, 4, 0, 0, 2, 8, 4, 7, 1, 2, 4, 0, 2, 7,\n",
              "       4, 3, 3, 0, 0, 3, 1, 9, 6, 5, 2, 5, 9, 2, 9, 3, 0, 4, 2, 0, 7, 1,\n",
              "       1, 2, 1, 5, 3, 3, 9, 7, 8, 6, 5, 6, 1, 3, 8, 1, 0, 5, 1, 3, 1, 5,\n",
              "       5, 6, 1, 8, 5, 1, 7, 9, 4, 6, 2, 2, 5, 0, 6, 5, 6, 3, 7, 2, 0, 8,\n",
              "       8, 5, 4, 1, 1, 4, 0, 3, 3, 7, 6, 1, 6, 2, 1, 9, 2, 8, 6, 1, 9, 5,\n",
              "       2, 5, 4, 4, 2, 8, 3, 8, 2, 4, 5, 0, 3, 1, 7, 7, 5, 7, 9, 7, 1, 9,\n",
              "       2, 1, 4, 2, 9, 2, 0, 4, 9, 1, 4, 8, 1, 8, 4, 5, 9, 8, 8, 3, 7, 6,\n",
              "       0, 0, 3, 0, 2, 6, 6, 4, 9, 3, 3, 3, 2, 3, 9, 1, 2, 6, 8, 0, 5, 6,\n",
              "       6, 6, 3, 8, 8, 2, 7, 5, 8, 9, 6, 1, 8, 4, 1, 2, 5, 9, 1, 9, 7, 5,\n",
              "       4, 0, 8, 9, 9, 1, 0, 5, 2, 3, 7, 8, 9, 4, 0, 6, 3, 9, 5, 2, 1, 3,\n",
              "       1, 3, 6, 5, 7, 4, 2, 2, 6, 3, 2, 6, 5, 4, 8, 9, 7, 1, 3, 0, 3, 8,\n",
              "       3, 1, 9, 3, 4, 4, 6, 4, 2, 1, 8, 2, 5, 4, 8, 8, 4, 0, 0, 2, 3, 2,\n",
              "       7, 7, 0, 8, 7, 4, 4, 7, 9, 6, 9, 0, 9, 8, 0, 4, 6, 0, 6, 3, 5, 4,\n",
              "       8, 3, 3, 9, 3, 3, 3, 7, 8, 0, 8, 2, 1, 7, 0, 6, 5, 4, 3, 8, 0, 9,\n",
              "       6, 3, 8, 0, 9, 9, 6, 8, 6, 8, 5, 7, 8, 6, 0, 2, 4, 0, 2, 2, 3, 1,\n",
              "       9, 7, 5, 1, 0, 8, 4, 6, 2, 6, 7, 9, 3, 2, 9, 8, 2, 2, 9, 2, 7, 3,\n",
              "       5, 9, 1, 8, 0, 2, 0, 5, 2, 1, 3, 7, 6, 7, 1, 2, 5, 8, 0, 3, 7, 2,\n",
              "       4, 0, 9, 1, 8, 6, 7, 7, 4, 3, 4, 9, 1, 9, 5, 1, 7, 3, 9, 7, 6, 9,\n",
              "       1, 3, 7, 8, 3, 3, 6, 7, 2, 8, 5, 8, 5, 1, 1, 4, 4, 3, 1, 0, 7, 7,\n",
              "       0, 7, 9, 4, 4, 8, 5, 5, 4, 0, 8, 2, 1, 0, 8, 4, 5, 0, 4, 0, 6, 1,\n",
              "       7, 3, 2, 6, 7, 2, 6, 9, 3, 1, 4, 6, 2, 5, 4, 2, 0, 6, 2, 1, 7, 3,\n",
              "       4, 1, 0, 5, 4, 3, 1, 1, 7, 4, 9, 9, 4, 8, 4, 0, 2, 4, 5, 1, 1, 6,\n",
              "       4, 7, 1, 9, 4, 2, 4, 1, 5, 5, 3, 8, 3, 1, 4, 5, 6, 8, 9, 4, 1, 5,\n",
              "       3, 8, 0, 3, 2, 5, 1, 2, 8, 3, 4, 4, 0, 8, 8, 3, 3, 1, 7, 3, 5, 9,\n",
              "       6, 3, 2, 6, 1, 3, 6, 0, 7, 2, 1, 7, 1, 4, 2, 4, 2, 1, 7, 9, 6, 1,\n",
              "       1, 2, 4, 8, 1, 7, 7, 4, 8, 0, 7, 3, 1, 3, 1, 0, 7, 7, 0, 3, 5, 5,\n",
              "       2, 7, 6, 6, 9, 2, 8, 3, 5, 2, 2, 5, 6, 0, 8, 2, 9, 2, 8, 8, 8, 8,\n",
              "       7, 4, 9, 3, 0, 6, 6, 3, 2, 1, 3, 2, 2, 9, 3, 0, 0, 5, 7, 8, 1, 4,\n",
              "       4, 6, 0, 2, 9, 1, 4, 7, 4, 7, 3, 9, 8, 8, 4, 7, 1, 2, 1, 2, 2, 3,\n",
              "       2, 3, 2, 3, 9, 1, 7, 4, 0, 3, 5, 5, 8, 6, 3, 2, 6, 7, 6, 6, 3, 2,\n",
              "       7, 8, 1, 1, 7, 5, 6, 4, 9, 5, 1, 3, 3, 4, 7, 8, 9, 1, 1, 6, 9, 1,\n",
              "       4, 4, 5, 4, 0, 6, 2, 2, 3, 1, 5, 1, 2, 0, 3, 8, 1, 2, 6, 7, 1, 6,\n",
              "       2, 3, 9, 0, 1, 2, 2, 0, 8, 9])"
            ]
          },
          "metadata": {},
          "execution_count": 120
        }
      ]
    },
    {
      "cell_type": "code",
      "source": [
        "np.sum(np.argmax(test_labels, axis=1) == np.argmax(results, axis=1))"
      ],
      "metadata": {
        "colab": {
          "base_uri": "https://localhost:8080/"
        },
        "id": "zA3Gaj7BTPnH",
        "outputId": "d63ef159-bf48-4c46-c2bf-e8262d2b334e"
      },
      "execution_count": 122,
      "outputs": [
        {
          "output_type": "execute_result",
          "data": {
            "text/plain": [
              "92"
            ]
          },
          "metadata": {},
          "execution_count": 122
        }
      ]
    },
    {
      "cell_type": "code",
      "source": [
        "np.mean(np.argmax(test_labels, axis=1) == np.argmax(results, axis=1)) * 100"
      ],
      "metadata": {
        "colab": {
          "base_uri": "https://localhost:8080/"
        },
        "id": "itaztf5ETPO8",
        "outputId": "04c04461-3a3f-4e34-a5cf-fcdf4bf8f975"
      },
      "execution_count": 124,
      "outputs": [
        {
          "output_type": "execute_result",
          "data": {
            "text/plain": [
              "9.2"
            ]
          },
          "metadata": {},
          "execution_count": 124
        }
      ]
    },
    {
      "cell_type": "code",
      "source": [
        "# To store training and test set losses and accurate predictions\n",
        "# for visualization.\n",
        "store_training_loss = []\n",
        "store_training_accurate_pred = []\n",
        "store_test_loss = []\n",
        "store_test_accurate_pred = []\n",
        "\n",
        "# This is a training loop.\n",
        "# Run the learning experiment for a defined number of epochs (iterations).\n",
        "for j in range(epochs):\n",
        "\n",
        "    #################\n",
        "    # 훈련 단계 #\n",
        "    #################\n",
        "\n",
        "    # 초기 손실/오차와 정확한 예측 수를 0으로 설정합니다.\n",
        "    training_loss = 0.0\n",
        "    training_accurate_predictions = 0\n",
        "\n",
        "    # 훈련 이미지 전체에 대해 순전파를 수행하고\n",
        "    # 역전파를 수행하고 가중치를 조정합니다.\n",
        "    for i in range(len(training_images)):\n",
        "        # 순전파:\n",
        "        # 1. 입력 계층:\n",
        "        #    훈련 이미지 데이터를 입력으로 초기화합니다.\n",
        "        layer_0 = training_images[i]\n",
        "        # 2. 은닉 계층:\n",
        "        #    무작위로 초기화된 가중치에 의해 행렬 곱셈을 수행하여\n",
        "        #    중간 계층에 훈련 이미지 데이터를 가져옵니다.\n",
        "        layer_1 = np.dot(layer_0, weights_1)\n",
        "        # 3. 은닉 계층의 출력을 ReLU 활성화 함수를 통과시킵니다.\n",
        "        layer_1 = relu(layer_1)\n",
        "        # 4. 정규화를 위한 드롭아웃 함수를 정의합니다.\n",
        "        dropout_mask = rng.integers(low=0, high=2, size=layer_1.shape)\n",
        "        # 5. 은닉 계층의 출력에 드롭아웃을 적용합니다.\n",
        "        layer_1 *= dropout_mask * 2\n",
        "        # 6. 출력 계층:\n",
        "        #    중간 계층의 출력을 최종 계층에 가져와서\n",
        "        #    무작위로 초기화된 가중치에 의해 행렬 곱셈을 수행합니다.\n",
        "        #    10개의 점수가 있는 10차원 벡터를 생성합니다.\n",
        "        layer_2 = np.dot(layer_1, weights_2)\n",
        "\n",
        "        # 역전파:\n",
        "        # 1. 실제 이미지 레이블(진실)과 모델의 예측 사이의\n",
        "        #    훈련 오류(손실 함수)를 측정합니다.\n",
        "        training_loss += np.sum((training_labels[i] - layer_2) ** 2)\n",
        "        # 2. 정확한 예측 수를 증가시킵니다.\n",
        "        training_accurate_predictions += int(\n",
        "            np.argmax(layer_2) == np.argmax(training_labels[i])\n",
        "        )\n",
        "        # 3. 손실 함수/오차의 기울기를 구합니다.\n",
        "        layer_2_delta = training_labels[i] - layer_2\n",
        "        # 4. 손실 함수의 기울기를 은닉 계층을 통해 역전파합니다.\n",
        "        layer_1_delta = np.dot(weights_2, layer_2_delta) * relu2deriv(layer_1)\n",
        "        # 5. 기울기에 드롭아웃을 적용합니다.\n",
        "        layer_1_delta *= dropout_mask\n",
        "        # 6. 중간 및 입력 계층의 가중치를 업데이트합니다\n",
        "        #    학습률과 기울기를 곱하여 업데이트합니다.\n",
        "        weights_1 += learning_rate * np.outer(layer_0, layer_1_delta)\n",
        "        weights_2 += learning_rate * np.outer(layer_1, layer_2_delta)\n",
        "\n",
        "    # 훈련 세트의 손실과 정확한 예측을 저장합니다.\n",
        "    store_training_loss.append(training_loss)\n",
        "    store_training_accurate_pred.append(training_accurate_predictions)\n",
        "\n",
        "    ###################\n",
        "    # 평가 단계 #\n",
        "    ###################\n",
        "\n",
        "    # 각 에포크에서 테스트 세트에 대한 모델 성능을 평가합니다.\n",
        "\n",
        "    # 훈련 단계와 달리, 각 이미지(또는 배치)에 대해 가중치가 수정되지 않습니다.\n",
        "    # 따라서 모델을 테스트 이미지에 벡터화 방식으로 적용할 수 있으므로,\n",
        "    # 각 이미지에 대해 개별적으로 루프를 돌릴 필요가 없습니다:\n",
        "\n",
        "    results = relu(test_images @ weights_1) @ weights_2\n",
        "\n",
        "    # 실제 레이블(진실)과 예측 값 사이의 오차를 측정합니다.\n",
        "    test_loss = np.sum((test_labels - results) ** 2)\n",
        "\n",
        "    # 테스트 세트에서의 예측 정확도를 측정합니다\n",
        "    test_accurate_predictions = np.sum(\n",
        "        np.argmax(results, axis=1) == np.argmax(test_labels, axis=1)\n",
        "    )\n",
        "\n",
        "    # 테스트 세트의 손실과 정확한 예측을 저장합니다.\n",
        "    store_test_loss.append(test_loss)\n",
        "    store_test_accurate_pred.append(test_accurate_predictions)\n",
        "\n",
        "\n",
        "    # Summarize error and accuracy metrics at each epoch\n",
        "    print(\n",
        "        (\n",
        "            f\"Epoch: {j}\\n\"\n",
        "            f\"  Training set error: {training_loss / len(training_images):.3f}\\n\"\n",
        "            f\"  Training set accuracy: {training_accurate_predictions / len(training_images)}\\n\"\n",
        "            f\"  Test set error: {test_loss / len(test_images):.3f}\\n\"\n",
        "            f\"  Test set accuracy: {test_accurate_predictions / len(test_images)}\"\n",
        "        )\n",
        "    )"
      ],
      "metadata": {
        "colab": {
          "base_uri": "https://localhost:8080/"
        },
        "id": "7-kRJK6NFi3H",
        "outputId": "e88928f2-4e69-446b-cadf-2376a74c3fb3"
      },
      "execution_count": 125,
      "outputs": [
        {
          "output_type": "stream",
          "name": "stdout",
          "text": [
            "Epoch: 0\n",
            "  Training set error: 0.882\n",
            "  Training set accuracy: 0.419\n",
            "  Test set error: 0.669\n",
            "  Test set accuracy: 0.581\n",
            "Epoch: 1\n",
            "  Training set error: 0.664\n",
            "  Training set accuracy: 0.608\n",
            "  Test set error: 0.618\n",
            "  Test set accuracy: 0.613\n",
            "Epoch: 2\n",
            "  Training set error: 0.598\n",
            "  Training set accuracy: 0.664\n",
            "  Test set error: 0.576\n",
            "  Test set accuracy: 0.66\n",
            "Epoch: 3\n",
            "  Training set error: 0.560\n",
            "  Training set accuracy: 0.713\n",
            "  Test set error: 0.544\n",
            "  Test set accuracy: 0.683\n",
            "Epoch: 4\n",
            "  Training set error: 0.519\n",
            "  Training set accuracy: 0.741\n",
            "  Test set error: 0.518\n",
            "  Test set accuracy: 0.705\n",
            "Epoch: 5\n",
            "  Training set error: 0.515\n",
            "  Training set accuracy: 0.706\n",
            "  Test set error: 0.504\n",
            "  Test set accuracy: 0.736\n",
            "Epoch: 6\n",
            "  Training set error: 0.498\n",
            "  Training set accuracy: 0.751\n",
            "  Test set error: 0.497\n",
            "  Test set accuracy: 0.73\n",
            "Epoch: 7\n",
            "  Training set error: 0.469\n",
            "  Training set accuracy: 0.772\n",
            "  Test set error: 0.478\n",
            "  Test set accuracy: 0.749\n",
            "Epoch: 8\n",
            "  Training set error: 0.473\n",
            "  Training set accuracy: 0.769\n",
            "  Test set error: 0.474\n",
            "  Test set accuracy: 0.764\n",
            "Epoch: 9\n",
            "  Training set error: 0.467\n",
            "  Training set accuracy: 0.771\n",
            "  Test set error: 0.477\n",
            "  Test set accuracy: 0.757\n",
            "Epoch: 10\n",
            "  Training set error: 0.462\n",
            "  Training set accuracy: 0.767\n",
            "  Test set error: 0.462\n",
            "  Test set accuracy: 0.753\n",
            "Epoch: 11\n",
            "  Training set error: 0.459\n",
            "  Training set accuracy: 0.766\n",
            "  Test set error: 0.460\n",
            "  Test set accuracy: 0.767\n",
            "Epoch: 12\n",
            "  Training set error: 0.460\n",
            "  Training set accuracy: 0.8\n",
            "  Test set error: 0.454\n",
            "  Test set accuracy: 0.772\n",
            "Epoch: 13\n",
            "  Training set error: 0.456\n",
            "  Training set accuracy: 0.778\n",
            "  Test set error: 0.447\n",
            "  Test set accuracy: 0.782\n",
            "Epoch: 14\n",
            "  Training set error: 0.450\n",
            "  Training set accuracy: 0.802\n",
            "  Test set error: 0.449\n",
            "  Test set accuracy: 0.774\n",
            "Epoch: 15\n",
            "  Training set error: 0.456\n",
            "  Training set accuracy: 0.79\n",
            "  Test set error: 0.455\n",
            "  Test set accuracy: 0.764\n",
            "Epoch: 16\n",
            "  Training set error: 0.433\n",
            "  Training set accuracy: 0.803\n",
            "  Test set error: 0.457\n",
            "  Test set accuracy: 0.775\n",
            "Epoch: 17\n",
            "  Training set error: 0.449\n",
            "  Training set accuracy: 0.783\n",
            "  Test set error: 0.464\n",
            "  Test set accuracy: 0.777\n",
            "Epoch: 18\n",
            "  Training set error: 0.446\n",
            "  Training set accuracy: 0.804\n",
            "  Test set error: 0.458\n",
            "  Test set accuracy: 0.776\n",
            "Epoch: 19\n",
            "  Training set error: 0.442\n",
            "  Training set accuracy: 0.792\n",
            "  Test set error: 0.462\n",
            "  Test set accuracy: 0.782\n"
          ]
        }
      ]
    },
    {
      "cell_type": "code",
      "source": [
        "epoch_range = np.arange(epochs) + 1  # Starting from 1\n",
        "\n",
        "# The training set metrics.\n",
        "training_metrics = {\n",
        "    \"accuracy\": np.asarray(store_training_accurate_pred) / len(training_images),\n",
        "    \"error\": np.asarray(store_training_loss) / len(training_images),\n",
        "}\n",
        "\n",
        "# The test set metrics.\n",
        "test_metrics = {\n",
        "    \"accuracy\": np.asarray(store_test_accurate_pred) / len(test_images),\n",
        "    \"error\": np.asarray(store_test_loss) / len(test_images),\n",
        "}\n",
        "\n",
        "# Display the plots.\n",
        "fig, axes = plt.subplots(nrows=1, ncols=2, figsize=(15, 5))\n",
        "for ax, metrics, title in zip(\n",
        "    axes, (training_metrics, test_metrics), (\"Training set\", \"Test set\")\n",
        "):\n",
        "    # Plot the metrics\n",
        "    for metric, values in metrics.items():\n",
        "        ax.plot(epoch_range, values, label=metric.capitalize())\n",
        "    ax.set_title(title)\n",
        "    ax.set_xlabel(\"Epochs\")\n",
        "    ax.legend()\n",
        "plt.show()"
      ],
      "metadata": {
        "colab": {
          "base_uri": "https://localhost:8080/",
          "height": 341
        },
        "id": "RElSKSRnVa3T",
        "outputId": "3698e72d-6559-4a79-c482-99d42000ba07"
      },
      "execution_count": 126,
      "outputs": [
        {
          "output_type": "display_data",
          "data": {
            "text/plain": [
              "<Figure size 1500x500 with 2 Axes>"
            ],
            "image/png": "[encoded data removed]"
          },
          "metadata": {}
        }
      ]
    }
  ]
}