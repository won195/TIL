{
  "nbformat": 4,
  "nbformat_minor": 0,
  "metadata": {
    "colab": {
      "provenance": [],
      "authorship_tag": "ABX9TyPUcqGombQdAdeDoEQDvKxh",
      "include_colab_link": true
    },
    "kernelspec": {
      "name": "python3",
      "display_name": "Python 3"
    },
    "language_info": {
      "name": "python"
    }
  },
  "cells": [
    {
      "cell_type": "markdown",
      "metadata": {
        "id": "view-in-github",
        "colab_type": "text"
      },
      "source": [
        "<a href=\"https://colab.research.google.com/github/won195/TIL/blob/master/%ED%85%90%EC%84%9C%ED%94%8C%EB%A1%9C%EC%9A%B0.ipynb\" target=\"_parent\"><img src=\"https://colab.research.google.com/assets/colab-badge.svg\" alt=\"Open In Colab\"/></a>"
      ]
    },
    {
      "cell_type": "code",
      "execution_count": 1,
      "metadata": {
        "id": "k93rqzsMXxOt"
      },
      "outputs": [],
      "source": [
        "import tensorflow as tf\n",
        "x = tf.ones(shape=(2,1))\n",
        "x"
      ]
    },
    {
      "cell_type": "code",
      "source": [
        "import numpy as np\n",
        "n = np.ones(shape=(2,1))\n",
        "print(f'{n}, shape={n.shape},dtype={n.dtype}')"
      ],
      "metadata": {
        "colab": {
          "base_uri": "https://localhost:8080/"
        },
        "id": "Y9cOEo6WYBsb",
        "outputId": "8c4bd184-e7f3-4698-d889-2cb994bca452"
      },
      "execution_count": 2,
      "outputs": [
        {
          "output_type": "stream",
          "name": "stdout",
          "text": [
            "[[1.]\n",
            " [1.]], shape=(2, 1),dtype=float64\n"
          ]
        }
      ]
    },
    {
      "cell_type": "code",
      "source": [
        "x = tf.zeros(shape=(2,1))\n",
        "x"
      ],
      "metadata": {
        "colab": {
          "base_uri": "https://localhost:8080/"
        },
        "id": "W5x_El49YdY9",
        "outputId": "a12037fa-0235-436b-c742-52a81567e22b"
      },
      "execution_count": 3,
      "outputs": [
        {
          "output_type": "execute_result",
          "data": {
            "text/plain": [
              "<tf.Tensor: shape=(2, 1), dtype=float32, numpy=\n",
              "array([[0.],\n",
              "       [0.]], dtype=float32)>"
            ]
          },
          "metadata": {},
          "execution_count": 3
        }
      ]
    },
    {
      "cell_type": "code",
      "source": [
        "n = np.zeros(shape=(2,1))\n",
        "print(f'{n}, shape={n.shape},dtype={n.dtype}')"
      ],
      "metadata": {
        "colab": {
          "base_uri": "https://localhost:8080/"
        },
        "id": "Rf3meMt3YndD",
        "outputId": "8555c535-ef6d-4795-946f-8ecc09ad1b49"
      },
      "execution_count": 4,
      "outputs": [
        {
          "output_type": "stream",
          "name": "stdout",
          "text": [
            "[[0.]\n",
            " [0.]], shape=(2, 1),dtype=float64\n"
          ]
        }
      ]
    },
    {
      "cell_type": "code",
      "source": [
        "# 랜덤 텐서\n",
        "\n",
        "x = tf.random.normal(shape=(3, 1), mean=0., stddev=1.)   # mean: 평균 / stddev: 표준편차\n",
        "print(x)\n",
        "\n",
        "x = tf.random.uniform(shape=(3, 1), minval=0., maxval=1.)  # minval: 최소값., maxval: 최대값\n",
        "print(x)"
      ],
      "metadata": {
        "colab": {
          "base_uri": "https://localhost:8080/"
        },
        "id": "73Avy7HkYtrj",
        "outputId": "c766ea8b-7c06-4637-c4df-7be6f2530988"
      },
      "execution_count": 15,
      "outputs": [
        {
          "output_type": "stream",
          "name": "stdout",
          "text": [
            "tf.Tensor(\n",
            "[[-0.9064317 ]\n",
            " [ 0.22730266]\n",
            " [ 1.5021167 ]], shape=(3, 1), dtype=float32)\n",
            "tf.Tensor(\n",
            "[[0.05790389]\n",
            " [0.7855625 ]\n",
            " [0.5748899 ]], shape=(3, 1), dtype=float32)\n"
          ]
        }
      ]
    },
    {
      "cell_type": "code",
      "source": [
        "# 텐서플로 변수 만들기\n",
        "\n",
        "v = tf.Variable(initial_value=tf.random.normal(shape=(3, 1)))    # tf.Variable(): 텐서값을 저장하는 변수, initial_value: 변수의 초기값 지정\n",
        "print(v)"
      ],
      "metadata": {
        "colab": {
          "base_uri": "https://localhost:8080/"
        },
        "id": "950r2N6eZG_0",
        "outputId": "330a187d-772d-4d45-f4e2-64d71d84e167"
      },
      "execution_count": 16,
      "outputs": [
        {
          "output_type": "stream",
          "name": "stdout",
          "text": [
            "<tf.Variable 'Variable:0' shape=(3, 1) dtype=float32, numpy=\n",
            "array([[-1.8177731],\n",
            "       [ 1.4223384],\n",
            "       [-1.3746146]], dtype=float32)>\n"
          ]
        }
      ]
    },
    {
      "cell_type": "code",
      "source": [
        "# 텐서에 변수값 할당\n",
        "\n",
        "v.assign(tf.ones((3, 1)))   # assign: 새로운 값 할당\n",
        "\n",
        "# tf.zeros(): 모든 원소가 0인 텐서 생성 함수\n",
        "# tf.ones(): 모든 원소가 1인 텐서 생성 함수\n",
        "# tf.fill(): 지정한 값으로 채워진 텐서 생성 함수\n",
        "# tf.constant(): 상수(constant) 값을 가지는 텐서 생성 함수\n",
        "# tf.add(): 두 개의 텐서를 더하는 함수\n",
        "# tf.subtract(): 두 개의 텐서를 빼는 함수\n",
        "# tf.multiply(): 두 개의 텐서를 곱하는 함수\n",
        "# tf.divide(): 두 개의 텐서를 나누는 함수"
      ],
      "metadata": {
        "colab": {
          "base_uri": "https://localhost:8080/"
        },
        "id": "lD0tIsXQZWMz",
        "outputId": "a7a1e5e8-26ad-46cb-e74d-3725255e4a7d"
      },
      "execution_count": 17,
      "outputs": [
        {
          "output_type": "execute_result",
          "data": {
            "text/plain": [
              "<tf.Variable 'UnreadVariable' shape=(3, 1) dtype=float32, numpy=\n",
              "array([[1.],\n",
              "       [1.],\n",
              "       [1.]], dtype=float32)>"
            ]
          },
          "metadata": {},
          "execution_count": 17
        }
      ]
    },
    {
      "cell_type": "code",
      "source": [
        "# 기존값에 +, -\n",
        "a = v.assign_add(tf.ones((3, 1)))\n",
        "print(a)\n",
        "b = v.assign_sub(tf.ones((3, 1)))\n",
        "print(b)"
      ],
      "metadata": {
        "colab": {
          "base_uri": "https://localhost:8080/"
        },
        "id": "x7EygwYWZfck",
        "outputId": "0479e32c-c9a5-4235-9161-a6fad3a046f2"
      },
      "execution_count": 18,
      "outputs": [
        {
          "output_type": "stream",
          "name": "stdout",
          "text": [
            "<tf.Variable 'UnreadVariable' shape=(3, 1) dtype=float32, numpy=\n",
            "array([[2.],\n",
            "       [2.],\n",
            "       [2.]], dtype=float32)>\n",
            "<tf.Variable 'UnreadVariable' shape=(3, 1) dtype=float32, numpy=\n",
            "array([[1.],\n",
            "       [1.],\n",
            "       [1.]], dtype=float32)>\n"
          ]
        }
      ]
    },
    {
      "cell_type": "code",
      "source": [
        "# 텐서플로우를 이용한 배열 생성\n",
        "t = tf.Variable(initial_value=[[1,2],[3,4]], dtype=tf.float32)\n",
        "t"
      ],
      "metadata": {
        "colab": {
          "base_uri": "https://localhost:8080/"
        },
        "id": "0HeDsn90Zw0j",
        "outputId": "d856d0b8-0097-439d-b24c-1005d7acd1e6"
      },
      "execution_count": 19,
      "outputs": [
        {
          "output_type": "execute_result",
          "data": {
            "text/plain": [
              "<tf.Variable 'Variable:0' shape=(2, 2) dtype=float32, numpy=\n",
              "array([[1., 2.],\n",
              "       [3., 4.]], dtype=float32)>"
            ]
          },
          "metadata": {},
          "execution_count": 19
        }
      ]
    },
    {
      "cell_type": "code",
      "source": [
        "# 텐서플로우의 연산\n",
        "b = tf.square(t)\n",
        "print(b)\n",
        "c = tf.sqrt(b)\n",
        "print(c)\n",
        "d = b + c\n",
        "e = b * c\n",
        "f = b / c "
      ],
      "metadata": {
        "colab": {
          "base_uri": "https://localhost:8080/"
        },
        "id": "pmNqpIw_aFsj",
        "outputId": "1a9aafe7-ff8d-4b48-da60-aa4ed8c32c99"
      },
      "execution_count": 20,
      "outputs": [
        {
          "output_type": "stream",
          "name": "stdout",
          "text": [
            "tf.Tensor(\n",
            "[[ 1.  4.]\n",
            " [ 9. 16.]], shape=(2, 2), dtype=float32)\n",
            "tf.Tensor(\n",
            "[[1. 2.]\n",
            " [3. 4.]], shape=(2, 2), dtype=float32)\n"
          ]
        }
      ]
    }
  ]
}