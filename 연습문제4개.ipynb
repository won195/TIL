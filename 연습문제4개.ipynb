{
  "nbformat": 4,
  "nbformat_minor": 0,
  "metadata": {
    "colab": {
      "provenance": [],
      "authorship_tag": "ABX9TyMEDe9MspIrsspX22knQCbh",
      "include_colab_link": true
    },
    "kernelspec": {
      "name": "python3",
      "display_name": "Python 3"
    },
    "language_info": {
      "name": "python"
    }
  },
  "cells": [
    {
      "cell_type": "markdown",
      "metadata": {
        "id": "view-in-github",
        "colab_type": "text"
      },
      "source": [
        "<a href=\"https://colab.research.google.com/github/won195/TIL/blob/master/%EC%97%B0%EC%8A%B5%EB%AC%B8%EC%A0%9C4%EA%B0%9C.ipynb\" target=\"_parent\"><img src=\"https://colab.research.google.com/assets/colab-badge.svg\" alt=\"Open In Colab\"/></a>"
      ]
    },
    {
      "cell_type": "code",
      "execution_count": 2,
      "metadata": {
        "colab": {
          "base_uri": "https://localhost:8080/"
        },
        "id": "4DcDPTAEFG2j",
        "outputId": "a014ee1a-80e7-4a4c-f9a1-bd69affbc08d"
      },
      "outputs": [
        {
          "output_type": "stream",
          "name": "stdout",
          "text": [
            "['a.txt', 'b.txt']\n",
            "['a.txt', 'b.txt', 'c.md']\n"
          ]
        }
      ],
      "source": [
        "sample =['a.txt','b.txt', 'c.md','d.jpg','e.doc']\n",
        "\n",
        "#1. txt파일만 골라 내기\n",
        "#2. txt파일과 md파일만 골라 내려면?\n",
        "\n",
        "txt_files = [file for file in sample if file.endswith('.txt')]\n",
        "\n",
        "print(txt_files) # ['a.txt', 'b.txt']\n",
        "\n",
        "text_and_md_files = [file for file in sample if file.endswith(('.txt', '.md'))]\n",
        "\n",
        "print(text_and_md_files) # ['a.txt', 'b.txt', 'c.md']"
      ]
    },
    {
      "cell_type": "code",
      "source": [
        "import os\n",
        "\n",
        "sample = ['a.txt', 'b.txt', 'c.md', 'd.jpg', 'e.doc']\n",
        "\n",
        "txt_files = []\n",
        "for file in sample:\n",
        "    if os.path.splitext(file)[1] == '.txt':\n",
        "        txt_files.append(file)\n",
        "\n",
        "print(txt_files)"
      ],
      "metadata": {
        "colab": {
          "base_uri": "https://localhost:8080/"
        },
        "id": "fQZLsOHAGK4w",
        "outputId": "a18c9a2f-e968-4670-dac4-e786000a0916"
      },
      "execution_count": 8,
      "outputs": [
        {
          "output_type": "stream",
          "name": "stdout",
          "text": [
            "['a.txt', 'b.txt']\n"
          ]
        }
      ]
    },
    {
      "cell_type": "code",
      "source": [
        "import os\n",
        "\n",
        "sample = ['a.txt', 'b.txt', 'c.md', 'd.jpg', 'e.doc']\n",
        "\n",
        "txt_md_files = []\n",
        "for file in sample:\n",
        "    ext = os.path.splitext(file)[1]\n",
        "    if ext == '.txt' or ext == '.md':\n",
        "        txt_md_files.append(file)\n",
        "\n",
        "print(txt_md_files)"
      ],
      "metadata": {
        "colab": {
          "base_uri": "https://localhost:8080/"
        },
        "id": "ij5D3yePGsV2",
        "outputId": "e6c97662-59ee-4956-b094-9f513621d213"
      },
      "execution_count": 9,
      "outputs": [
        {
          "output_type": "stream",
          "name": "stdout",
          "text": [
            "['a.txt', 'b.txt', 'c.md']\n"
          ]
        }
      ]
    },
    {
      "cell_type": "code",
      "source": [
        "def check_number(num):\n",
        "    if str(num)[-1] in ['3', '6', '9']:\n",
        "        return 'x'\n",
        "    else:\n",
        "        return num\n",
        "\n",
        "result = []\n",
        "for i in range(100):\n",
        "    result.append(check_number(i))\n",
        "\n",
        "print(result)"
      ],
      "metadata": {
        "colab": {
          "base_uri": "https://localhost:8080/"
        },
        "id": "0fCp7VnpGtB9",
        "outputId": "ae52a50b-f949-4900-9f4b-a17e13493582"
      },
      "execution_count": 7,
      "outputs": [
        {
          "output_type": "stream",
          "name": "stdout",
          "text": [
            "[0, 1, 2, 'x', 4, 5, 'x', 7, 8, 'x', 10, 11, 12, 'x', 14, 15, 'x', 17, 18, 'x', 20, 21, 22, 'x', 24, 25, 'x', 27, 28, 'x', 30, 31, 32, 'x', 34, 35, 'x', 37, 38, 'x', 40, 41, 42, 'x', 44, 45, 'x', 47, 48, 'x', 50, 51, 52, 'x', 54, 55, 'x', 57, 58, 'x', 60, 61, 62, 'x', 64, 65, 'x', 67, 68, 'x', 70, 71, 72, 'x', 74, 75, 'x', 77, 78, 'x', 80, 81, 82, 'x', 84, 85, 'x', 87, 88, 'x', 90, 91, 92, 'x', 94, 95, 'x', 97, 98, 'x']\n"
          ]
        }
      ]
    },
    {
      "cell_type": "code",
      "source": [
        "import random\n",
        "\n",
        "def check_lotto_numbers(my_numbers):\n",
        "    # 1부터 45까지의 숫자 중 6개를 랜덤하게 선택합니다.\n",
        "    lotto_numbers = random.sample(range(1, 46), 6)\n",
        "    \n",
        "    # 사용자가 입력한 번호를 리스트로 변환합니다.\n",
        "    my_numbers = my_numbers.replace(' ', '').split(',')\n",
        "    my_numbers = list(map(int, my_numbers))\n",
        "    \n",
        "    # 내 번호와 랜덤하게 선택한 6개의 숫자를 비교하여 맞은 번호의 개수를 세어 반환합니다.\n",
        "    count = 0\n",
        "    for number in my_numbers:\n",
        "        if number in lotto_numbers:\n",
        "            count += 1\n",
        "    \n",
        "    return count\n",
        "\n",
        "my_numbers = input(\"내 번호를 입력하세요 (쉼표로 구분): \")\n",
        "\n",
        "count = check_lotto_numbers(my_numbers)\n",
        "\n",
        "print(\"내 번호와 맞은 번호의 개수는 {}개 입니다.\".format(count))"
      ],
      "metadata": {
        "colab": {
          "base_uri": "https://localhost:8080/"
        },
        "id": "AXgm2g5QHNIv",
        "outputId": "0db46342-92a4-4d19-ab46-db30a75a8b56"
      },
      "execution_count": 13,
      "outputs": [
        {
          "output_type": "stream",
          "name": "stdout",
          "text": [
            "내 번호를 입력하세요 (쉼표로 구분): 2,8,12,43,25,16,34\n",
            "내 번호와 맞은 번호의 개수는 1개 입니다.\n"
          ]
        }
      ]
    },
    {
      "cell_type": "code",
      "source": [],
      "metadata": {
        "id": "5X0sZ_i2Ml4X"
      },
      "execution_count": null,
      "outputs": []
    }
  ]
}