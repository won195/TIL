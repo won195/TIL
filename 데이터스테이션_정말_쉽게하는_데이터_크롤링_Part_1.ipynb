{
  "nbformat": 4,
  "nbformat_minor": 0,
  "metadata": {
    "colab": {
      "provenance": [],
      "authorship_tag": "ABX9TyNQxKJmhxofMF6Tsvomo+/g",
      "include_colab_link": true
    },
    "kernelspec": {
      "name": "python3",
      "display_name": "Python 3"
    },
    "language_info": {
      "name": "python"
    }
  },
  "cells": [
    {
      "cell_type": "markdown",
      "metadata": {
        "id": "view-in-github",
        "colab_type": "text"
      },
      "source": [
        "<a href=\"https://colab.research.google.com/github/won195/TIL/blob/master/%EB%8D%B0%EC%9D%B4%ED%84%B0%EC%8A%A4%ED%85%8C%EC%9D%B4%EC%85%98_%EC%A0%95%EB%A7%90_%EC%89%BD%EA%B2%8C%ED%95%98%EB%8A%94_%EB%8D%B0%EC%9D%B4%ED%84%B0_%ED%81%AC%EB%A1%A4%EB%A7%81_Part_1.ipynb\" target=\"_parent\"><img src=\"https://colab.research.google.com/assets/colab-badge.svg\" alt=\"Open In Colab\"/></a>"
      ]
    },
    {
      "cell_type": "code",
      "execution_count": null,
      "metadata": {
        "id": "vR1dFt9nFnuq"
      },
      "outputs": [],
      "source": [
        "import numpy as np\n",
        "import pandas as pd\n",
        "import seaborn as sns\n",
        "import matplotlib as mpl  # 기본 설정\n",
        "import matplotlib.pyplot as plt  # 그래프 그리기\n",
        "import matplotlib.font_manager as fm  # 폰트 관리\n",
        "%matplotlib inline\n",
        "\n",
        "!apt-get update -qq         # apt-get 패키지 설치 명령어, -qq : 에러외 메세지 숨기기\n",
        "!apt-get install fonts-nanum* -qq #나눔글꼴 설치\n",
        "\n",
        "fe = fm.FontEntry(fname=r'/usr/share/fonts/truetype/nanum/NanumBarunGothic.ttf', name='NanumBarunGothic') #파일 저장되어있는 경로와 이름 설정\n",
        "fm.fontManager.ttflist.insert(0, fe)  # Matplotlib에 폰트 추가\n",
        "plt.rcParams.update({'font.size': 10, 'font.family': 'NanumBarunGothic'}) #폰트설정"
      ]
    },
    {
      "cell_type": "code",
      "source": [
        "!pip install selenium"
      ],
      "metadata": {
        "id": "CFfLj0jTMi6W"
      },
      "execution_count": null,
      "outputs": []
    },
    {
      "cell_type": "code",
      "source": [
        "from selenium import webdriver"
      ],
      "metadata": {
        "id": "G-FtFmCkMdb8"
      },
      "execution_count": null,
      "outputs": []
    },
    {
      "cell_type": "code",
      "source": [
        "driver = webdriver.Chrome('chromedriver')"
      ],
      "metadata": {
        "id": "hbTOYwijMr7V"
      },
      "execution_count": null,
      "outputs": []
    },
    {
      "cell_type": "code",
      "source": [
        "driver.quit()"
      ],
      "metadata": {
        "id": "0kS_T6RyM0Qe"
      },
      "execution_count": null,
      "outputs": []
    },
    {
      "cell_type": "markdown",
      "source": [
        "# E-mart"
      ],
      "metadata": {
        "id": "t40BigipQ5TI"
      }
    },
    {
      "cell_type": "code",
      "source": [
        "driver = webdriver.Chrome('chromedriver')\n",
        "driver.get(\"https://emart.ssg.com/\")"
      ],
      "metadata": {
        "id": "nxmndRK7Q5BM"
      },
      "execution_count": null,
      "outputs": []
    },
    {
      "cell_type": "code",
      "source": [
        "driver.find_element_by_xpath(\"//*[@id=\"skip_gnb\"]/div/div[1]/div/div/ul/li[10]/a\").click()"
      ],
      "metadata": {
        "id": "nFkLhPajVQiG"
      },
      "execution_count": null,
      "outputs": []
    },
    {
      "cell_type": "code",
      "source": [
        "driver.find_element_by_xpath(\"//*[@id=\"ty_thmb_view\"]/ul/li[1]/div/a/div[1]/span[2]\").text()"
      ],
      "metadata": {
        "id": "4P35d3K-fMEv"
      },
      "execution_count": null,
      "outputs": []
    },
    {
      "cell_type": "code",
      "source": [
        "driver.find_element_by_xpath(\"//*[@id=\"ty_thmb_view\"]/ul/li[1]/div/a/div[2]/div[1]/div/em\").text()"
      ],
      "metadata": {
        "id": "Iff9MCYMfzID"
      },
      "execution_count": null,
      "outputs": []
    },
    {
      "cell_type": "code",
      "source": [
        "//*[@id=\"ty_thmb_view\"]/ul/li[1]/div/a/div[1]/span[2]\n",
        "//*[@id=\"ty_thmb_view\"]/ul/li[1]/div/a/div[2]/div[1]/div/em"
      ],
      "metadata": {
        "id": "fotq9G7sfWQs"
      },
      "execution_count": null,
      "outputs": []
    },
    {
      "cell_type": "code",
      "source": [
        "for i in range(1,81):\n",
        "  product_name = driver.find_element_by_xpath('//*[@id=\"ty_thmb_view\"]/ul/li['+str(i)+']/div/a/div[1]/span[2]')\n",
        "  price = driver.find_element_by_xpath('//*[@id=\"ty_thmb_view\"]/ul/li['+str(i)+']/div/a/div[2]/div[1]/div/em')\n",
        "  product_list.append(product_name.text)\n",
        "  price_list.append(price.text)"
      ],
      "metadata": {
        "id": "lAVnwG325D7J"
      },
      "execution_count": null,
      "outputs": []
    },
    {
      "cell_type": "code",
      "source": [
        "df1 = pd.DataFrame({\"상품명\":product_list, \"가격\":price_list})"
      ],
      "metadata": {
        "id": "PjG8W41L7Kfi"
      },
      "execution_count": null,
      "outputs": []
    },
    {
      "cell_type": "code",
      "source": [
        "image1 = driver.find_element_by_xpath(\"//*[@id=\"ty_thmb_view\"]/ul/li[1]/div/div[1]/a/div/img\")"
      ],
      "metadata": {
        "id": "2hcp0RUoFDFi"
      },
      "execution_count": null,
      "outputs": []
    },
    {
      "cell_type": "code",
      "source": [
        "image1.get_attribute(\"src\")"
      ],
      "metadata": {
        "id": "__STemv9FDAE"
      },
      "execution_count": null,
      "outputs": []
    },
    {
      "cell_type": "code",
      "source": [
        "for i in range(1,81):\n",
        "  image1 = driver.find_element_by_xpath(\"//*[@id=\"ty_thmb_view\"]/ul/li['+str(i)+']/div/div[1]/a/div/img\")\n",
        "  image1_url = image1.get_attribute(\"src\")\n",
        "  print(image1_url)"
      ],
      "metadata": {
        "id": "FhhI287XFC-t"
      },
      "execution_count": null,
      "outputs": []
    },
    {
      "cell_type": "code",
      "source": [
        "import urlib.request"
      ],
      "metadata": {
        "id": "paKG6WcgFC7l"
      },
      "execution_count": null,
      "outputs": []
    },
    {
      "cell_type": "code",
      "source": [
        "for i in range(1,81):\n",
        "  image1 = driver.find_element_by_xpath(\"//*[@id=\"ty_thmb_view\"]/ul/li['+str(i)+']/div/div[1]/a/div/img\")\n",
        "  image1_url = image1.get_attribute(\"src\")\n",
        "  urlib.request.urlretrieve(img_url, 'img_data/img'+str(i)'.png')"
      ],
      "metadata": {
        "id": "QuDKlvEpfVHU"
      },
      "execution_count": null,
      "outputs": []
    },
    {
      "cell_type": "code",
      "source": [
        "driver.find_element_by_xpaht(\"//*[@id=\"area_itemlist\"]/div[2]/div/a[1]\").click()"
      ],
      "metadata": {
        "id": "BkWM3uTri07y"
      },
      "execution_count": null,
      "outputs": []
    },
    {
      "cell_type": "code",
      "source": [
        "driver.implicitly_wait(10)"
      ],
      "metadata": {
        "id": "ZNnP41gnoW-c"
      },
      "execution_count": null,
      "outputs": []
    },
    {
      "cell_type": "code",
      "source": [
        "product_list = []\n",
        "price_list = []\n",
        "\n",
        "for j in range(1,10):\n",
        "    for i in range(1,81):\n",
        "        try:\n",
        "          product_name = driver.find_element_by_xpath('//*[@id=\"ty_thmb_view\"]/ul/li['+str(i)+']/div/a/div[1]/span[2]')\n",
        "          price = driver.find_element_by_xpath('//*[@id=\"ty_thmb_view\"]/ul/li['+str(i)+']/div/a/div[2]/div[1]/div/em')\n",
        "          # image1 = driver.find_element_by_xpath(\"//*[@id=\"ty_thmb_view\"]/ul/li['+str(i)+']/div/div[1]/a/div/img\")\n",
        "          # image1_url = image1.get_attribute(\"src\")\n",
        "          # urlib.request.urlretrieve(img_url, 'image_data/'+str(j)+'img_data/img'+str(i)'.png')\n",
        "          product_list.append(product_name.text)\n",
        "          price_list.append(price.text)\n",
        "        except Exception as e :\n",
        "          print(e)\n",
        "\n",
        "        finally:\n",
        "          pass\n",
        "    driver.find_element_by_xpaht('//*[@id=\"area_itemlist\"]/div[2]/div/a['+str(j)+']').click()\n",
        "    print(j, 'page Done')\n",
        "driver.quit()"
      ],
      "metadata": {
        "id": "iuufm24SjSSR"
      },
      "execution_count": null,
      "outputs": []
    },
    {
      "cell_type": "code",
      "source": [
        "try:\n",
        "  print(\"\")\n",
        "except:\n",
        "  print(\"\")\n",
        "finally:\n",
        "  print(\"\")\n",
        "\n"
      ],
      "metadata": {
        "id": "EaoMq8pWjS2C"
      },
      "execution_count": null,
      "outputs": []
    }
  ]
}